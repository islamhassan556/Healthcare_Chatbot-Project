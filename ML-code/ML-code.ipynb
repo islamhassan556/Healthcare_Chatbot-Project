{
  "cells": [
    {
      "cell_type": "markdown",
      "metadata": {
        "id": "FJjnbLG9oOad"
      },
      "source": [
        "# **Import Libraries**"
      ]
    },
    {
      "cell_type": "code",
      "execution_count": null,
      "metadata": {
        "id": "SC4B6R52Lhtn"
      },
      "outputs": [],
      "source": [
        "# Basic Libraries\n",
        "import numpy as np\n",
        "import pandas as pd\n",
        "import sklearn\n",
        "import matplotlib.pyplot as plt\n",
        "import seaborn as sns\n",
        "\n",
        "# Necessary Libraries for Data Preparation\n",
        "import string\n",
        "import nltk\n",
        "\n",
        "from nltk.tokenize import word_tokenize\n",
        "from nltk.corpus import stopwords\n",
        "from nltk.stem import WordNetLemmatizer\n",
        "from nltk.corpus import wordnet\n",
        "\n",
        "from sklearn.utils import shuffle\n",
        "from sklearn.model_selection import train_test_split\n",
        "from sklearn.feature_extraction.text import TfidfVectorizer\n",
        "\n",
        "# Necessary Libraries for ML Models\n",
        "from sklearn.model_selection import GridSearchCV\n",
        "\n",
        "from sklearn.tree import DecisionTreeClassifier\n",
        "from sklearn.ensemble import RandomForestClassifier\n",
        "from sklearn.svm import SVC\n",
        "from sklearn.neighbors import KNeighborsClassifier\n",
        "\n",
        "# Necessary Libraries for Accuracy Measures\n",
        "from sklearn.metrics import accuracy_score\n",
        "from sklearn.metrics import confusion_matrix\n",
        "from sklearn.metrics import classification_report\n",
        "\n",
        "# Necessary Libraries for Deployment\n",
        "import joblib"
      ]
    },
    {
      "cell_type": "markdown",
      "metadata": {
        "id": "s2bPwDfbpL5U"
      },
      "source": [
        "**Download NLTK resources**"
      ]
    },
    {
      "cell_type": "code",
      "execution_count": null,
      "metadata": {
        "colab": {
          "base_uri": "https://localhost:8080/"
        },
        "id": "W7IXBKHXpMJj",
        "outputId": "d27a302e-8c6a-4b5f-c97e-93732087c31e"
      },
      "outputs": [
        {
          "output_type": "stream",
          "name": "stderr",
          "text": [
            "[nltk_data] Downloading package punkt to /root/nltk_data...\n",
            "[nltk_data]   Unzipping tokenizers/punkt.zip.\n",
            "[nltk_data] Downloading package stopwords to /root/nltk_data...\n",
            "[nltk_data]   Unzipping corpora/stopwords.zip.\n",
            "[nltk_data] Downloading package wordnet to /root/nltk_data...\n"
          ]
        },
        {
          "output_type": "execute_result",
          "data": {
            "text/plain": [
              "True"
            ]
          },
          "metadata": {},
          "execution_count": 2
        }
      ],
      "source": [
        "# download the Punkt tokenizer models\n",
        "nltk.download('punkt')\n",
        "\n",
        "# download a list of common stopwords\n",
        "nltk.download('stopwords')\n",
        "\n",
        "# download the WordNet lexical database\n",
        "nltk.download('wordnet')"
      ]
    },
    {
      "cell_type": "markdown",
      "metadata": {
        "id": "qFg5ZrRHpllT"
      },
      "source": [
        "# **Read the Data**"
      ]
    },
    {
      "cell_type": "code",
      "execution_count": null,
      "metadata": {
        "id": "sLE5lqF2plIk"
      },
      "outputs": [],
      "source": [
        "data = pd.read_csv('Symptom2Disease.csv')"
      ]
    },
    {
      "cell_type": "markdown",
      "metadata": {
        "id": "sY_8Clt6A9UE"
      },
      "source": [
        "# **Understand and Clean the Data**"
      ]
    },
    {
      "cell_type": "code",
      "execution_count": null,
      "metadata": {
        "colab": {
          "base_uri": "https://localhost:8080/",
          "height": 424
        },
        "id": "_u7Raf2cBDRh",
        "outputId": "d0d5faa7-dfb3-477f-fc70-fba2013daa20"
      },
      "outputs": [
        {
          "output_type": "execute_result",
          "data": {
            "text/plain": [
              "      Unnamed: 0      label                                               text\n",
              "0              0  Psoriasis  I have been encountering a skin hasty on my ar...\n",
              "1              1  Psoriasis  My skin has been peeling, particularly on my k...\n",
              "2              2  Psoriasis  I have been encountering joint torment in my f...\n",
              "3              3  Psoriasis  There's a silver like cleaning on my skin, par...\n",
              "4              4  Psoriasis  My nails have little marks or pits in them, an...\n",
              "...          ...        ...                                                ...\n",
              "3595        3595   diabetes  These strong desires and the need to urinate o...\n",
              "3596        3596   diabetes  I have trouble breathing, especially outside. ...\n",
              "3597        3597   diabetes  I find it difficult to breathe, especially out...\n",
              "3598        3598   diabetes  I constantly sneeze and have a dry cough. My i...\n",
              "3599        3599   diabetes  I have a dry cough and sneeze a lot. I have pa...\n",
              "\n",
              "[3600 rows x 3 columns]"
            ],
            "text/html": [
              "\n",
              "  <div id=\"df-ff87b994-ed77-497b-b963-79b9abb58c4b\" class=\"colab-df-container\">\n",
              "    <div>\n",
              "<style scoped>\n",
              "    .dataframe tbody tr th:only-of-type {\n",
              "        vertical-align: middle;\n",
              "    }\n",
              "\n",
              "    .dataframe tbody tr th {\n",
              "        vertical-align: top;\n",
              "    }\n",
              "\n",
              "    .dataframe thead th {\n",
              "        text-align: right;\n",
              "    }\n",
              "</style>\n",
              "<table border=\"1\" class=\"dataframe\">\n",
              "  <thead>\n",
              "    <tr style=\"text-align: right;\">\n",
              "      <th></th>\n",
              "      <th>Unnamed: 0</th>\n",
              "      <th>label</th>\n",
              "      <th>text</th>\n",
              "    </tr>\n",
              "  </thead>\n",
              "  <tbody>\n",
              "    <tr>\n",
              "      <th>0</th>\n",
              "      <td>0</td>\n",
              "      <td>Psoriasis</td>\n",
              "      <td>I have been encountering a skin hasty on my ar...</td>\n",
              "    </tr>\n",
              "    <tr>\n",
              "      <th>1</th>\n",
              "      <td>1</td>\n",
              "      <td>Psoriasis</td>\n",
              "      <td>My skin has been peeling, particularly on my k...</td>\n",
              "    </tr>\n",
              "    <tr>\n",
              "      <th>2</th>\n",
              "      <td>2</td>\n",
              "      <td>Psoriasis</td>\n",
              "      <td>I have been encountering joint torment in my f...</td>\n",
              "    </tr>\n",
              "    <tr>\n",
              "      <th>3</th>\n",
              "      <td>3</td>\n",
              "      <td>Psoriasis</td>\n",
              "      <td>There's a silver like cleaning on my skin, par...</td>\n",
              "    </tr>\n",
              "    <tr>\n",
              "      <th>4</th>\n",
              "      <td>4</td>\n",
              "      <td>Psoriasis</td>\n",
              "      <td>My nails have little marks or pits in them, an...</td>\n",
              "    </tr>\n",
              "    <tr>\n",
              "      <th>...</th>\n",
              "      <td>...</td>\n",
              "      <td>...</td>\n",
              "      <td>...</td>\n",
              "    </tr>\n",
              "    <tr>\n",
              "      <th>3595</th>\n",
              "      <td>3595</td>\n",
              "      <td>diabetes</td>\n",
              "      <td>These strong desires and the need to urinate o...</td>\n",
              "    </tr>\n",
              "    <tr>\n",
              "      <th>3596</th>\n",
              "      <td>3596</td>\n",
              "      <td>diabetes</td>\n",
              "      <td>I have trouble breathing, especially outside. ...</td>\n",
              "    </tr>\n",
              "    <tr>\n",
              "      <th>3597</th>\n",
              "      <td>3597</td>\n",
              "      <td>diabetes</td>\n",
              "      <td>I find it difficult to breathe, especially out...</td>\n",
              "    </tr>\n",
              "    <tr>\n",
              "      <th>3598</th>\n",
              "      <td>3598</td>\n",
              "      <td>diabetes</td>\n",
              "      <td>I constantly sneeze and have a dry cough. My i...</td>\n",
              "    </tr>\n",
              "    <tr>\n",
              "      <th>3599</th>\n",
              "      <td>3599</td>\n",
              "      <td>diabetes</td>\n",
              "      <td>I have a dry cough and sneeze a lot. I have pa...</td>\n",
              "    </tr>\n",
              "  </tbody>\n",
              "</table>\n",
              "<p>3600 rows × 3 columns</p>\n",
              "</div>\n",
              "    <div class=\"colab-df-buttons\">\n",
              "\n",
              "  <div class=\"colab-df-container\">\n",
              "    <button class=\"colab-df-convert\" onclick=\"convertToInteractive('df-ff87b994-ed77-497b-b963-79b9abb58c4b')\"\n",
              "            title=\"Convert this dataframe to an interactive table.\"\n",
              "            style=\"display:none;\">\n",
              "\n",
              "  <svg xmlns=\"http://www.w3.org/2000/svg\" height=\"24px\" viewBox=\"0 -960 960 960\">\n",
              "    <path d=\"M120-120v-720h720v720H120Zm60-500h600v-160H180v160Zm220 220h160v-160H400v160Zm0 220h160v-160H400v160ZM180-400h160v-160H180v160Zm440 0h160v-160H620v160ZM180-180h160v-160H180v160Zm440 0h160v-160H620v160Z\"/>\n",
              "  </svg>\n",
              "    </button>\n",
              "\n",
              "  <style>\n",
              "    .colab-df-container {\n",
              "      display:flex;\n",
              "      gap: 12px;\n",
              "    }\n",
              "\n",
              "    .colab-df-convert {\n",
              "      background-color: #E8F0FE;\n",
              "      border: none;\n",
              "      border-radius: 50%;\n",
              "      cursor: pointer;\n",
              "      display: none;\n",
              "      fill: #1967D2;\n",
              "      height: 32px;\n",
              "      padding: 0 0 0 0;\n",
              "      width: 32px;\n",
              "    }\n",
              "\n",
              "    .colab-df-convert:hover {\n",
              "      background-color: #E2EBFA;\n",
              "      box-shadow: 0px 1px 2px rgba(60, 64, 67, 0.3), 0px 1px 3px 1px rgba(60, 64, 67, 0.15);\n",
              "      fill: #174EA6;\n",
              "    }\n",
              "\n",
              "    .colab-df-buttons div {\n",
              "      margin-bottom: 4px;\n",
              "    }\n",
              "\n",
              "    [theme=dark] .colab-df-convert {\n",
              "      background-color: #3B4455;\n",
              "      fill: #D2E3FC;\n",
              "    }\n",
              "\n",
              "    [theme=dark] .colab-df-convert:hover {\n",
              "      background-color: #434B5C;\n",
              "      box-shadow: 0px 1px 3px 1px rgba(0, 0, 0, 0.15);\n",
              "      filter: drop-shadow(0px 1px 2px rgba(0, 0, 0, 0.3));\n",
              "      fill: #FFFFFF;\n",
              "    }\n",
              "  </style>\n",
              "\n",
              "    <script>\n",
              "      const buttonEl =\n",
              "        document.querySelector('#df-ff87b994-ed77-497b-b963-79b9abb58c4b button.colab-df-convert');\n",
              "      buttonEl.style.display =\n",
              "        google.colab.kernel.accessAllowed ? 'block' : 'none';\n",
              "\n",
              "      async function convertToInteractive(key) {\n",
              "        const element = document.querySelector('#df-ff87b994-ed77-497b-b963-79b9abb58c4b');\n",
              "        const dataTable =\n",
              "          await google.colab.kernel.invokeFunction('convertToInteractive',\n",
              "                                                    [key], {});\n",
              "        if (!dataTable) return;\n",
              "\n",
              "        const docLinkHtml = 'Like what you see? Visit the ' +\n",
              "          '<a target=\"_blank\" href=https://colab.research.google.com/notebooks/data_table.ipynb>data table notebook</a>'\n",
              "          + ' to learn more about interactive tables.';\n",
              "        element.innerHTML = '';\n",
              "        dataTable['output_type'] = 'display_data';\n",
              "        await google.colab.output.renderOutput(dataTable, element);\n",
              "        const docLink = document.createElement('div');\n",
              "        docLink.innerHTML = docLinkHtml;\n",
              "        element.appendChild(docLink);\n",
              "      }\n",
              "    </script>\n",
              "  </div>\n",
              "\n",
              "\n",
              "<div id=\"df-744361c3-9037-4436-9390-744bdac694ca\">\n",
              "  <button class=\"colab-df-quickchart\" onclick=\"quickchart('df-744361c3-9037-4436-9390-744bdac694ca')\"\n",
              "            title=\"Suggest charts\"\n",
              "            style=\"display:none;\">\n",
              "\n",
              "<svg xmlns=\"http://www.w3.org/2000/svg\" height=\"24px\"viewBox=\"0 0 24 24\"\n",
              "     width=\"24px\">\n",
              "    <g>\n",
              "        <path d=\"M19 3H5c-1.1 0-2 .9-2 2v14c0 1.1.9 2 2 2h14c1.1 0 2-.9 2-2V5c0-1.1-.9-2-2-2zM9 17H7v-7h2v7zm4 0h-2V7h2v10zm4 0h-2v-4h2v4z\"/>\n",
              "    </g>\n",
              "</svg>\n",
              "  </button>\n",
              "\n",
              "<style>\n",
              "  .colab-df-quickchart {\n",
              "      --bg-color: #E8F0FE;\n",
              "      --fill-color: #1967D2;\n",
              "      --hover-bg-color: #E2EBFA;\n",
              "      --hover-fill-color: #174EA6;\n",
              "      --disabled-fill-color: #AAA;\n",
              "      --disabled-bg-color: #DDD;\n",
              "  }\n",
              "\n",
              "  [theme=dark] .colab-df-quickchart {\n",
              "      --bg-color: #3B4455;\n",
              "      --fill-color: #D2E3FC;\n",
              "      --hover-bg-color: #434B5C;\n",
              "      --hover-fill-color: #FFFFFF;\n",
              "      --disabled-bg-color: #3B4455;\n",
              "      --disabled-fill-color: #666;\n",
              "  }\n",
              "\n",
              "  .colab-df-quickchart {\n",
              "    background-color: var(--bg-color);\n",
              "    border: none;\n",
              "    border-radius: 50%;\n",
              "    cursor: pointer;\n",
              "    display: none;\n",
              "    fill: var(--fill-color);\n",
              "    height: 32px;\n",
              "    padding: 0;\n",
              "    width: 32px;\n",
              "  }\n",
              "\n",
              "  .colab-df-quickchart:hover {\n",
              "    background-color: var(--hover-bg-color);\n",
              "    box-shadow: 0 1px 2px rgba(60, 64, 67, 0.3), 0 1px 3px 1px rgba(60, 64, 67, 0.15);\n",
              "    fill: var(--button-hover-fill-color);\n",
              "  }\n",
              "\n",
              "  .colab-df-quickchart-complete:disabled,\n",
              "  .colab-df-quickchart-complete:disabled:hover {\n",
              "    background-color: var(--disabled-bg-color);\n",
              "    fill: var(--disabled-fill-color);\n",
              "    box-shadow: none;\n",
              "  }\n",
              "\n",
              "  .colab-df-spinner {\n",
              "    border: 2px solid var(--fill-color);\n",
              "    border-color: transparent;\n",
              "    border-bottom-color: var(--fill-color);\n",
              "    animation:\n",
              "      spin 1s steps(1) infinite;\n",
              "  }\n",
              "\n",
              "  @keyframes spin {\n",
              "    0% {\n",
              "      border-color: transparent;\n",
              "      border-bottom-color: var(--fill-color);\n",
              "      border-left-color: var(--fill-color);\n",
              "    }\n",
              "    20% {\n",
              "      border-color: transparent;\n",
              "      border-left-color: var(--fill-color);\n",
              "      border-top-color: var(--fill-color);\n",
              "    }\n",
              "    30% {\n",
              "      border-color: transparent;\n",
              "      border-left-color: var(--fill-color);\n",
              "      border-top-color: var(--fill-color);\n",
              "      border-right-color: var(--fill-color);\n",
              "    }\n",
              "    40% {\n",
              "      border-color: transparent;\n",
              "      border-right-color: var(--fill-color);\n",
              "      border-top-color: var(--fill-color);\n",
              "    }\n",
              "    60% {\n",
              "      border-color: transparent;\n",
              "      border-right-color: var(--fill-color);\n",
              "    }\n",
              "    80% {\n",
              "      border-color: transparent;\n",
              "      border-right-color: var(--fill-color);\n",
              "      border-bottom-color: var(--fill-color);\n",
              "    }\n",
              "    90% {\n",
              "      border-color: transparent;\n",
              "      border-bottom-color: var(--fill-color);\n",
              "    }\n",
              "  }\n",
              "</style>\n",
              "\n",
              "  <script>\n",
              "    async function quickchart(key) {\n",
              "      const quickchartButtonEl =\n",
              "        document.querySelector('#' + key + ' button');\n",
              "      quickchartButtonEl.disabled = true;  // To prevent multiple clicks.\n",
              "      quickchartButtonEl.classList.add('colab-df-spinner');\n",
              "      try {\n",
              "        const charts = await google.colab.kernel.invokeFunction(\n",
              "            'suggestCharts', [key], {});\n",
              "      } catch (error) {\n",
              "        console.error('Error during call to suggestCharts:', error);\n",
              "      }\n",
              "      quickchartButtonEl.classList.remove('colab-df-spinner');\n",
              "      quickchartButtonEl.classList.add('colab-df-quickchart-complete');\n",
              "    }\n",
              "    (() => {\n",
              "      let quickchartButtonEl =\n",
              "        document.querySelector('#df-744361c3-9037-4436-9390-744bdac694ca button');\n",
              "      quickchartButtonEl.style.display =\n",
              "        google.colab.kernel.accessAllowed ? 'block' : 'none';\n",
              "    })();\n",
              "  </script>\n",
              "</div>\n",
              "\n",
              "  <div id=\"id_f6c3a7d7-9b71-4801-aba2-3fe21c3c7c59\">\n",
              "    <style>\n",
              "      .colab-df-generate {\n",
              "        background-color: #E8F0FE;\n",
              "        border: none;\n",
              "        border-radius: 50%;\n",
              "        cursor: pointer;\n",
              "        display: none;\n",
              "        fill: #1967D2;\n",
              "        height: 32px;\n",
              "        padding: 0 0 0 0;\n",
              "        width: 32px;\n",
              "      }\n",
              "\n",
              "      .colab-df-generate:hover {\n",
              "        background-color: #E2EBFA;\n",
              "        box-shadow: 0px 1px 2px rgba(60, 64, 67, 0.3), 0px 1px 3px 1px rgba(60, 64, 67, 0.15);\n",
              "        fill: #174EA6;\n",
              "      }\n",
              "\n",
              "      [theme=dark] .colab-df-generate {\n",
              "        background-color: #3B4455;\n",
              "        fill: #D2E3FC;\n",
              "      }\n",
              "\n",
              "      [theme=dark] .colab-df-generate:hover {\n",
              "        background-color: #434B5C;\n",
              "        box-shadow: 0px 1px 3px 1px rgba(0, 0, 0, 0.15);\n",
              "        filter: drop-shadow(0px 1px 2px rgba(0, 0, 0, 0.3));\n",
              "        fill: #FFFFFF;\n",
              "      }\n",
              "    </style>\n",
              "    <button class=\"colab-df-generate\" onclick=\"generateWithVariable('data')\"\n",
              "            title=\"Generate code using this dataframe.\"\n",
              "            style=\"display:none;\">\n",
              "\n",
              "  <svg xmlns=\"http://www.w3.org/2000/svg\" height=\"24px\"viewBox=\"0 0 24 24\"\n",
              "       width=\"24px\">\n",
              "    <path d=\"M7,19H8.4L18.45,9,17,7.55,7,17.6ZM5,21V16.75L18.45,3.32a2,2,0,0,1,2.83,0l1.4,1.43a1.91,1.91,0,0,1,.58,1.4,1.91,1.91,0,0,1-.58,1.4L9.25,21ZM18.45,9,17,7.55Zm-12,3A5.31,5.31,0,0,0,4.9,8.1,5.31,5.31,0,0,0,1,6.5,5.31,5.31,0,0,0,4.9,4.9,5.31,5.31,0,0,0,6.5,1,5.31,5.31,0,0,0,8.1,4.9,5.31,5.31,0,0,0,12,6.5,5.46,5.46,0,0,0,6.5,12Z\"/>\n",
              "  </svg>\n",
              "    </button>\n",
              "    <script>\n",
              "      (() => {\n",
              "      const buttonEl =\n",
              "        document.querySelector('#id_f6c3a7d7-9b71-4801-aba2-3fe21c3c7c59 button.colab-df-generate');\n",
              "      buttonEl.style.display =\n",
              "        google.colab.kernel.accessAllowed ? 'block' : 'none';\n",
              "\n",
              "      buttonEl.onclick = () => {\n",
              "        google.colab.notebook.generateWithVariable('data');\n",
              "      }\n",
              "      })();\n",
              "    </script>\n",
              "  </div>\n",
              "\n",
              "    </div>\n",
              "  </div>\n"
            ],
            "application/vnd.google.colaboratory.intrinsic+json": {
              "type": "dataframe",
              "variable_name": "data",
              "summary": "{\n  \"name\": \"data\",\n  \"rows\": 3600,\n  \"fields\": [\n    {\n      \"column\": \"Unnamed: 0\",\n      \"properties\": {\n        \"dtype\": \"number\",\n        \"std\": 1039,\n        \"min\": 0,\n        \"max\": 3599,\n        \"num_unique_values\": 3600,\n        \"samples\": [\n          1340,\n          1601,\n          3549\n        ],\n        \"semantic_type\": \"\",\n        \"description\": \"\"\n      }\n    },\n    {\n      \"column\": \"label\",\n      \"properties\": {\n        \"dtype\": \"category\",\n        \"num_unique_values\": 24,\n        \"samples\": [\n          \"Pneumonia\",\n          \"Jaundice\",\n          \"Psoriasis\"\n        ],\n        \"semantic_type\": \"\",\n        \"description\": \"\"\n      }\n    },\n    {\n      \"column\": \"text\",\n      \"properties\": {\n        \"dtype\": \"string\",\n        \"num_unique_values\": 3510,\n        \"samples\": [\n          \"My monthly cycle has changed, and I've had an unexpected vaginal discharge. I occasionally lose my temper, and my moods change a lot.\",\n          \"I've been dealing with substantial bloating and constipation, causing significant discomfort. There's a sensation of increased pressure and pain in my abdominal area.\",\n          \"I have been getting blood in my pee. Sometimes I get nauseous while peeing. This often almost coincides with me having a high temperature\"\n        ],\n        \"semantic_type\": \"\",\n        \"description\": \"\"\n      }\n    }\n  ]\n}"
            }
          },
          "metadata": {},
          "execution_count": 4
        }
      ],
      "source": [
        "data"
      ]
    },
    {
      "cell_type": "code",
      "execution_count": null,
      "metadata": {
        "colab": {
          "base_uri": "https://localhost:8080/",
          "height": 424
        },
        "id": "sMJyZ72LCI51",
        "outputId": "bc78c65f-fb7c-49dd-9c75-d6408dcfbe1a"
      },
      "outputs": [
        {
          "output_type": "execute_result",
          "data": {
            "text/plain": [
              "          label                                               text\n",
              "0     Psoriasis  I have been encountering a skin hasty on my ar...\n",
              "1     Psoriasis  My skin has been peeling, particularly on my k...\n",
              "2     Psoriasis  I have been encountering joint torment in my f...\n",
              "3     Psoriasis  There's a silver like cleaning on my skin, par...\n",
              "4     Psoriasis  My nails have little marks or pits in them, an...\n",
              "...         ...                                                ...\n",
              "3595   diabetes  These strong desires and the need to urinate o...\n",
              "3596   diabetes  I have trouble breathing, especially outside. ...\n",
              "3597   diabetes  I find it difficult to breathe, especially out...\n",
              "3598   diabetes  I constantly sneeze and have a dry cough. My i...\n",
              "3599   diabetes  I have a dry cough and sneeze a lot. I have pa...\n",
              "\n",
              "[3600 rows x 2 columns]"
            ],
            "text/html": [
              "\n",
              "  <div id=\"df-c0305561-246c-47c3-a3f7-6a5fee6bea90\" class=\"colab-df-container\">\n",
              "    <div>\n",
              "<style scoped>\n",
              "    .dataframe tbody tr th:only-of-type {\n",
              "        vertical-align: middle;\n",
              "    }\n",
              "\n",
              "    .dataframe tbody tr th {\n",
              "        vertical-align: top;\n",
              "    }\n",
              "\n",
              "    .dataframe thead th {\n",
              "        text-align: right;\n",
              "    }\n",
              "</style>\n",
              "<table border=\"1\" class=\"dataframe\">\n",
              "  <thead>\n",
              "    <tr style=\"text-align: right;\">\n",
              "      <th></th>\n",
              "      <th>label</th>\n",
              "      <th>text</th>\n",
              "    </tr>\n",
              "  </thead>\n",
              "  <tbody>\n",
              "    <tr>\n",
              "      <th>0</th>\n",
              "      <td>Psoriasis</td>\n",
              "      <td>I have been encountering a skin hasty on my ar...</td>\n",
              "    </tr>\n",
              "    <tr>\n",
              "      <th>1</th>\n",
              "      <td>Psoriasis</td>\n",
              "      <td>My skin has been peeling, particularly on my k...</td>\n",
              "    </tr>\n",
              "    <tr>\n",
              "      <th>2</th>\n",
              "      <td>Psoriasis</td>\n",
              "      <td>I have been encountering joint torment in my f...</td>\n",
              "    </tr>\n",
              "    <tr>\n",
              "      <th>3</th>\n",
              "      <td>Psoriasis</td>\n",
              "      <td>There's a silver like cleaning on my skin, par...</td>\n",
              "    </tr>\n",
              "    <tr>\n",
              "      <th>4</th>\n",
              "      <td>Psoriasis</td>\n",
              "      <td>My nails have little marks or pits in them, an...</td>\n",
              "    </tr>\n",
              "    <tr>\n",
              "      <th>...</th>\n",
              "      <td>...</td>\n",
              "      <td>...</td>\n",
              "    </tr>\n",
              "    <tr>\n",
              "      <th>3595</th>\n",
              "      <td>diabetes</td>\n",
              "      <td>These strong desires and the need to urinate o...</td>\n",
              "    </tr>\n",
              "    <tr>\n",
              "      <th>3596</th>\n",
              "      <td>diabetes</td>\n",
              "      <td>I have trouble breathing, especially outside. ...</td>\n",
              "    </tr>\n",
              "    <tr>\n",
              "      <th>3597</th>\n",
              "      <td>diabetes</td>\n",
              "      <td>I find it difficult to breathe, especially out...</td>\n",
              "    </tr>\n",
              "    <tr>\n",
              "      <th>3598</th>\n",
              "      <td>diabetes</td>\n",
              "      <td>I constantly sneeze and have a dry cough. My i...</td>\n",
              "    </tr>\n",
              "    <tr>\n",
              "      <th>3599</th>\n",
              "      <td>diabetes</td>\n",
              "      <td>I have a dry cough and sneeze a lot. I have pa...</td>\n",
              "    </tr>\n",
              "  </tbody>\n",
              "</table>\n",
              "<p>3600 rows × 2 columns</p>\n",
              "</div>\n",
              "    <div class=\"colab-df-buttons\">\n",
              "\n",
              "  <div class=\"colab-df-container\">\n",
              "    <button class=\"colab-df-convert\" onclick=\"convertToInteractive('df-c0305561-246c-47c3-a3f7-6a5fee6bea90')\"\n",
              "            title=\"Convert this dataframe to an interactive table.\"\n",
              "            style=\"display:none;\">\n",
              "\n",
              "  <svg xmlns=\"http://www.w3.org/2000/svg\" height=\"24px\" viewBox=\"0 -960 960 960\">\n",
              "    <path d=\"M120-120v-720h720v720H120Zm60-500h600v-160H180v160Zm220 220h160v-160H400v160Zm0 220h160v-160H400v160ZM180-400h160v-160H180v160Zm440 0h160v-160H620v160ZM180-180h160v-160H180v160Zm440 0h160v-160H620v160Z\"/>\n",
              "  </svg>\n",
              "    </button>\n",
              "\n",
              "  <style>\n",
              "    .colab-df-container {\n",
              "      display:flex;\n",
              "      gap: 12px;\n",
              "    }\n",
              "\n",
              "    .colab-df-convert {\n",
              "      background-color: #E8F0FE;\n",
              "      border: none;\n",
              "      border-radius: 50%;\n",
              "      cursor: pointer;\n",
              "      display: none;\n",
              "      fill: #1967D2;\n",
              "      height: 32px;\n",
              "      padding: 0 0 0 0;\n",
              "      width: 32px;\n",
              "    }\n",
              "\n",
              "    .colab-df-convert:hover {\n",
              "      background-color: #E2EBFA;\n",
              "      box-shadow: 0px 1px 2px rgba(60, 64, 67, 0.3), 0px 1px 3px 1px rgba(60, 64, 67, 0.15);\n",
              "      fill: #174EA6;\n",
              "    }\n",
              "\n",
              "    .colab-df-buttons div {\n",
              "      margin-bottom: 4px;\n",
              "    }\n",
              "\n",
              "    [theme=dark] .colab-df-convert {\n",
              "      background-color: #3B4455;\n",
              "      fill: #D2E3FC;\n",
              "    }\n",
              "\n",
              "    [theme=dark] .colab-df-convert:hover {\n",
              "      background-color: #434B5C;\n",
              "      box-shadow: 0px 1px 3px 1px rgba(0, 0, 0, 0.15);\n",
              "      filter: drop-shadow(0px 1px 2px rgba(0, 0, 0, 0.3));\n",
              "      fill: #FFFFFF;\n",
              "    }\n",
              "  </style>\n",
              "\n",
              "    <script>\n",
              "      const buttonEl =\n",
              "        document.querySelector('#df-c0305561-246c-47c3-a3f7-6a5fee6bea90 button.colab-df-convert');\n",
              "      buttonEl.style.display =\n",
              "        google.colab.kernel.accessAllowed ? 'block' : 'none';\n",
              "\n",
              "      async function convertToInteractive(key) {\n",
              "        const element = document.querySelector('#df-c0305561-246c-47c3-a3f7-6a5fee6bea90');\n",
              "        const dataTable =\n",
              "          await google.colab.kernel.invokeFunction('convertToInteractive',\n",
              "                                                    [key], {});\n",
              "        if (!dataTable) return;\n",
              "\n",
              "        const docLinkHtml = 'Like what you see? Visit the ' +\n",
              "          '<a target=\"_blank\" href=https://colab.research.google.com/notebooks/data_table.ipynb>data table notebook</a>'\n",
              "          + ' to learn more about interactive tables.';\n",
              "        element.innerHTML = '';\n",
              "        dataTable['output_type'] = 'display_data';\n",
              "        await google.colab.output.renderOutput(dataTable, element);\n",
              "        const docLink = document.createElement('div');\n",
              "        docLink.innerHTML = docLinkHtml;\n",
              "        element.appendChild(docLink);\n",
              "      }\n",
              "    </script>\n",
              "  </div>\n",
              "\n",
              "\n",
              "<div id=\"df-edb8ce62-5b6f-460f-ab8d-878c2c536359\">\n",
              "  <button class=\"colab-df-quickchart\" onclick=\"quickchart('df-edb8ce62-5b6f-460f-ab8d-878c2c536359')\"\n",
              "            title=\"Suggest charts\"\n",
              "            style=\"display:none;\">\n",
              "\n",
              "<svg xmlns=\"http://www.w3.org/2000/svg\" height=\"24px\"viewBox=\"0 0 24 24\"\n",
              "     width=\"24px\">\n",
              "    <g>\n",
              "        <path d=\"M19 3H5c-1.1 0-2 .9-2 2v14c0 1.1.9 2 2 2h14c1.1 0 2-.9 2-2V5c0-1.1-.9-2-2-2zM9 17H7v-7h2v7zm4 0h-2V7h2v10zm4 0h-2v-4h2v4z\"/>\n",
              "    </g>\n",
              "</svg>\n",
              "  </button>\n",
              "\n",
              "<style>\n",
              "  .colab-df-quickchart {\n",
              "      --bg-color: #E8F0FE;\n",
              "      --fill-color: #1967D2;\n",
              "      --hover-bg-color: #E2EBFA;\n",
              "      --hover-fill-color: #174EA6;\n",
              "      --disabled-fill-color: #AAA;\n",
              "      --disabled-bg-color: #DDD;\n",
              "  }\n",
              "\n",
              "  [theme=dark] .colab-df-quickchart {\n",
              "      --bg-color: #3B4455;\n",
              "      --fill-color: #D2E3FC;\n",
              "      --hover-bg-color: #434B5C;\n",
              "      --hover-fill-color: #FFFFFF;\n",
              "      --disabled-bg-color: #3B4455;\n",
              "      --disabled-fill-color: #666;\n",
              "  }\n",
              "\n",
              "  .colab-df-quickchart {\n",
              "    background-color: var(--bg-color);\n",
              "    border: none;\n",
              "    border-radius: 50%;\n",
              "    cursor: pointer;\n",
              "    display: none;\n",
              "    fill: var(--fill-color);\n",
              "    height: 32px;\n",
              "    padding: 0;\n",
              "    width: 32px;\n",
              "  }\n",
              "\n",
              "  .colab-df-quickchart:hover {\n",
              "    background-color: var(--hover-bg-color);\n",
              "    box-shadow: 0 1px 2px rgba(60, 64, 67, 0.3), 0 1px 3px 1px rgba(60, 64, 67, 0.15);\n",
              "    fill: var(--button-hover-fill-color);\n",
              "  }\n",
              "\n",
              "  .colab-df-quickchart-complete:disabled,\n",
              "  .colab-df-quickchart-complete:disabled:hover {\n",
              "    background-color: var(--disabled-bg-color);\n",
              "    fill: var(--disabled-fill-color);\n",
              "    box-shadow: none;\n",
              "  }\n",
              "\n",
              "  .colab-df-spinner {\n",
              "    border: 2px solid var(--fill-color);\n",
              "    border-color: transparent;\n",
              "    border-bottom-color: var(--fill-color);\n",
              "    animation:\n",
              "      spin 1s steps(1) infinite;\n",
              "  }\n",
              "\n",
              "  @keyframes spin {\n",
              "    0% {\n",
              "      border-color: transparent;\n",
              "      border-bottom-color: var(--fill-color);\n",
              "      border-left-color: var(--fill-color);\n",
              "    }\n",
              "    20% {\n",
              "      border-color: transparent;\n",
              "      border-left-color: var(--fill-color);\n",
              "      border-top-color: var(--fill-color);\n",
              "    }\n",
              "    30% {\n",
              "      border-color: transparent;\n",
              "      border-left-color: var(--fill-color);\n",
              "      border-top-color: var(--fill-color);\n",
              "      border-right-color: var(--fill-color);\n",
              "    }\n",
              "    40% {\n",
              "      border-color: transparent;\n",
              "      border-right-color: var(--fill-color);\n",
              "      border-top-color: var(--fill-color);\n",
              "    }\n",
              "    60% {\n",
              "      border-color: transparent;\n",
              "      border-right-color: var(--fill-color);\n",
              "    }\n",
              "    80% {\n",
              "      border-color: transparent;\n",
              "      border-right-color: var(--fill-color);\n",
              "      border-bottom-color: var(--fill-color);\n",
              "    }\n",
              "    90% {\n",
              "      border-color: transparent;\n",
              "      border-bottom-color: var(--fill-color);\n",
              "    }\n",
              "  }\n",
              "</style>\n",
              "\n",
              "  <script>\n",
              "    async function quickchart(key) {\n",
              "      const quickchartButtonEl =\n",
              "        document.querySelector('#' + key + ' button');\n",
              "      quickchartButtonEl.disabled = true;  // To prevent multiple clicks.\n",
              "      quickchartButtonEl.classList.add('colab-df-spinner');\n",
              "      try {\n",
              "        const charts = await google.colab.kernel.invokeFunction(\n",
              "            'suggestCharts', [key], {});\n",
              "      } catch (error) {\n",
              "        console.error('Error during call to suggestCharts:', error);\n",
              "      }\n",
              "      quickchartButtonEl.classList.remove('colab-df-spinner');\n",
              "      quickchartButtonEl.classList.add('colab-df-quickchart-complete');\n",
              "    }\n",
              "    (() => {\n",
              "      let quickchartButtonEl =\n",
              "        document.querySelector('#df-edb8ce62-5b6f-460f-ab8d-878c2c536359 button');\n",
              "      quickchartButtonEl.style.display =\n",
              "        google.colab.kernel.accessAllowed ? 'block' : 'none';\n",
              "    })();\n",
              "  </script>\n",
              "</div>\n",
              "\n",
              "  <div id=\"id_eaa87c8d-434e-4025-8db9-bbb09be0278b\">\n",
              "    <style>\n",
              "      .colab-df-generate {\n",
              "        background-color: #E8F0FE;\n",
              "        border: none;\n",
              "        border-radius: 50%;\n",
              "        cursor: pointer;\n",
              "        display: none;\n",
              "        fill: #1967D2;\n",
              "        height: 32px;\n",
              "        padding: 0 0 0 0;\n",
              "        width: 32px;\n",
              "      }\n",
              "\n",
              "      .colab-df-generate:hover {\n",
              "        background-color: #E2EBFA;\n",
              "        box-shadow: 0px 1px 2px rgba(60, 64, 67, 0.3), 0px 1px 3px 1px rgba(60, 64, 67, 0.15);\n",
              "        fill: #174EA6;\n",
              "      }\n",
              "\n",
              "      [theme=dark] .colab-df-generate {\n",
              "        background-color: #3B4455;\n",
              "        fill: #D2E3FC;\n",
              "      }\n",
              "\n",
              "      [theme=dark] .colab-df-generate:hover {\n",
              "        background-color: #434B5C;\n",
              "        box-shadow: 0px 1px 3px 1px rgba(0, 0, 0, 0.15);\n",
              "        filter: drop-shadow(0px 1px 2px rgba(0, 0, 0, 0.3));\n",
              "        fill: #FFFFFF;\n",
              "      }\n",
              "    </style>\n",
              "    <button class=\"colab-df-generate\" onclick=\"generateWithVariable('data')\"\n",
              "            title=\"Generate code using this dataframe.\"\n",
              "            style=\"display:none;\">\n",
              "\n",
              "  <svg xmlns=\"http://www.w3.org/2000/svg\" height=\"24px\"viewBox=\"0 0 24 24\"\n",
              "       width=\"24px\">\n",
              "    <path d=\"M7,19H8.4L18.45,9,17,7.55,7,17.6ZM5,21V16.75L18.45,3.32a2,2,0,0,1,2.83,0l1.4,1.43a1.91,1.91,0,0,1,.58,1.4,1.91,1.91,0,0,1-.58,1.4L9.25,21ZM18.45,9,17,7.55Zm-12,3A5.31,5.31,0,0,0,4.9,8.1,5.31,5.31,0,0,0,1,6.5,5.31,5.31,0,0,0,4.9,4.9,5.31,5.31,0,0,0,6.5,1,5.31,5.31,0,0,0,8.1,4.9,5.31,5.31,0,0,0,12,6.5,5.46,5.46,0,0,0,6.5,12Z\"/>\n",
              "  </svg>\n",
              "    </button>\n",
              "    <script>\n",
              "      (() => {\n",
              "      const buttonEl =\n",
              "        document.querySelector('#id_eaa87c8d-434e-4025-8db9-bbb09be0278b button.colab-df-generate');\n",
              "      buttonEl.style.display =\n",
              "        google.colab.kernel.accessAllowed ? 'block' : 'none';\n",
              "\n",
              "      buttonEl.onclick = () => {\n",
              "        google.colab.notebook.generateWithVariable('data');\n",
              "      }\n",
              "      })();\n",
              "    </script>\n",
              "  </div>\n",
              "\n",
              "    </div>\n",
              "  </div>\n"
            ],
            "application/vnd.google.colaboratory.intrinsic+json": {
              "type": "dataframe",
              "variable_name": "data",
              "summary": "{\n  \"name\": \"data\",\n  \"rows\": 3600,\n  \"fields\": [\n    {\n      \"column\": \"label\",\n      \"properties\": {\n        \"dtype\": \"category\",\n        \"num_unique_values\": 24,\n        \"samples\": [\n          \"Pneumonia\",\n          \"Jaundice\",\n          \"Psoriasis\"\n        ],\n        \"semantic_type\": \"\",\n        \"description\": \"\"\n      }\n    },\n    {\n      \"column\": \"text\",\n      \"properties\": {\n        \"dtype\": \"string\",\n        \"num_unique_values\": 3510,\n        \"samples\": [\n          \"My monthly cycle has changed, and I've had an unexpected vaginal discharge. I occasionally lose my temper, and my moods change a lot.\",\n          \"I've been dealing with substantial bloating and constipation, causing significant discomfort. There's a sensation of increased pressure and pain in my abdominal area.\",\n          \"I have been getting blood in my pee. Sometimes I get nauseous while peeing. This often almost coincides with me having a high temperature\"\n        ],\n        \"semantic_type\": \"\",\n        \"description\": \"\"\n      }\n    }\n  ]\n}"
            }
          },
          "metadata": {},
          "execution_count": 5
        }
      ],
      "source": [
        "# Drop the 'Unnamed: 0' column\n",
        "data.drop(columns = [\"Unnamed: 0\"], inplace = True)\n",
        "data"
      ]
    },
    {
      "cell_type": "code",
      "execution_count": null,
      "metadata": {
        "colab": {
          "base_uri": "https://localhost:8080/"
        },
        "id": "8Bf6JRc6CzR1",
        "outputId": "70c12a0a-2957-4ce3-dc7c-a4298fb384a3"
      },
      "outputs": [
        {
          "output_type": "stream",
          "name": "stdout",
          "text": [
            "<class 'pandas.core.frame.DataFrame'>\n",
            "RangeIndex: 3600 entries, 0 to 3599\n",
            "Data columns (total 2 columns):\n",
            " #   Column  Non-Null Count  Dtype \n",
            "---  ------  --------------  ----- \n",
            " 0   label   3600 non-null   object\n",
            " 1   text    3600 non-null   object\n",
            "dtypes: object(2)\n",
            "memory usage: 56.4+ KB\n"
          ]
        }
      ],
      "source": [
        "# Concise summary of the DataFrame's structure and content\n",
        "data.info()"
      ]
    },
    {
      "cell_type": "code",
      "execution_count": null,
      "metadata": {
        "colab": {
          "base_uri": "https://localhost:8080/"
        },
        "id": "wjir04kyNUWQ",
        "outputId": "c3313764-a0d7-4910-dc38-326067e339ae"
      },
      "outputs": [
        {
          "output_type": "execute_result",
          "data": {
            "text/plain": [
              "Index(['label', 'text'], dtype='object')"
            ]
          },
          "metadata": {},
          "execution_count": 7
        }
      ],
      "source": [
        "data.columns"
      ]
    },
    {
      "cell_type": "code",
      "execution_count": null,
      "metadata": {
        "colab": {
          "base_uri": "https://localhost:8080/"
        },
        "id": "l9bY7Bh2C8t8",
        "outputId": "52e16e9d-cb9e-440d-80cf-788fb1fe434c"
      },
      "outputs": [
        {
          "output_type": "execute_result",
          "data": {
            "text/plain": [
              "(3600, 2)"
            ]
          },
          "metadata": {},
          "execution_count": 8
        }
      ],
      "source": [
        "data.shape"
      ]
    },
    {
      "cell_type": "code",
      "execution_count": null,
      "metadata": {
        "colab": {
          "base_uri": "https://localhost:8080/"
        },
        "id": "hVTvf9ifFtkm",
        "outputId": "74bcdcc1-a862-4b2b-c08a-436695fca373"
      },
      "outputs": [
        {
          "output_type": "execute_result",
          "data": {
            "text/plain": [
              "label      24\n",
              "text     3510\n",
              "dtype: int64"
            ]
          },
          "metadata": {},
          "execution_count": 9
        }
      ],
      "source": [
        "# Count the number of unique values in each column\n",
        "data.nunique()"
      ]
    },
    {
      "cell_type": "code",
      "execution_count": null,
      "metadata": {
        "colab": {
          "base_uri": "https://localhost:8080/"
        },
        "id": "UhpjheAGRXoJ",
        "outputId": "82a54e32-dae0-4449-ace7-6a60f90f04e3"
      },
      "outputs": [
        {
          "output_type": "execute_result",
          "data": {
            "text/plain": [
              "3600"
            ]
          },
          "metadata": {},
          "execution_count": 10
        }
      ],
      "source": [
        "data.value_counts().sum()"
      ]
    },
    {
      "cell_type": "code",
      "execution_count": null,
      "metadata": {
        "colab": {
          "base_uri": "https://localhost:8080/"
        },
        "id": "wLzpNw3VGqCP",
        "outputId": "930e3e8c-5b20-4fd8-e253-ba33b8752427"
      },
      "outputs": [
        {
          "output_type": "execute_result",
          "data": {
            "text/plain": [
              "label    0\n",
              "text     0\n",
              "dtype: int64"
            ]
          },
          "metadata": {},
          "execution_count": 11
        }
      ],
      "source": [
        "# Check and Count null values\n",
        "data.isnull().sum()"
      ]
    },
    {
      "cell_type": "code",
      "execution_count": null,
      "metadata": {
        "colab": {
          "base_uri": "https://localhost:8080/"
        },
        "id": "E05gdAehOU44",
        "outputId": "9edc341f-519c-480f-cfaa-3b852e3390dc"
      },
      "outputs": [
        {
          "output_type": "execute_result",
          "data": {
            "text/plain": [
              "90"
            ]
          },
          "metadata": {},
          "execution_count": 12
        }
      ],
      "source": [
        "# Check and Count duplicated values\n",
        "data.duplicated().sum()"
      ]
    },
    {
      "cell_type": "code",
      "execution_count": null,
      "metadata": {
        "colab": {
          "base_uri": "https://localhost:8080/",
          "height": 424
        },
        "id": "vd-kG5yKOxyA",
        "outputId": "e9581740-89d3-4f31-9b94-0fdc6cf5c321"
      },
      "outputs": [
        {
          "output_type": "execute_result",
          "data": {
            "text/plain": [
              "          label                                               text\n",
              "0     Psoriasis  I have been encountering a skin hasty on my ar...\n",
              "1     Psoriasis  My skin has been peeling, particularly on my k...\n",
              "2     Psoriasis  I have been encountering joint torment in my f...\n",
              "3     Psoriasis  There's a silver like cleaning on my skin, par...\n",
              "4     Psoriasis  My nails have little marks or pits in them, an...\n",
              "...         ...                                                ...\n",
              "3595   diabetes  These strong desires and the need to urinate o...\n",
              "3596   diabetes  I have trouble breathing, especially outside. ...\n",
              "3597   diabetes  I find it difficult to breathe, especially out...\n",
              "3598   diabetes  I constantly sneeze and have a dry cough. My i...\n",
              "3599   diabetes  I have a dry cough and sneeze a lot. I have pa...\n",
              "\n",
              "[3510 rows x 2 columns]"
            ],
            "text/html": [
              "\n",
              "  <div id=\"df-b40fee3f-57fd-492e-9fc4-c5811122941a\" class=\"colab-df-container\">\n",
              "    <div>\n",
              "<style scoped>\n",
              "    .dataframe tbody tr th:only-of-type {\n",
              "        vertical-align: middle;\n",
              "    }\n",
              "\n",
              "    .dataframe tbody tr th {\n",
              "        vertical-align: top;\n",
              "    }\n",
              "\n",
              "    .dataframe thead th {\n",
              "        text-align: right;\n",
              "    }\n",
              "</style>\n",
              "<table border=\"1\" class=\"dataframe\">\n",
              "  <thead>\n",
              "    <tr style=\"text-align: right;\">\n",
              "      <th></th>\n",
              "      <th>label</th>\n",
              "      <th>text</th>\n",
              "    </tr>\n",
              "  </thead>\n",
              "  <tbody>\n",
              "    <tr>\n",
              "      <th>0</th>\n",
              "      <td>Psoriasis</td>\n",
              "      <td>I have been encountering a skin hasty on my ar...</td>\n",
              "    </tr>\n",
              "    <tr>\n",
              "      <th>1</th>\n",
              "      <td>Psoriasis</td>\n",
              "      <td>My skin has been peeling, particularly on my k...</td>\n",
              "    </tr>\n",
              "    <tr>\n",
              "      <th>2</th>\n",
              "      <td>Psoriasis</td>\n",
              "      <td>I have been encountering joint torment in my f...</td>\n",
              "    </tr>\n",
              "    <tr>\n",
              "      <th>3</th>\n",
              "      <td>Psoriasis</td>\n",
              "      <td>There's a silver like cleaning on my skin, par...</td>\n",
              "    </tr>\n",
              "    <tr>\n",
              "      <th>4</th>\n",
              "      <td>Psoriasis</td>\n",
              "      <td>My nails have little marks or pits in them, an...</td>\n",
              "    </tr>\n",
              "    <tr>\n",
              "      <th>...</th>\n",
              "      <td>...</td>\n",
              "      <td>...</td>\n",
              "    </tr>\n",
              "    <tr>\n",
              "      <th>3595</th>\n",
              "      <td>diabetes</td>\n",
              "      <td>These strong desires and the need to urinate o...</td>\n",
              "    </tr>\n",
              "    <tr>\n",
              "      <th>3596</th>\n",
              "      <td>diabetes</td>\n",
              "      <td>I have trouble breathing, especially outside. ...</td>\n",
              "    </tr>\n",
              "    <tr>\n",
              "      <th>3597</th>\n",
              "      <td>diabetes</td>\n",
              "      <td>I find it difficult to breathe, especially out...</td>\n",
              "    </tr>\n",
              "    <tr>\n",
              "      <th>3598</th>\n",
              "      <td>diabetes</td>\n",
              "      <td>I constantly sneeze and have a dry cough. My i...</td>\n",
              "    </tr>\n",
              "    <tr>\n",
              "      <th>3599</th>\n",
              "      <td>diabetes</td>\n",
              "      <td>I have a dry cough and sneeze a lot. I have pa...</td>\n",
              "    </tr>\n",
              "  </tbody>\n",
              "</table>\n",
              "<p>3510 rows × 2 columns</p>\n",
              "</div>\n",
              "    <div class=\"colab-df-buttons\">\n",
              "\n",
              "  <div class=\"colab-df-container\">\n",
              "    <button class=\"colab-df-convert\" onclick=\"convertToInteractive('df-b40fee3f-57fd-492e-9fc4-c5811122941a')\"\n",
              "            title=\"Convert this dataframe to an interactive table.\"\n",
              "            style=\"display:none;\">\n",
              "\n",
              "  <svg xmlns=\"http://www.w3.org/2000/svg\" height=\"24px\" viewBox=\"0 -960 960 960\">\n",
              "    <path d=\"M120-120v-720h720v720H120Zm60-500h600v-160H180v160Zm220 220h160v-160H400v160Zm0 220h160v-160H400v160ZM180-400h160v-160H180v160Zm440 0h160v-160H620v160ZM180-180h160v-160H180v160Zm440 0h160v-160H620v160Z\"/>\n",
              "  </svg>\n",
              "    </button>\n",
              "\n",
              "  <style>\n",
              "    .colab-df-container {\n",
              "      display:flex;\n",
              "      gap: 12px;\n",
              "    }\n",
              "\n",
              "    .colab-df-convert {\n",
              "      background-color: #E8F0FE;\n",
              "      border: none;\n",
              "      border-radius: 50%;\n",
              "      cursor: pointer;\n",
              "      display: none;\n",
              "      fill: #1967D2;\n",
              "      height: 32px;\n",
              "      padding: 0 0 0 0;\n",
              "      width: 32px;\n",
              "    }\n",
              "\n",
              "    .colab-df-convert:hover {\n",
              "      background-color: #E2EBFA;\n",
              "      box-shadow: 0px 1px 2px rgba(60, 64, 67, 0.3), 0px 1px 3px 1px rgba(60, 64, 67, 0.15);\n",
              "      fill: #174EA6;\n",
              "    }\n",
              "\n",
              "    .colab-df-buttons div {\n",
              "      margin-bottom: 4px;\n",
              "    }\n",
              "\n",
              "    [theme=dark] .colab-df-convert {\n",
              "      background-color: #3B4455;\n",
              "      fill: #D2E3FC;\n",
              "    }\n",
              "\n",
              "    [theme=dark] .colab-df-convert:hover {\n",
              "      background-color: #434B5C;\n",
              "      box-shadow: 0px 1px 3px 1px rgba(0, 0, 0, 0.15);\n",
              "      filter: drop-shadow(0px 1px 2px rgba(0, 0, 0, 0.3));\n",
              "      fill: #FFFFFF;\n",
              "    }\n",
              "  </style>\n",
              "\n",
              "    <script>\n",
              "      const buttonEl =\n",
              "        document.querySelector('#df-b40fee3f-57fd-492e-9fc4-c5811122941a button.colab-df-convert');\n",
              "      buttonEl.style.display =\n",
              "        google.colab.kernel.accessAllowed ? 'block' : 'none';\n",
              "\n",
              "      async function convertToInteractive(key) {\n",
              "        const element = document.querySelector('#df-b40fee3f-57fd-492e-9fc4-c5811122941a');\n",
              "        const dataTable =\n",
              "          await google.colab.kernel.invokeFunction('convertToInteractive',\n",
              "                                                    [key], {});\n",
              "        if (!dataTable) return;\n",
              "\n",
              "        const docLinkHtml = 'Like what you see? Visit the ' +\n",
              "          '<a target=\"_blank\" href=https://colab.research.google.com/notebooks/data_table.ipynb>data table notebook</a>'\n",
              "          + ' to learn more about interactive tables.';\n",
              "        element.innerHTML = '';\n",
              "        dataTable['output_type'] = 'display_data';\n",
              "        await google.colab.output.renderOutput(dataTable, element);\n",
              "        const docLink = document.createElement('div');\n",
              "        docLink.innerHTML = docLinkHtml;\n",
              "        element.appendChild(docLink);\n",
              "      }\n",
              "    </script>\n",
              "  </div>\n",
              "\n",
              "\n",
              "<div id=\"df-a98cb621-5b63-4e83-8755-f5e97a492494\">\n",
              "  <button class=\"colab-df-quickchart\" onclick=\"quickchart('df-a98cb621-5b63-4e83-8755-f5e97a492494')\"\n",
              "            title=\"Suggest charts\"\n",
              "            style=\"display:none;\">\n",
              "\n",
              "<svg xmlns=\"http://www.w3.org/2000/svg\" height=\"24px\"viewBox=\"0 0 24 24\"\n",
              "     width=\"24px\">\n",
              "    <g>\n",
              "        <path d=\"M19 3H5c-1.1 0-2 .9-2 2v14c0 1.1.9 2 2 2h14c1.1 0 2-.9 2-2V5c0-1.1-.9-2-2-2zM9 17H7v-7h2v7zm4 0h-2V7h2v10zm4 0h-2v-4h2v4z\"/>\n",
              "    </g>\n",
              "</svg>\n",
              "  </button>\n",
              "\n",
              "<style>\n",
              "  .colab-df-quickchart {\n",
              "      --bg-color: #E8F0FE;\n",
              "      --fill-color: #1967D2;\n",
              "      --hover-bg-color: #E2EBFA;\n",
              "      --hover-fill-color: #174EA6;\n",
              "      --disabled-fill-color: #AAA;\n",
              "      --disabled-bg-color: #DDD;\n",
              "  }\n",
              "\n",
              "  [theme=dark] .colab-df-quickchart {\n",
              "      --bg-color: #3B4455;\n",
              "      --fill-color: #D2E3FC;\n",
              "      --hover-bg-color: #434B5C;\n",
              "      --hover-fill-color: #FFFFFF;\n",
              "      --disabled-bg-color: #3B4455;\n",
              "      --disabled-fill-color: #666;\n",
              "  }\n",
              "\n",
              "  .colab-df-quickchart {\n",
              "    background-color: var(--bg-color);\n",
              "    border: none;\n",
              "    border-radius: 50%;\n",
              "    cursor: pointer;\n",
              "    display: none;\n",
              "    fill: var(--fill-color);\n",
              "    height: 32px;\n",
              "    padding: 0;\n",
              "    width: 32px;\n",
              "  }\n",
              "\n",
              "  .colab-df-quickchart:hover {\n",
              "    background-color: var(--hover-bg-color);\n",
              "    box-shadow: 0 1px 2px rgba(60, 64, 67, 0.3), 0 1px 3px 1px rgba(60, 64, 67, 0.15);\n",
              "    fill: var(--button-hover-fill-color);\n",
              "  }\n",
              "\n",
              "  .colab-df-quickchart-complete:disabled,\n",
              "  .colab-df-quickchart-complete:disabled:hover {\n",
              "    background-color: var(--disabled-bg-color);\n",
              "    fill: var(--disabled-fill-color);\n",
              "    box-shadow: none;\n",
              "  }\n",
              "\n",
              "  .colab-df-spinner {\n",
              "    border: 2px solid var(--fill-color);\n",
              "    border-color: transparent;\n",
              "    border-bottom-color: var(--fill-color);\n",
              "    animation:\n",
              "      spin 1s steps(1) infinite;\n",
              "  }\n",
              "\n",
              "  @keyframes spin {\n",
              "    0% {\n",
              "      border-color: transparent;\n",
              "      border-bottom-color: var(--fill-color);\n",
              "      border-left-color: var(--fill-color);\n",
              "    }\n",
              "    20% {\n",
              "      border-color: transparent;\n",
              "      border-left-color: var(--fill-color);\n",
              "      border-top-color: var(--fill-color);\n",
              "    }\n",
              "    30% {\n",
              "      border-color: transparent;\n",
              "      border-left-color: var(--fill-color);\n",
              "      border-top-color: var(--fill-color);\n",
              "      border-right-color: var(--fill-color);\n",
              "    }\n",
              "    40% {\n",
              "      border-color: transparent;\n",
              "      border-right-color: var(--fill-color);\n",
              "      border-top-color: var(--fill-color);\n",
              "    }\n",
              "    60% {\n",
              "      border-color: transparent;\n",
              "      border-right-color: var(--fill-color);\n",
              "    }\n",
              "    80% {\n",
              "      border-color: transparent;\n",
              "      border-right-color: var(--fill-color);\n",
              "      border-bottom-color: var(--fill-color);\n",
              "    }\n",
              "    90% {\n",
              "      border-color: transparent;\n",
              "      border-bottom-color: var(--fill-color);\n",
              "    }\n",
              "  }\n",
              "</style>\n",
              "\n",
              "  <script>\n",
              "    async function quickchart(key) {\n",
              "      const quickchartButtonEl =\n",
              "        document.querySelector('#' + key + ' button');\n",
              "      quickchartButtonEl.disabled = true;  // To prevent multiple clicks.\n",
              "      quickchartButtonEl.classList.add('colab-df-spinner');\n",
              "      try {\n",
              "        const charts = await google.colab.kernel.invokeFunction(\n",
              "            'suggestCharts', [key], {});\n",
              "      } catch (error) {\n",
              "        console.error('Error during call to suggestCharts:', error);\n",
              "      }\n",
              "      quickchartButtonEl.classList.remove('colab-df-spinner');\n",
              "      quickchartButtonEl.classList.add('colab-df-quickchart-complete');\n",
              "    }\n",
              "    (() => {\n",
              "      let quickchartButtonEl =\n",
              "        document.querySelector('#df-a98cb621-5b63-4e83-8755-f5e97a492494 button');\n",
              "      quickchartButtonEl.style.display =\n",
              "        google.colab.kernel.accessAllowed ? 'block' : 'none';\n",
              "    })();\n",
              "  </script>\n",
              "</div>\n",
              "\n",
              "  <div id=\"id_15fa9ffc-7ec3-4fe6-acef-5ede40346e34\">\n",
              "    <style>\n",
              "      .colab-df-generate {\n",
              "        background-color: #E8F0FE;\n",
              "        border: none;\n",
              "        border-radius: 50%;\n",
              "        cursor: pointer;\n",
              "        display: none;\n",
              "        fill: #1967D2;\n",
              "        height: 32px;\n",
              "        padding: 0 0 0 0;\n",
              "        width: 32px;\n",
              "      }\n",
              "\n",
              "      .colab-df-generate:hover {\n",
              "        background-color: #E2EBFA;\n",
              "        box-shadow: 0px 1px 2px rgba(60, 64, 67, 0.3), 0px 1px 3px 1px rgba(60, 64, 67, 0.15);\n",
              "        fill: #174EA6;\n",
              "      }\n",
              "\n",
              "      [theme=dark] .colab-df-generate {\n",
              "        background-color: #3B4455;\n",
              "        fill: #D2E3FC;\n",
              "      }\n",
              "\n",
              "      [theme=dark] .colab-df-generate:hover {\n",
              "        background-color: #434B5C;\n",
              "        box-shadow: 0px 1px 3px 1px rgba(0, 0, 0, 0.15);\n",
              "        filter: drop-shadow(0px 1px 2px rgba(0, 0, 0, 0.3));\n",
              "        fill: #FFFFFF;\n",
              "      }\n",
              "    </style>\n",
              "    <button class=\"colab-df-generate\" onclick=\"generateWithVariable('data')\"\n",
              "            title=\"Generate code using this dataframe.\"\n",
              "            style=\"display:none;\">\n",
              "\n",
              "  <svg xmlns=\"http://www.w3.org/2000/svg\" height=\"24px\"viewBox=\"0 0 24 24\"\n",
              "       width=\"24px\">\n",
              "    <path d=\"M7,19H8.4L18.45,9,17,7.55,7,17.6ZM5,21V16.75L18.45,3.32a2,2,0,0,1,2.83,0l1.4,1.43a1.91,1.91,0,0,1,.58,1.4,1.91,1.91,0,0,1-.58,1.4L9.25,21ZM18.45,9,17,7.55Zm-12,3A5.31,5.31,0,0,0,4.9,8.1,5.31,5.31,0,0,0,1,6.5,5.31,5.31,0,0,0,4.9,4.9,5.31,5.31,0,0,0,6.5,1,5.31,5.31,0,0,0,8.1,4.9,5.31,5.31,0,0,0,12,6.5,5.46,5.46,0,0,0,6.5,12Z\"/>\n",
              "  </svg>\n",
              "    </button>\n",
              "    <script>\n",
              "      (() => {\n",
              "      const buttonEl =\n",
              "        document.querySelector('#id_15fa9ffc-7ec3-4fe6-acef-5ede40346e34 button.colab-df-generate');\n",
              "      buttonEl.style.display =\n",
              "        google.colab.kernel.accessAllowed ? 'block' : 'none';\n",
              "\n",
              "      buttonEl.onclick = () => {\n",
              "        google.colab.notebook.generateWithVariable('data');\n",
              "      }\n",
              "      })();\n",
              "    </script>\n",
              "  </div>\n",
              "\n",
              "    </div>\n",
              "  </div>\n"
            ],
            "application/vnd.google.colaboratory.intrinsic+json": {
              "type": "dataframe",
              "variable_name": "data",
              "summary": "{\n  \"name\": \"data\",\n  \"rows\": 3510,\n  \"fields\": [\n    {\n      \"column\": \"label\",\n      \"properties\": {\n        \"dtype\": \"category\",\n        \"num_unique_values\": 24,\n        \"samples\": [\n          \"Pneumonia\",\n          \"Jaundice\",\n          \"Psoriasis\"\n        ],\n        \"semantic_type\": \"\",\n        \"description\": \"\"\n      }\n    },\n    {\n      \"column\": \"text\",\n      \"properties\": {\n        \"dtype\": \"string\",\n        \"num_unique_values\": 3510,\n        \"samples\": [\n          \"My monthly cycle has changed, and I've had an unexpected vaginal discharge. I occasionally lose my temper, and my moods change a lot.\",\n          \"I've been dealing with substantial bloating and constipation, causing significant discomfort. There's a sensation of increased pressure and pain in my abdominal area.\",\n          \"I have been getting blood in my pee. Sometimes I get nauseous while peeing. This often almost coincides with me having a high temperature\"\n        ],\n        \"semantic_type\": \"\",\n        \"description\": \"\"\n      }\n    }\n  ]\n}"
            }
          },
          "metadata": {},
          "execution_count": 13
        }
      ],
      "source": [
        "# Drop duplicated values\n",
        "data.drop_duplicates(inplace = True)\n",
        "data"
      ]
    },
    {
      "cell_type": "markdown",
      "metadata": {
        "id": "Eamf97tPS9PR"
      },
      "source": [
        "# **Text Preprocessing--->(NLP)**"
      ]
    },
    {
      "cell_type": "code",
      "execution_count": null,
      "metadata": {
        "id": "mVraoaW2DEZ9"
      },
      "outputs": [],
      "source": [
        "def lowercase_text(text):\n",
        "    return text.lower()\n",
        "\n",
        "def remove_punctuation(text):\n",
        "    translator = str.maketrans('', '', string.punctuation)\n",
        "    text_without_punct = text.translate(translator).strip()\n",
        "    return text_without_punct\n",
        "\n",
        "def tokenize_text(text):\n",
        "    tokens = word_tokenize(text)\n",
        "    return tokens\n",
        "\n",
        "def remove_stopwords(tokens):\n",
        "    stop_words = set(stopwords.words('english'))\n",
        "    filtered_tokens = [token for token in tokens if token.isalpha() and token not in stop_words]\n",
        "    return filtered_tokens\n",
        "\n",
        "def lemmatize_text(tokens):\n",
        "    lemmatizer = WordNetLemmatizer()\n",
        "    lemmatized_tokens = [lemmatizer.lemmatize(token) for token in tokens]\n",
        "    return lemmatized_tokens"
      ]
    },
    {
      "cell_type": "code",
      "execution_count": null,
      "metadata": {
        "id": "B7Ld2Fe_M_Pp"
      },
      "outputs": [],
      "source": [
        "# Preprocessing Container function\n",
        "\n",
        "def preprocess_text(text):\n",
        "    text = lowercase_text(text)\n",
        "    text = remove_punctuation(text)\n",
        "    tokens = tokenize_text(text)\n",
        "    tokens = remove_stopwords(tokens)\n",
        "    tokens = lemmatize_text(tokens)\n",
        "    preprocessed_text = ' '.join(tokens)\n",
        "    return preprocessed_text"
      ]
    },
    {
      "cell_type": "code",
      "execution_count": null,
      "metadata": {
        "id": "voBMVVOBM_I2"
      },
      "outputs": [],
      "source": [
        "# Apply Preprocessing Container function to symptoms\n",
        "\n",
        "data['text'] = data['text'].apply(preprocess_text)"
      ]
    },
    {
      "cell_type": "code",
      "execution_count": null,
      "metadata": {
        "colab": {
          "base_uri": "https://localhost:8080/"
        },
        "id": "2MLsb-nFvP42",
        "outputId": "7a7ab64b-78e3-4d3b-b2ac-49bddd8f1c3c"
      },
      "outputs": [
        {
          "output_type": "stream",
          "name": "stdout",
          "text": [
            "Number of unique dictionary vocabs: 2275\n"
          ]
        }
      ],
      "source": [
        "# Extract and Count unique dictionary vocabs\n",
        "\n",
        "def count_unique_vocab(count):\n",
        "    unique_vocabularies = set()\n",
        "    for text in count:\n",
        "        words = text.split()\n",
        "        for word in words:\n",
        "            unique_vocabularies.add(word)\n",
        "    return len(unique_vocabularies)\n",
        "\n",
        "# Count unique dictionary vocabs\n",
        "num_unique_vocabs = count_unique_vocab(data['text'])\n",
        "\n",
        "print(\"Number of unique dictionary vocabs:\", num_unique_vocabs)"
      ]
    },
    {
      "cell_type": "markdown",
      "metadata": {
        "id": "WQCc3uE4wCU_"
      },
      "source": [
        "# **Select the features (X) as 'text' column and target (y) as 'label' column**"
      ]
    },
    {
      "cell_type": "code",
      "execution_count": null,
      "metadata": {
        "id": "TQpYX-HOdt9S"
      },
      "outputs": [],
      "source": [
        "X = data['text']\n",
        "y = data['label']"
      ]
    },
    {
      "cell_type": "code",
      "execution_count": null,
      "metadata": {
        "colab": {
          "base_uri": "https://localhost:8080/"
        },
        "id": "g9AHRdCawSDG",
        "outputId": "8c1fff50-f990-45ab-bd2d-5ebdb478fa2d"
      },
      "outputs": [
        {
          "output_type": "execute_result",
          "data": {
            "text/plain": [
              "0       encountering skin hasty arm leg middle past we...\n",
              "1       skin peeling particularly knee elbow scalp pee...\n",
              "2       encountering joint torment finger wrist knee t...\n",
              "3       there silver like cleaning skin particularly l...\n",
              "4       nail little mark pit frequently feel incendiar...\n",
              "                              ...                        \n",
              "3595    strong desire need urinate occur daily basis o...\n",
              "3596    trouble breathing especially outside start fee...\n",
              "3597    find difficult breathe especially outside heat...\n",
              "3598    constantly sneeze dry cough infection dont see...\n",
              "3599    dry cough sneeze lot palpitation infection don...\n",
              "Name: text, Length: 3510, dtype: object"
            ]
          },
          "metadata": {},
          "execution_count": 19
        }
      ],
      "source": [
        "X"
      ]
    },
    {
      "cell_type": "code",
      "execution_count": null,
      "metadata": {
        "colab": {
          "base_uri": "https://localhost:8080/"
        },
        "id": "loZbr-m5wST3",
        "outputId": "93e12db6-4207-4d70-e00f-8df1424a2b61"
      },
      "outputs": [
        {
          "output_type": "execute_result",
          "data": {
            "text/plain": [
              "0       Psoriasis\n",
              "1       Psoriasis\n",
              "2       Psoriasis\n",
              "3       Psoriasis\n",
              "4       Psoriasis\n",
              "          ...    \n",
              "3595     diabetes\n",
              "3596     diabetes\n",
              "3597     diabetes\n",
              "3598     diabetes\n",
              "3599     diabetes\n",
              "Name: label, Length: 3510, dtype: object"
            ]
          },
          "metadata": {},
          "execution_count": 20
        }
      ],
      "source": [
        "y"
      ]
    },
    {
      "cell_type": "code",
      "execution_count": null,
      "metadata": {
        "colab": {
          "base_uri": "https://localhost:8080/",
          "height": 424
        },
        "id": "lYnvqswPaKlB",
        "outputId": "78fe9980-eb61-495b-8e36-5f0047a8e974",
        "scrolled": false
      },
      "outputs": [
        {
          "output_type": "execute_result",
          "data": {
            "text/plain": [
              "                        label  \\\n",
              "3282            drug reaction   \n",
              "315                   Typhoid   \n",
              "2756  urinary tract infection   \n",
              "603                  Impetigo   \n",
              "879                    Dengue   \n",
              "...                       ...   \n",
              "1136              Common Cold   \n",
              "1302                Pneumonia   \n",
              "865                    Dengue   \n",
              "3597                 diabetes   \n",
              "3264            drug reaction   \n",
              "\n",
              "                                                   text  \n",
              "3282  monthly cycle changed ive unexpected vaginal d...  \n",
              "315   ive dealing substantial bloating constipation ...  \n",
              "2756  getting blood pee sometimes get nauseous peein...  \n",
              "603   rash around nose expansive ruddy bruise taken ...  \n",
              "879   ive headache muscular ache aching muscle get w...  \n",
              "...                                                 ...  \n",
              "1136  sinus feel stuffy eye quite red simply lack en...  \n",
              "1302  im trouble breathing quite uneasy throat fille...  \n",
              "865   day quite challenging due significant joint pa...  \n",
              "3597  find difficult breathe especially outside heat...  \n",
              "3264  terrible mental clarity find difficult stay fo...  \n",
              "\n",
              "[3510 rows x 2 columns]"
            ],
            "text/html": [
              "\n",
              "  <div id=\"df-c748f6b3-39f1-4b12-9528-d48aa6f1f10e\" class=\"colab-df-container\">\n",
              "    <div>\n",
              "<style scoped>\n",
              "    .dataframe tbody tr th:only-of-type {\n",
              "        vertical-align: middle;\n",
              "    }\n",
              "\n",
              "    .dataframe tbody tr th {\n",
              "        vertical-align: top;\n",
              "    }\n",
              "\n",
              "    .dataframe thead th {\n",
              "        text-align: right;\n",
              "    }\n",
              "</style>\n",
              "<table border=\"1\" class=\"dataframe\">\n",
              "  <thead>\n",
              "    <tr style=\"text-align: right;\">\n",
              "      <th></th>\n",
              "      <th>label</th>\n",
              "      <th>text</th>\n",
              "    </tr>\n",
              "  </thead>\n",
              "  <tbody>\n",
              "    <tr>\n",
              "      <th>3282</th>\n",
              "      <td>drug reaction</td>\n",
              "      <td>monthly cycle changed ive unexpected vaginal d...</td>\n",
              "    </tr>\n",
              "    <tr>\n",
              "      <th>315</th>\n",
              "      <td>Typhoid</td>\n",
              "      <td>ive dealing substantial bloating constipation ...</td>\n",
              "    </tr>\n",
              "    <tr>\n",
              "      <th>2756</th>\n",
              "      <td>urinary tract infection</td>\n",
              "      <td>getting blood pee sometimes get nauseous peein...</td>\n",
              "    </tr>\n",
              "    <tr>\n",
              "      <th>603</th>\n",
              "      <td>Impetigo</td>\n",
              "      <td>rash around nose expansive ruddy bruise taken ...</td>\n",
              "    </tr>\n",
              "    <tr>\n",
              "      <th>879</th>\n",
              "      <td>Dengue</td>\n",
              "      <td>ive headache muscular ache aching muscle get w...</td>\n",
              "    </tr>\n",
              "    <tr>\n",
              "      <th>...</th>\n",
              "      <td>...</td>\n",
              "      <td>...</td>\n",
              "    </tr>\n",
              "    <tr>\n",
              "      <th>1136</th>\n",
              "      <td>Common Cold</td>\n",
              "      <td>sinus feel stuffy eye quite red simply lack en...</td>\n",
              "    </tr>\n",
              "    <tr>\n",
              "      <th>1302</th>\n",
              "      <td>Pneumonia</td>\n",
              "      <td>im trouble breathing quite uneasy throat fille...</td>\n",
              "    </tr>\n",
              "    <tr>\n",
              "      <th>865</th>\n",
              "      <td>Dengue</td>\n",
              "      <td>day quite challenging due significant joint pa...</td>\n",
              "    </tr>\n",
              "    <tr>\n",
              "      <th>3597</th>\n",
              "      <td>diabetes</td>\n",
              "      <td>find difficult breathe especially outside heat...</td>\n",
              "    </tr>\n",
              "    <tr>\n",
              "      <th>3264</th>\n",
              "      <td>drug reaction</td>\n",
              "      <td>terrible mental clarity find difficult stay fo...</td>\n",
              "    </tr>\n",
              "  </tbody>\n",
              "</table>\n",
              "<p>3510 rows × 2 columns</p>\n",
              "</div>\n",
              "    <div class=\"colab-df-buttons\">\n",
              "\n",
              "  <div class=\"colab-df-container\">\n",
              "    <button class=\"colab-df-convert\" onclick=\"convertToInteractive('df-c748f6b3-39f1-4b12-9528-d48aa6f1f10e')\"\n",
              "            title=\"Convert this dataframe to an interactive table.\"\n",
              "            style=\"display:none;\">\n",
              "\n",
              "  <svg xmlns=\"http://www.w3.org/2000/svg\" height=\"24px\" viewBox=\"0 -960 960 960\">\n",
              "    <path d=\"M120-120v-720h720v720H120Zm60-500h600v-160H180v160Zm220 220h160v-160H400v160Zm0 220h160v-160H400v160ZM180-400h160v-160H180v160Zm440 0h160v-160H620v160ZM180-180h160v-160H180v160Zm440 0h160v-160H620v160Z\"/>\n",
              "  </svg>\n",
              "    </button>\n",
              "\n",
              "  <style>\n",
              "    .colab-df-container {\n",
              "      display:flex;\n",
              "      gap: 12px;\n",
              "    }\n",
              "\n",
              "    .colab-df-convert {\n",
              "      background-color: #E8F0FE;\n",
              "      border: none;\n",
              "      border-radius: 50%;\n",
              "      cursor: pointer;\n",
              "      display: none;\n",
              "      fill: #1967D2;\n",
              "      height: 32px;\n",
              "      padding: 0 0 0 0;\n",
              "      width: 32px;\n",
              "    }\n",
              "\n",
              "    .colab-df-convert:hover {\n",
              "      background-color: #E2EBFA;\n",
              "      box-shadow: 0px 1px 2px rgba(60, 64, 67, 0.3), 0px 1px 3px 1px rgba(60, 64, 67, 0.15);\n",
              "      fill: #174EA6;\n",
              "    }\n",
              "\n",
              "    .colab-df-buttons div {\n",
              "      margin-bottom: 4px;\n",
              "    }\n",
              "\n",
              "    [theme=dark] .colab-df-convert {\n",
              "      background-color: #3B4455;\n",
              "      fill: #D2E3FC;\n",
              "    }\n",
              "\n",
              "    [theme=dark] .colab-df-convert:hover {\n",
              "      background-color: #434B5C;\n",
              "      box-shadow: 0px 1px 3px 1px rgba(0, 0, 0, 0.15);\n",
              "      filter: drop-shadow(0px 1px 2px rgba(0, 0, 0, 0.3));\n",
              "      fill: #FFFFFF;\n",
              "    }\n",
              "  </style>\n",
              "\n",
              "    <script>\n",
              "      const buttonEl =\n",
              "        document.querySelector('#df-c748f6b3-39f1-4b12-9528-d48aa6f1f10e button.colab-df-convert');\n",
              "      buttonEl.style.display =\n",
              "        google.colab.kernel.accessAllowed ? 'block' : 'none';\n",
              "\n",
              "      async function convertToInteractive(key) {\n",
              "        const element = document.querySelector('#df-c748f6b3-39f1-4b12-9528-d48aa6f1f10e');\n",
              "        const dataTable =\n",
              "          await google.colab.kernel.invokeFunction('convertToInteractive',\n",
              "                                                    [key], {});\n",
              "        if (!dataTable) return;\n",
              "\n",
              "        const docLinkHtml = 'Like what you see? Visit the ' +\n",
              "          '<a target=\"_blank\" href=https://colab.research.google.com/notebooks/data_table.ipynb>data table notebook</a>'\n",
              "          + ' to learn more about interactive tables.';\n",
              "        element.innerHTML = '';\n",
              "        dataTable['output_type'] = 'display_data';\n",
              "        await google.colab.output.renderOutput(dataTable, element);\n",
              "        const docLink = document.createElement('div');\n",
              "        docLink.innerHTML = docLinkHtml;\n",
              "        element.appendChild(docLink);\n",
              "      }\n",
              "    </script>\n",
              "  </div>\n",
              "\n",
              "\n",
              "<div id=\"df-9d0d7133-0433-473d-9458-29da5666fcac\">\n",
              "  <button class=\"colab-df-quickchart\" onclick=\"quickchart('df-9d0d7133-0433-473d-9458-29da5666fcac')\"\n",
              "            title=\"Suggest charts\"\n",
              "            style=\"display:none;\">\n",
              "\n",
              "<svg xmlns=\"http://www.w3.org/2000/svg\" height=\"24px\"viewBox=\"0 0 24 24\"\n",
              "     width=\"24px\">\n",
              "    <g>\n",
              "        <path d=\"M19 3H5c-1.1 0-2 .9-2 2v14c0 1.1.9 2 2 2h14c1.1 0 2-.9 2-2V5c0-1.1-.9-2-2-2zM9 17H7v-7h2v7zm4 0h-2V7h2v10zm4 0h-2v-4h2v4z\"/>\n",
              "    </g>\n",
              "</svg>\n",
              "  </button>\n",
              "\n",
              "<style>\n",
              "  .colab-df-quickchart {\n",
              "      --bg-color: #E8F0FE;\n",
              "      --fill-color: #1967D2;\n",
              "      --hover-bg-color: #E2EBFA;\n",
              "      --hover-fill-color: #174EA6;\n",
              "      --disabled-fill-color: #AAA;\n",
              "      --disabled-bg-color: #DDD;\n",
              "  }\n",
              "\n",
              "  [theme=dark] .colab-df-quickchart {\n",
              "      --bg-color: #3B4455;\n",
              "      --fill-color: #D2E3FC;\n",
              "      --hover-bg-color: #434B5C;\n",
              "      --hover-fill-color: #FFFFFF;\n",
              "      --disabled-bg-color: #3B4455;\n",
              "      --disabled-fill-color: #666;\n",
              "  }\n",
              "\n",
              "  .colab-df-quickchart {\n",
              "    background-color: var(--bg-color);\n",
              "    border: none;\n",
              "    border-radius: 50%;\n",
              "    cursor: pointer;\n",
              "    display: none;\n",
              "    fill: var(--fill-color);\n",
              "    height: 32px;\n",
              "    padding: 0;\n",
              "    width: 32px;\n",
              "  }\n",
              "\n",
              "  .colab-df-quickchart:hover {\n",
              "    background-color: var(--hover-bg-color);\n",
              "    box-shadow: 0 1px 2px rgba(60, 64, 67, 0.3), 0 1px 3px 1px rgba(60, 64, 67, 0.15);\n",
              "    fill: var(--button-hover-fill-color);\n",
              "  }\n",
              "\n",
              "  .colab-df-quickchart-complete:disabled,\n",
              "  .colab-df-quickchart-complete:disabled:hover {\n",
              "    background-color: var(--disabled-bg-color);\n",
              "    fill: var(--disabled-fill-color);\n",
              "    box-shadow: none;\n",
              "  }\n",
              "\n",
              "  .colab-df-spinner {\n",
              "    border: 2px solid var(--fill-color);\n",
              "    border-color: transparent;\n",
              "    border-bottom-color: var(--fill-color);\n",
              "    animation:\n",
              "      spin 1s steps(1) infinite;\n",
              "  }\n",
              "\n",
              "  @keyframes spin {\n",
              "    0% {\n",
              "      border-color: transparent;\n",
              "      border-bottom-color: var(--fill-color);\n",
              "      border-left-color: var(--fill-color);\n",
              "    }\n",
              "    20% {\n",
              "      border-color: transparent;\n",
              "      border-left-color: var(--fill-color);\n",
              "      border-top-color: var(--fill-color);\n",
              "    }\n",
              "    30% {\n",
              "      border-color: transparent;\n",
              "      border-left-color: var(--fill-color);\n",
              "      border-top-color: var(--fill-color);\n",
              "      border-right-color: var(--fill-color);\n",
              "    }\n",
              "    40% {\n",
              "      border-color: transparent;\n",
              "      border-right-color: var(--fill-color);\n",
              "      border-top-color: var(--fill-color);\n",
              "    }\n",
              "    60% {\n",
              "      border-color: transparent;\n",
              "      border-right-color: var(--fill-color);\n",
              "    }\n",
              "    80% {\n",
              "      border-color: transparent;\n",
              "      border-right-color: var(--fill-color);\n",
              "      border-bottom-color: var(--fill-color);\n",
              "    }\n",
              "    90% {\n",
              "      border-color: transparent;\n",
              "      border-bottom-color: var(--fill-color);\n",
              "    }\n",
              "  }\n",
              "</style>\n",
              "\n",
              "  <script>\n",
              "    async function quickchart(key) {\n",
              "      const quickchartButtonEl =\n",
              "        document.querySelector('#' + key + ' button');\n",
              "      quickchartButtonEl.disabled = true;  // To prevent multiple clicks.\n",
              "      quickchartButtonEl.classList.add('colab-df-spinner');\n",
              "      try {\n",
              "        const charts = await google.colab.kernel.invokeFunction(\n",
              "            'suggestCharts', [key], {});\n",
              "      } catch (error) {\n",
              "        console.error('Error during call to suggestCharts:', error);\n",
              "      }\n",
              "      quickchartButtonEl.classList.remove('colab-df-spinner');\n",
              "      quickchartButtonEl.classList.add('colab-df-quickchart-complete');\n",
              "    }\n",
              "    (() => {\n",
              "      let quickchartButtonEl =\n",
              "        document.querySelector('#df-9d0d7133-0433-473d-9458-29da5666fcac button');\n",
              "      quickchartButtonEl.style.display =\n",
              "        google.colab.kernel.accessAllowed ? 'block' : 'none';\n",
              "    })();\n",
              "  </script>\n",
              "</div>\n",
              "\n",
              "  <div id=\"id_b784269e-bf88-4652-93a4-6b1183a26b2b\">\n",
              "    <style>\n",
              "      .colab-df-generate {\n",
              "        background-color: #E8F0FE;\n",
              "        border: none;\n",
              "        border-radius: 50%;\n",
              "        cursor: pointer;\n",
              "        display: none;\n",
              "        fill: #1967D2;\n",
              "        height: 32px;\n",
              "        padding: 0 0 0 0;\n",
              "        width: 32px;\n",
              "      }\n",
              "\n",
              "      .colab-df-generate:hover {\n",
              "        background-color: #E2EBFA;\n",
              "        box-shadow: 0px 1px 2px rgba(60, 64, 67, 0.3), 0px 1px 3px 1px rgba(60, 64, 67, 0.15);\n",
              "        fill: #174EA6;\n",
              "      }\n",
              "\n",
              "      [theme=dark] .colab-df-generate {\n",
              "        background-color: #3B4455;\n",
              "        fill: #D2E3FC;\n",
              "      }\n",
              "\n",
              "      [theme=dark] .colab-df-generate:hover {\n",
              "        background-color: #434B5C;\n",
              "        box-shadow: 0px 1px 3px 1px rgba(0, 0, 0, 0.15);\n",
              "        filter: drop-shadow(0px 1px 2px rgba(0, 0, 0, 0.3));\n",
              "        fill: #FFFFFF;\n",
              "      }\n",
              "    </style>\n",
              "    <button class=\"colab-df-generate\" onclick=\"generateWithVariable('data')\"\n",
              "            title=\"Generate code using this dataframe.\"\n",
              "            style=\"display:none;\">\n",
              "\n",
              "  <svg xmlns=\"http://www.w3.org/2000/svg\" height=\"24px\"viewBox=\"0 0 24 24\"\n",
              "       width=\"24px\">\n",
              "    <path d=\"M7,19H8.4L18.45,9,17,7.55,7,17.6ZM5,21V16.75L18.45,3.32a2,2,0,0,1,2.83,0l1.4,1.43a1.91,1.91,0,0,1,.58,1.4,1.91,1.91,0,0,1-.58,1.4L9.25,21ZM18.45,9,17,7.55Zm-12,3A5.31,5.31,0,0,0,4.9,8.1,5.31,5.31,0,0,0,1,6.5,5.31,5.31,0,0,0,4.9,4.9,5.31,5.31,0,0,0,6.5,1,5.31,5.31,0,0,0,8.1,4.9,5.31,5.31,0,0,0,12,6.5,5.46,5.46,0,0,0,6.5,12Z\"/>\n",
              "  </svg>\n",
              "    </button>\n",
              "    <script>\n",
              "      (() => {\n",
              "      const buttonEl =\n",
              "        document.querySelector('#id_b784269e-bf88-4652-93a4-6b1183a26b2b button.colab-df-generate');\n",
              "      buttonEl.style.display =\n",
              "        google.colab.kernel.accessAllowed ? 'block' : 'none';\n",
              "\n",
              "      buttonEl.onclick = () => {\n",
              "        google.colab.notebook.generateWithVariable('data');\n",
              "      }\n",
              "      })();\n",
              "    </script>\n",
              "  </div>\n",
              "\n",
              "    </div>\n",
              "  </div>\n"
            ],
            "application/vnd.google.colaboratory.intrinsic+json": {
              "type": "dataframe",
              "variable_name": "data",
              "summary": "{\n  \"name\": \"data\",\n  \"rows\": 3510,\n  \"fields\": [\n    {\n      \"column\": \"label\",\n      \"properties\": {\n        \"dtype\": \"category\",\n        \"num_unique_values\": 24,\n        \"samples\": [\n          \"Pneumonia\",\n          \"allergy\",\n          \"drug reaction\"\n        ],\n        \"semantic_type\": \"\",\n        \"description\": \"\"\n      }\n    },\n    {\n      \"column\": \"text\",\n      \"properties\": {\n        \"dtype\": \"string\",\n        \"num_unique_values\": 3508,\n        \"samples\": [\n          \"routinely inconvenience gulping case feel like nourishment getting caught throat habitually feel bloated burp time awful lingering flavor\",\n          \"ive experiencing numbness arm leg hacking cough back pain neck ache im problem maintaining equilibrium without feeling dizzy\",\n          \"ive severe scratching cold sweat nausea elevated temperature also headache perspiring lot ive also trouble muscle soreness nausea\"\n        ],\n        \"semantic_type\": \"\",\n        \"description\": \"\"\n      }\n    }\n  ]\n}"
            }
          },
          "metadata": {},
          "execution_count": 21
        }
      ],
      "source": [
        "# The 'shuffle' function is used to randomly Shuffle/Rearrange the elements of a dataset\n",
        "from sklearn.utils import shuffle\n",
        "data = shuffle(data, random_state = 42)\n",
        "data"
      ]
    },
    {
      "cell_type": "code",
      "execution_count": null,
      "metadata": {
        "colab": {
          "base_uri": "https://localhost:8080/",
          "height": 175
        },
        "id": "YPJYkVEEwUH-",
        "outputId": "f3e3be2c-e6ea-4c4f-e956-8b51c08d2b2b",
        "scrolled": true
      },
      "outputs": [
        {
          "output_type": "execute_result",
          "data": {
            "text/plain": [
              "                label                                               text\n",
              "count            3510                                               3510\n",
              "unique             24                                               3508\n",
              "top     drug reaction  awoke morning see horrible rash skin several b...\n",
              "freq              150                                                  2"
            ],
            "text/html": [
              "\n",
              "  <div id=\"df-95286e68-1a66-4fb7-abdb-3665019078ea\" class=\"colab-df-container\">\n",
              "    <div>\n",
              "<style scoped>\n",
              "    .dataframe tbody tr th:only-of-type {\n",
              "        vertical-align: middle;\n",
              "    }\n",
              "\n",
              "    .dataframe tbody tr th {\n",
              "        vertical-align: top;\n",
              "    }\n",
              "\n",
              "    .dataframe thead th {\n",
              "        text-align: right;\n",
              "    }\n",
              "</style>\n",
              "<table border=\"1\" class=\"dataframe\">\n",
              "  <thead>\n",
              "    <tr style=\"text-align: right;\">\n",
              "      <th></th>\n",
              "      <th>label</th>\n",
              "      <th>text</th>\n",
              "    </tr>\n",
              "  </thead>\n",
              "  <tbody>\n",
              "    <tr>\n",
              "      <th>count</th>\n",
              "      <td>3510</td>\n",
              "      <td>3510</td>\n",
              "    </tr>\n",
              "    <tr>\n",
              "      <th>unique</th>\n",
              "      <td>24</td>\n",
              "      <td>3508</td>\n",
              "    </tr>\n",
              "    <tr>\n",
              "      <th>top</th>\n",
              "      <td>drug reaction</td>\n",
              "      <td>awoke morning see horrible rash skin several b...</td>\n",
              "    </tr>\n",
              "    <tr>\n",
              "      <th>freq</th>\n",
              "      <td>150</td>\n",
              "      <td>2</td>\n",
              "    </tr>\n",
              "  </tbody>\n",
              "</table>\n",
              "</div>\n",
              "    <div class=\"colab-df-buttons\">\n",
              "\n",
              "  <div class=\"colab-df-container\">\n",
              "    <button class=\"colab-df-convert\" onclick=\"convertToInteractive('df-95286e68-1a66-4fb7-abdb-3665019078ea')\"\n",
              "            title=\"Convert this dataframe to an interactive table.\"\n",
              "            style=\"display:none;\">\n",
              "\n",
              "  <svg xmlns=\"http://www.w3.org/2000/svg\" height=\"24px\" viewBox=\"0 -960 960 960\">\n",
              "    <path d=\"M120-120v-720h720v720H120Zm60-500h600v-160H180v160Zm220 220h160v-160H400v160Zm0 220h160v-160H400v160ZM180-400h160v-160H180v160Zm440 0h160v-160H620v160ZM180-180h160v-160H180v160Zm440 0h160v-160H620v160Z\"/>\n",
              "  </svg>\n",
              "    </button>\n",
              "\n",
              "  <style>\n",
              "    .colab-df-container {\n",
              "      display:flex;\n",
              "      gap: 12px;\n",
              "    }\n",
              "\n",
              "    .colab-df-convert {\n",
              "      background-color: #E8F0FE;\n",
              "      border: none;\n",
              "      border-radius: 50%;\n",
              "      cursor: pointer;\n",
              "      display: none;\n",
              "      fill: #1967D2;\n",
              "      height: 32px;\n",
              "      padding: 0 0 0 0;\n",
              "      width: 32px;\n",
              "    }\n",
              "\n",
              "    .colab-df-convert:hover {\n",
              "      background-color: #E2EBFA;\n",
              "      box-shadow: 0px 1px 2px rgba(60, 64, 67, 0.3), 0px 1px 3px 1px rgba(60, 64, 67, 0.15);\n",
              "      fill: #174EA6;\n",
              "    }\n",
              "\n",
              "    .colab-df-buttons div {\n",
              "      margin-bottom: 4px;\n",
              "    }\n",
              "\n",
              "    [theme=dark] .colab-df-convert {\n",
              "      background-color: #3B4455;\n",
              "      fill: #D2E3FC;\n",
              "    }\n",
              "\n",
              "    [theme=dark] .colab-df-convert:hover {\n",
              "      background-color: #434B5C;\n",
              "      box-shadow: 0px 1px 3px 1px rgba(0, 0, 0, 0.15);\n",
              "      filter: drop-shadow(0px 1px 2px rgba(0, 0, 0, 0.3));\n",
              "      fill: #FFFFFF;\n",
              "    }\n",
              "  </style>\n",
              "\n",
              "    <script>\n",
              "      const buttonEl =\n",
              "        document.querySelector('#df-95286e68-1a66-4fb7-abdb-3665019078ea button.colab-df-convert');\n",
              "      buttonEl.style.display =\n",
              "        google.colab.kernel.accessAllowed ? 'block' : 'none';\n",
              "\n",
              "      async function convertToInteractive(key) {\n",
              "        const element = document.querySelector('#df-95286e68-1a66-4fb7-abdb-3665019078ea');\n",
              "        const dataTable =\n",
              "          await google.colab.kernel.invokeFunction('convertToInteractive',\n",
              "                                                    [key], {});\n",
              "        if (!dataTable) return;\n",
              "\n",
              "        const docLinkHtml = 'Like what you see? Visit the ' +\n",
              "          '<a target=\"_blank\" href=https://colab.research.google.com/notebooks/data_table.ipynb>data table notebook</a>'\n",
              "          + ' to learn more about interactive tables.';\n",
              "        element.innerHTML = '';\n",
              "        dataTable['output_type'] = 'display_data';\n",
              "        await google.colab.output.renderOutput(dataTable, element);\n",
              "        const docLink = document.createElement('div');\n",
              "        docLink.innerHTML = docLinkHtml;\n",
              "        element.appendChild(docLink);\n",
              "      }\n",
              "    </script>\n",
              "  </div>\n",
              "\n",
              "\n",
              "<div id=\"df-df581880-6dcb-46fa-8d91-a8d6cb23399c\">\n",
              "  <button class=\"colab-df-quickchart\" onclick=\"quickchart('df-df581880-6dcb-46fa-8d91-a8d6cb23399c')\"\n",
              "            title=\"Suggest charts\"\n",
              "            style=\"display:none;\">\n",
              "\n",
              "<svg xmlns=\"http://www.w3.org/2000/svg\" height=\"24px\"viewBox=\"0 0 24 24\"\n",
              "     width=\"24px\">\n",
              "    <g>\n",
              "        <path d=\"M19 3H5c-1.1 0-2 .9-2 2v14c0 1.1.9 2 2 2h14c1.1 0 2-.9 2-2V5c0-1.1-.9-2-2-2zM9 17H7v-7h2v7zm4 0h-2V7h2v10zm4 0h-2v-4h2v4z\"/>\n",
              "    </g>\n",
              "</svg>\n",
              "  </button>\n",
              "\n",
              "<style>\n",
              "  .colab-df-quickchart {\n",
              "      --bg-color: #E8F0FE;\n",
              "      --fill-color: #1967D2;\n",
              "      --hover-bg-color: #E2EBFA;\n",
              "      --hover-fill-color: #174EA6;\n",
              "      --disabled-fill-color: #AAA;\n",
              "      --disabled-bg-color: #DDD;\n",
              "  }\n",
              "\n",
              "  [theme=dark] .colab-df-quickchart {\n",
              "      --bg-color: #3B4455;\n",
              "      --fill-color: #D2E3FC;\n",
              "      --hover-bg-color: #434B5C;\n",
              "      --hover-fill-color: #FFFFFF;\n",
              "      --disabled-bg-color: #3B4455;\n",
              "      --disabled-fill-color: #666;\n",
              "  }\n",
              "\n",
              "  .colab-df-quickchart {\n",
              "    background-color: var(--bg-color);\n",
              "    border: none;\n",
              "    border-radius: 50%;\n",
              "    cursor: pointer;\n",
              "    display: none;\n",
              "    fill: var(--fill-color);\n",
              "    height: 32px;\n",
              "    padding: 0;\n",
              "    width: 32px;\n",
              "  }\n",
              "\n",
              "  .colab-df-quickchart:hover {\n",
              "    background-color: var(--hover-bg-color);\n",
              "    box-shadow: 0 1px 2px rgba(60, 64, 67, 0.3), 0 1px 3px 1px rgba(60, 64, 67, 0.15);\n",
              "    fill: var(--button-hover-fill-color);\n",
              "  }\n",
              "\n",
              "  .colab-df-quickchart-complete:disabled,\n",
              "  .colab-df-quickchart-complete:disabled:hover {\n",
              "    background-color: var(--disabled-bg-color);\n",
              "    fill: var(--disabled-fill-color);\n",
              "    box-shadow: none;\n",
              "  }\n",
              "\n",
              "  .colab-df-spinner {\n",
              "    border: 2px solid var(--fill-color);\n",
              "    border-color: transparent;\n",
              "    border-bottom-color: var(--fill-color);\n",
              "    animation:\n",
              "      spin 1s steps(1) infinite;\n",
              "  }\n",
              "\n",
              "  @keyframes spin {\n",
              "    0% {\n",
              "      border-color: transparent;\n",
              "      border-bottom-color: var(--fill-color);\n",
              "      border-left-color: var(--fill-color);\n",
              "    }\n",
              "    20% {\n",
              "      border-color: transparent;\n",
              "      border-left-color: var(--fill-color);\n",
              "      border-top-color: var(--fill-color);\n",
              "    }\n",
              "    30% {\n",
              "      border-color: transparent;\n",
              "      border-left-color: var(--fill-color);\n",
              "      border-top-color: var(--fill-color);\n",
              "      border-right-color: var(--fill-color);\n",
              "    }\n",
              "    40% {\n",
              "      border-color: transparent;\n",
              "      border-right-color: var(--fill-color);\n",
              "      border-top-color: var(--fill-color);\n",
              "    }\n",
              "    60% {\n",
              "      border-color: transparent;\n",
              "      border-right-color: var(--fill-color);\n",
              "    }\n",
              "    80% {\n",
              "      border-color: transparent;\n",
              "      border-right-color: var(--fill-color);\n",
              "      border-bottom-color: var(--fill-color);\n",
              "    }\n",
              "    90% {\n",
              "      border-color: transparent;\n",
              "      border-bottom-color: var(--fill-color);\n",
              "    }\n",
              "  }\n",
              "</style>\n",
              "\n",
              "  <script>\n",
              "    async function quickchart(key) {\n",
              "      const quickchartButtonEl =\n",
              "        document.querySelector('#' + key + ' button');\n",
              "      quickchartButtonEl.disabled = true;  // To prevent multiple clicks.\n",
              "      quickchartButtonEl.classList.add('colab-df-spinner');\n",
              "      try {\n",
              "        const charts = await google.colab.kernel.invokeFunction(\n",
              "            'suggestCharts', [key], {});\n",
              "      } catch (error) {\n",
              "        console.error('Error during call to suggestCharts:', error);\n",
              "      }\n",
              "      quickchartButtonEl.classList.remove('colab-df-spinner');\n",
              "      quickchartButtonEl.classList.add('colab-df-quickchart-complete');\n",
              "    }\n",
              "    (() => {\n",
              "      let quickchartButtonEl =\n",
              "        document.querySelector('#df-df581880-6dcb-46fa-8d91-a8d6cb23399c button');\n",
              "      quickchartButtonEl.style.display =\n",
              "        google.colab.kernel.accessAllowed ? 'block' : 'none';\n",
              "    })();\n",
              "  </script>\n",
              "</div>\n",
              "\n",
              "  <div id=\"id_5cddc542-16cd-4833-8d27-7b030e5353b8\">\n",
              "    <style>\n",
              "      .colab-df-generate {\n",
              "        background-color: #E8F0FE;\n",
              "        border: none;\n",
              "        border-radius: 50%;\n",
              "        cursor: pointer;\n",
              "        display: none;\n",
              "        fill: #1967D2;\n",
              "        height: 32px;\n",
              "        padding: 0 0 0 0;\n",
              "        width: 32px;\n",
              "      }\n",
              "\n",
              "      .colab-df-generate:hover {\n",
              "        background-color: #E2EBFA;\n",
              "        box-shadow: 0px 1px 2px rgba(60, 64, 67, 0.3), 0px 1px 3px 1px rgba(60, 64, 67, 0.15);\n",
              "        fill: #174EA6;\n",
              "      }\n",
              "\n",
              "      [theme=dark] .colab-df-generate {\n",
              "        background-color: #3B4455;\n",
              "        fill: #D2E3FC;\n",
              "      }\n",
              "\n",
              "      [theme=dark] .colab-df-generate:hover {\n",
              "        background-color: #434B5C;\n",
              "        box-shadow: 0px 1px 3px 1px rgba(0, 0, 0, 0.15);\n",
              "        filter: drop-shadow(0px 1px 2px rgba(0, 0, 0, 0.3));\n",
              "        fill: #FFFFFF;\n",
              "      }\n",
              "    </style>\n",
              "    <button class=\"colab-df-generate\" onclick=\"generateWithVariable('info')\"\n",
              "            title=\"Generate code using this dataframe.\"\n",
              "            style=\"display:none;\">\n",
              "\n",
              "  <svg xmlns=\"http://www.w3.org/2000/svg\" height=\"24px\"viewBox=\"0 0 24 24\"\n",
              "       width=\"24px\">\n",
              "    <path d=\"M7,19H8.4L18.45,9,17,7.55,7,17.6ZM5,21V16.75L18.45,3.32a2,2,0,0,1,2.83,0l1.4,1.43a1.91,1.91,0,0,1,.58,1.4,1.91,1.91,0,0,1-.58,1.4L9.25,21ZM18.45,9,17,7.55Zm-12,3A5.31,5.31,0,0,0,4.9,8.1,5.31,5.31,0,0,0,1,6.5,5.31,5.31,0,0,0,4.9,4.9,5.31,5.31,0,0,0,6.5,1,5.31,5.31,0,0,0,8.1,4.9,5.31,5.31,0,0,0,12,6.5,5.46,5.46,0,0,0,6.5,12Z\"/>\n",
              "  </svg>\n",
              "    </button>\n",
              "    <script>\n",
              "      (() => {\n",
              "      const buttonEl =\n",
              "        document.querySelector('#id_5cddc542-16cd-4833-8d27-7b030e5353b8 button.colab-df-generate');\n",
              "      buttonEl.style.display =\n",
              "        google.colab.kernel.accessAllowed ? 'block' : 'none';\n",
              "\n",
              "      buttonEl.onclick = () => {\n",
              "        google.colab.notebook.generateWithVariable('info');\n",
              "      }\n",
              "      })();\n",
              "    </script>\n",
              "  </div>\n",
              "\n",
              "    </div>\n",
              "  </div>\n"
            ],
            "application/vnd.google.colaboratory.intrinsic+json": {
              "type": "dataframe",
              "variable_name": "info",
              "summary": "{\n  \"name\": \"info\",\n  \"rows\": 4,\n  \"fields\": [\n    {\n      \"column\": \"label\",\n      \"properties\": {\n        \"dtype\": \"string\",\n        \"num_unique_values\": 4,\n        \"samples\": [\n          24,\n          \"150\",\n          \"3510\"\n        ],\n        \"semantic_type\": \"\",\n        \"description\": \"\"\n      }\n    },\n    {\n      \"column\": \"text\",\n      \"properties\": {\n        \"dtype\": \"string\",\n        \"num_unique_values\": 4,\n        \"samples\": [\n          3508,\n          \"2\",\n          \"3510\"\n        ],\n        \"semantic_type\": \"\",\n        \"description\": \"\"\n      }\n    }\n  ]\n}"
            }
          },
          "metadata": {},
          "execution_count": 22
        }
      ],
      "source": [
        "# Charactieristics of the data\n",
        "info = data.describe().round()\n",
        "info"
      ]
    },
    {
      "cell_type": "markdown",
      "metadata": {
        "id": "dt65kAvXx4cX"
      },
      "source": [
        "# **Splitting the Dataset into Train set and Test set**"
      ]
    },
    {
      "cell_type": "code",
      "execution_count": null,
      "metadata": {
        "id": "2-Z9elZsq0Tg"
      },
      "outputs": [],
      "source": [
        "from sklearn.model_selection import train_test_split\n",
        "X_train, X_test, y_train, y_test = train_test_split(X, y, test_size = 0.25, random_state = 42)"
      ]
    },
    {
      "cell_type": "markdown",
      "metadata": {
        "id": "dXArmfTU2sJo"
      },
      "source": [
        "# **Text Feature Extraction**"
      ]
    },
    {
      "cell_type": "code",
      "execution_count": null,
      "metadata": {
        "id": "nTptkkBHVBtR"
      },
      "outputs": [],
      "source": [
        "# Text feature extraction using TF-IDF vectorizer to transform text data\n",
        "tfidf_vectorizer = TfidfVectorizer(max_features=2400)\n",
        "\n",
        "# Transforming training and testing data\n",
        "X_train = tfidf_vectorizer.fit_transform(X_train).toarray()\n",
        "X_test = tfidf_vectorizer.transform(X_test).toarray()"
      ]
    },
    {
      "cell_type": "code",
      "execution_count": null,
      "metadata": {
        "colab": {
          "base_uri": "https://localhost:8080/"
        },
        "id": "3vxcJwj9vP45",
        "outputId": "ac02499f-6682-4e18-aca1-5917f5ffbe9c"
      },
      "outputs": [
        {
          "output_type": "execute_result",
          "data": {
            "text/plain": [
              "['tfidf_vectorizer.joblib']"
            ]
          },
          "metadata": {},
          "execution_count": 25
        }
      ],
      "source": [
        "# Save TF-IDF vectorizer\n",
        "joblib.dump(tfidf_vectorizer, \"tfidf_vectorizer.joblib\")"
      ]
    },
    {
      "cell_type": "code",
      "execution_count": null,
      "metadata": {
        "colab": {
          "base_uri": "https://localhost:8080/",
          "height": 75
        },
        "id": "RYGBZj50vP45",
        "outputId": "bb6d7cc5-0c47-4c51-d6f0-c345d9f35233"
      },
      "outputs": [
        {
          "output_type": "execute_result",
          "data": {
            "text/plain": [
              "TfidfVectorizer(max_features=2400)"
            ],
            "text/html": [
              "<style>#sk-container-id-1 {color: black;background-color: white;}#sk-container-id-1 pre{padding: 0;}#sk-container-id-1 div.sk-toggleable {background-color: white;}#sk-container-id-1 label.sk-toggleable__label {cursor: pointer;display: block;width: 100%;margin-bottom: 0;padding: 0.3em;box-sizing: border-box;text-align: center;}#sk-container-id-1 label.sk-toggleable__label-arrow:before {content: \"▸\";float: left;margin-right: 0.25em;color: #696969;}#sk-container-id-1 label.sk-toggleable__label-arrow:hover:before {color: black;}#sk-container-id-1 div.sk-estimator:hover label.sk-toggleable__label-arrow:before {color: black;}#sk-container-id-1 div.sk-toggleable__content {max-height: 0;max-width: 0;overflow: hidden;text-align: left;background-color: #f0f8ff;}#sk-container-id-1 div.sk-toggleable__content pre {margin: 0.2em;color: black;border-radius: 0.25em;background-color: #f0f8ff;}#sk-container-id-1 input.sk-toggleable__control:checked~div.sk-toggleable__content {max-height: 200px;max-width: 100%;overflow: auto;}#sk-container-id-1 input.sk-toggleable__control:checked~label.sk-toggleable__label-arrow:before {content: \"▾\";}#sk-container-id-1 div.sk-estimator input.sk-toggleable__control:checked~label.sk-toggleable__label {background-color: #d4ebff;}#sk-container-id-1 div.sk-label input.sk-toggleable__control:checked~label.sk-toggleable__label {background-color: #d4ebff;}#sk-container-id-1 input.sk-hidden--visually {border: 0;clip: rect(1px 1px 1px 1px);clip: rect(1px, 1px, 1px, 1px);height: 1px;margin: -1px;overflow: hidden;padding: 0;position: absolute;width: 1px;}#sk-container-id-1 div.sk-estimator {font-family: monospace;background-color: #f0f8ff;border: 1px dotted black;border-radius: 0.25em;box-sizing: border-box;margin-bottom: 0.5em;}#sk-container-id-1 div.sk-estimator:hover {background-color: #d4ebff;}#sk-container-id-1 div.sk-parallel-item::after {content: \"\";width: 100%;border-bottom: 1px solid gray;flex-grow: 1;}#sk-container-id-1 div.sk-label:hover label.sk-toggleable__label {background-color: #d4ebff;}#sk-container-id-1 div.sk-serial::before {content: \"\";position: absolute;border-left: 1px solid gray;box-sizing: border-box;top: 0;bottom: 0;left: 50%;z-index: 0;}#sk-container-id-1 div.sk-serial {display: flex;flex-direction: column;align-items: center;background-color: white;padding-right: 0.2em;padding-left: 0.2em;position: relative;}#sk-container-id-1 div.sk-item {position: relative;z-index: 1;}#sk-container-id-1 div.sk-parallel {display: flex;align-items: stretch;justify-content: center;background-color: white;position: relative;}#sk-container-id-1 div.sk-item::before, #sk-container-id-1 div.sk-parallel-item::before {content: \"\";position: absolute;border-left: 1px solid gray;box-sizing: border-box;top: 0;bottom: 0;left: 50%;z-index: -1;}#sk-container-id-1 div.sk-parallel-item {display: flex;flex-direction: column;z-index: 1;position: relative;background-color: white;}#sk-container-id-1 div.sk-parallel-item:first-child::after {align-self: flex-end;width: 50%;}#sk-container-id-1 div.sk-parallel-item:last-child::after {align-self: flex-start;width: 50%;}#sk-container-id-1 div.sk-parallel-item:only-child::after {width: 0;}#sk-container-id-1 div.sk-dashed-wrapped {border: 1px dashed gray;margin: 0 0.4em 0.5em 0.4em;box-sizing: border-box;padding-bottom: 0.4em;background-color: white;}#sk-container-id-1 div.sk-label label {font-family: monospace;font-weight: bold;display: inline-block;line-height: 1.2em;}#sk-container-id-1 div.sk-label-container {text-align: center;}#sk-container-id-1 div.sk-container {/* jupyter's `normalize.less` sets `[hidden] { display: none; }` but bootstrap.min.css set `[hidden] { display: none !important; }` so we also need the `!important` here to be able to override the default hidden behavior on the sphinx rendered scikit-learn.org. See: https://github.com/scikit-learn/scikit-learn/issues/21755 */display: inline-block !important;position: relative;}#sk-container-id-1 div.sk-text-repr-fallback {display: none;}</style><div id=\"sk-container-id-1\" class=\"sk-top-container\"><div class=\"sk-text-repr-fallback\"><pre>TfidfVectorizer(max_features=2400)</pre><b>In a Jupyter environment, please rerun this cell to show the HTML representation or trust the notebook. <br />On GitHub, the HTML representation is unable to render, please try loading this page with nbviewer.org.</b></div><div class=\"sk-container\" hidden><div class=\"sk-item\"><div class=\"sk-estimator sk-toggleable\"><input class=\"sk-toggleable__control sk-hidden--visually\" id=\"sk-estimator-id-1\" type=\"checkbox\" checked><label for=\"sk-estimator-id-1\" class=\"sk-toggleable__label sk-toggleable__label-arrow\">TfidfVectorizer</label><div class=\"sk-toggleable__content\"><pre>TfidfVectorizer(max_features=2400)</pre></div></div></div></div></div>"
            ]
          },
          "metadata": {},
          "execution_count": 26
        }
      ],
      "source": [
        "# Load TF-IDF vectorizer\n",
        "joblib.load(\"tfidf_vectorizer.joblib\")"
      ]
    },
    {
      "cell_type": "markdown",
      "metadata": {
        "id": "dSaxInYhu249"
      },
      "source": [
        "\n",
        "\n",
        "---\n",
        "\n"
      ]
    },
    {
      "cell_type": "markdown",
      "metadata": {
        "id": "QHAv_pk-q8Fp"
      },
      "source": [
        "###############################################\n",
        "# ***Machine Learning Models***\n",
        "\n",
        "###############################################"
      ]
    },
    {
      "cell_type": "markdown",
      "metadata": {
        "id": "pCRoSxkRwrYi"
      },
      "source": [
        "# **Decision Tree Classifier**\n"
      ]
    },
    {
      "cell_type": "markdown",
      "metadata": {
        "id": "Vng6Jt7Kl0hW"
      },
      "source": [
        "## **Applying Grid Search to find the best model version and the best hyperparameters**"
      ]
    },
    {
      "cell_type": "code",
      "execution_count": null,
      "metadata": {
        "colab": {
          "base_uri": "https://localhost:8080/"
        },
        "id": "-cISgb9aVrlr",
        "outputId": "013caffe-0cd3-477d-bf76-d9e0817184b3"
      },
      "outputs": [
        {
          "name": "stdout",
          "output_type": "stream",
          "text": [
            "Best Hyperparameters: {'criterion': 'gini', 'max_depth': None, 'max_features': None, 'min_samples_leaf': 1, 'min_samples_split': 2}\n",
            "DecisionTreeClassifier(random_state=42)\n",
            "Best Accuracy: 86.74 %\n"
          ]
        }
      ],
      "source": [
        "from sklearn.tree import DecisionTreeClassifier\n",
        "from sklearn.model_selection import GridSearchCV\n",
        "\n",
        "# Create a Decision Tree Classifier object\n",
        "dt_classifier = DecisionTreeClassifier(random_state = 42)\n",
        "\n",
        "# Define the hyperparameters and their possible values to search\n",
        "parameters = {\n",
        "    'criterion': ['gini', 'entropy'],\n",
        "    'max_depth': [None, 10, 20, 30],\n",
        "    'min_samples_split': [2, 5, 10],\n",
        "    'min_samples_leaf': [1, 2, 4],\n",
        "    'max_features' : ['sqrt', 'log2', None]\n",
        "}\n",
        "\n",
        "# Create the Grid Search object\n",
        "grid_search = GridSearchCV(estimator = dt_classifier,\n",
        "                           param_grid = parameters,\n",
        "                           cv = 5,\n",
        "                           scoring = 'accuracy',\n",
        "                           n_jobs = -1)\n",
        "\n",
        "# Fit the Grid Search to the train data\n",
        "grid_search.fit(X_train, y_train)\n",
        "\n",
        "# Get the best hyperparameters found\n",
        "best_hyperparameters = grid_search.best_params_\n",
        "print(\"Best Hyperparameters:\", best_hyperparameters)\n",
        "\n",
        "# Get the best model version\n",
        "best_dt_classifier = grid_search.best_estimator_\n",
        "print(best_dt_classifier)\n",
        "\n",
        "# Print the best accuracy found\n",
        "best_accuracy = grid_search.best_score_\n",
        "print(f'Best Accuracy: {best_accuracy*100:.2f} %')\n"
      ]
    },
    {
      "cell_type": "code",
      "source": [
        "best_dt_classifier = DecisionTreeClassifier(random_state=42)\n",
        "best_dt_classifier.fit(X_train, y_train)"
      ],
      "metadata": {
        "colab": {
          "base_uri": "https://localhost:8080/",
          "height": 75
        },
        "id": "DWb8mpIWyZh3",
        "outputId": "b3ecc949-a579-4a3f-afb5-51d7b8de2e00"
      },
      "execution_count": null,
      "outputs": [
        {
          "output_type": "execute_result",
          "data": {
            "text/plain": [
              "DecisionTreeClassifier(random_state=42)"
            ],
            "text/html": [
              "<style>#sk-container-id-11 {color: black;background-color: white;}#sk-container-id-11 pre{padding: 0;}#sk-container-id-11 div.sk-toggleable {background-color: white;}#sk-container-id-11 label.sk-toggleable__label {cursor: pointer;display: block;width: 100%;margin-bottom: 0;padding: 0.3em;box-sizing: border-box;text-align: center;}#sk-container-id-11 label.sk-toggleable__label-arrow:before {content: \"▸\";float: left;margin-right: 0.25em;color: #696969;}#sk-container-id-11 label.sk-toggleable__label-arrow:hover:before {color: black;}#sk-container-id-11 div.sk-estimator:hover label.sk-toggleable__label-arrow:before {color: black;}#sk-container-id-11 div.sk-toggleable__content {max-height: 0;max-width: 0;overflow: hidden;text-align: left;background-color: #f0f8ff;}#sk-container-id-11 div.sk-toggleable__content pre {margin: 0.2em;color: black;border-radius: 0.25em;background-color: #f0f8ff;}#sk-container-id-11 input.sk-toggleable__control:checked~div.sk-toggleable__content {max-height: 200px;max-width: 100%;overflow: auto;}#sk-container-id-11 input.sk-toggleable__control:checked~label.sk-toggleable__label-arrow:before {content: \"▾\";}#sk-container-id-11 div.sk-estimator input.sk-toggleable__control:checked~label.sk-toggleable__label {background-color: #d4ebff;}#sk-container-id-11 div.sk-label input.sk-toggleable__control:checked~label.sk-toggleable__label {background-color: #d4ebff;}#sk-container-id-11 input.sk-hidden--visually {border: 0;clip: rect(1px 1px 1px 1px);clip: rect(1px, 1px, 1px, 1px);height: 1px;margin: -1px;overflow: hidden;padding: 0;position: absolute;width: 1px;}#sk-container-id-11 div.sk-estimator {font-family: monospace;background-color: #f0f8ff;border: 1px dotted black;border-radius: 0.25em;box-sizing: border-box;margin-bottom: 0.5em;}#sk-container-id-11 div.sk-estimator:hover {background-color: #d4ebff;}#sk-container-id-11 div.sk-parallel-item::after {content: \"\";width: 100%;border-bottom: 1px solid gray;flex-grow: 1;}#sk-container-id-11 div.sk-label:hover label.sk-toggleable__label {background-color: #d4ebff;}#sk-container-id-11 div.sk-serial::before {content: \"\";position: absolute;border-left: 1px solid gray;box-sizing: border-box;top: 0;bottom: 0;left: 50%;z-index: 0;}#sk-container-id-11 div.sk-serial {display: flex;flex-direction: column;align-items: center;background-color: white;padding-right: 0.2em;padding-left: 0.2em;position: relative;}#sk-container-id-11 div.sk-item {position: relative;z-index: 1;}#sk-container-id-11 div.sk-parallel {display: flex;align-items: stretch;justify-content: center;background-color: white;position: relative;}#sk-container-id-11 div.sk-item::before, #sk-container-id-11 div.sk-parallel-item::before {content: \"\";position: absolute;border-left: 1px solid gray;box-sizing: border-box;top: 0;bottom: 0;left: 50%;z-index: -1;}#sk-container-id-11 div.sk-parallel-item {display: flex;flex-direction: column;z-index: 1;position: relative;background-color: white;}#sk-container-id-11 div.sk-parallel-item:first-child::after {align-self: flex-end;width: 50%;}#sk-container-id-11 div.sk-parallel-item:last-child::after {align-self: flex-start;width: 50%;}#sk-container-id-11 div.sk-parallel-item:only-child::after {width: 0;}#sk-container-id-11 div.sk-dashed-wrapped {border: 1px dashed gray;margin: 0 0.4em 0.5em 0.4em;box-sizing: border-box;padding-bottom: 0.4em;background-color: white;}#sk-container-id-11 div.sk-label label {font-family: monospace;font-weight: bold;display: inline-block;line-height: 1.2em;}#sk-container-id-11 div.sk-label-container {text-align: center;}#sk-container-id-11 div.sk-container {/* jupyter's `normalize.less` sets `[hidden] { display: none; }` but bootstrap.min.css set `[hidden] { display: none !important; }` so we also need the `!important` here to be able to override the default hidden behavior on the sphinx rendered scikit-learn.org. See: https://github.com/scikit-learn/scikit-learn/issues/21755 */display: inline-block !important;position: relative;}#sk-container-id-11 div.sk-text-repr-fallback {display: none;}</style><div id=\"sk-container-id-11\" class=\"sk-top-container\"><div class=\"sk-text-repr-fallback\"><pre>DecisionTreeClassifier(random_state=42)</pre><b>In a Jupyter environment, please rerun this cell to show the HTML representation or trust the notebook. <br />On GitHub, the HTML representation is unable to render, please try loading this page with nbviewer.org.</b></div><div class=\"sk-container\" hidden><div class=\"sk-item\"><div class=\"sk-estimator sk-toggleable\"><input class=\"sk-toggleable__control sk-hidden--visually\" id=\"sk-estimator-id-11\" type=\"checkbox\" checked><label for=\"sk-estimator-id-11\" class=\"sk-toggleable__label sk-toggleable__label-arrow\">DecisionTreeClassifier</label><div class=\"sk-toggleable__content\"><pre>DecisionTreeClassifier(random_state=42)</pre></div></div></div></div></div>"
            ]
          },
          "metadata": {},
          "execution_count": 101
        }
      ]
    },
    {
      "cell_type": "markdown",
      "metadata": {
        "id": "pAl8LtxZmAcO"
      },
      "source": [
        "## **Model Evaluation**"
      ]
    },
    {
      "cell_type": "code",
      "execution_count": null,
      "metadata": {
        "colab": {
          "base_uri": "https://localhost:8080/"
        },
        "id": "9eKpuvVhw_DP",
        "outputId": "1dad2d16-5b31-439f-e764-d4a2181d1c58"
      },
      "outputs": [
        {
          "output_type": "stream",
          "name": "stdout",
          "text": [
            "Training Score: 100.00 %\n",
            "Testing Score: 89.52 %\n"
          ]
        }
      ],
      "source": [
        "# Calculate and Compare the Score of train data and test data\n",
        "\n",
        "train_score = best_dt_classifier.score(X_train, y_train)\n",
        "test_score = best_dt_classifier.score(X_test, y_test)\n",
        "\n",
        "# Print the scores\n",
        "print(f'Training Score: {train_score*100:.2f} %')\n",
        "print(f'Testing Score: {test_score*100:.2f} %')\n"
      ]
    },
    {
      "cell_type": "code",
      "execution_count": null,
      "metadata": {
        "id": "E_j4V1Gsw_Ar"
      },
      "outputs": [],
      "source": [
        "# Make Predictions on the train data and test data\n",
        "\n",
        "train_predictions = best_dt_classifier.predict(X_train)\n",
        "test_predictions = best_dt_classifier.predict(X_test)"
      ]
    },
    {
      "cell_type": "code",
      "execution_count": null,
      "metadata": {
        "colab": {
          "base_uri": "https://localhost:8080/"
        },
        "id": "HVt2rMYd_9X1",
        "outputId": "78a2ad9c-f58c-47de-d9cc-dd89580b47dc"
      },
      "outputs": [
        {
          "output_type": "stream",
          "name": "stdout",
          "text": [
            "Training Accuracy: 100.00 %\n",
            "Testing Accuracy: 89.52 %\n"
          ]
        }
      ],
      "source": [
        "# Calculate and Compare the Accuracy for training and testing data\n",
        "from sklearn.metrics import accuracy_score\n",
        "\n",
        "train_accuracy = accuracy_score(y_train, train_predictions)\n",
        "test_accuracy = accuracy_score(y_test, test_predictions)\n",
        "\n",
        "# Print the accuracies\n",
        "print(f'Training Accuracy: {train_accuracy*100:.2f} %')\n",
        "print(f'Testing Accuracy: {test_accuracy*100:.2f} %')\n"
      ]
    },
    {
      "cell_type": "code",
      "execution_count": null,
      "metadata": {
        "colab": {
          "base_uri": "https://localhost:8080/"
        },
        "id": "aPkW0YN2w--C",
        "outputId": "a7e65d67-4674-4fef-97fa-6d82676e6998"
      },
      "outputs": [
        {
          "output_type": "stream",
          "name": "stdout",
          "text": [
            "[[36  0  0  0  0  0  0  0  0  0  0  0  0  0  0  0  0  0  0  0  0  0  0  0]\n",
            " [ 0 39  0  0  0  0  0  0  0  0  0  0  0  0  0  0  0  0  0  0  0  0  0  0]\n",
            " [ 0  0 30  0  1  0  0  0  0  0  0  0  0  0  0  0  0  0  0  0  0  0  0  0]\n",
            " [ 0  0  0 32  3  0  1  0  0  0  0  0  0  0  0  0  0  0  0  0  0  0  0  0]\n",
            " [ 0  0  0  0 26  0  4  0  4  0  0  0  0  1  0  2  1  0  1  2  0  0  0  0]\n",
            " [ 0  0  0  0  0 38  0  0  0  0  0  0  0  0  0  0  0  0  0  0  0  0  0  0]\n",
            " [ 0  0  0  0  5  1 26  0  0  1  0  0  1  2  0  4  1  0  2  0  0  0  0  0]\n",
            " [ 0  0  0  0  0  0  0 34  0  0  0  0  0  0  0  0  2  0  0  0  0  0  2  0]\n",
            " [ 0  0  0  0  1  0  2  0 35  0  0  0  0  0  0  2  0  0  0  0  0  0  0  0]\n",
            " [ 0  0  0  0  0  0  0  0  0 30  0  0  0  0  0  0  0  0  0  0  1  0  0  1]\n",
            " [ 0  0  0  0  3  0  0  0  1  0 30  0  0  0  0  0  0  0  0  0  0  0  0  0]\n",
            " [ 0  0  0  0  0  0  0  0  0  0  0 34  0  0  0  0  0  0  0  0  0  0  0  0]\n",
            " [ 0  0  0  0  0  0  0  0  0  0  0  0 32  0  0  0  0  0  0  0  0  0  0  0]\n",
            " [ 0  0  0  0  2  0  0  0  0  0  0  0  0 29  0  0  0  0  0  0  0  0  0  0]\n",
            " [ 0  0  1  0  0  0  0  0  0  0  0  0  0  0 24  0  1  0  0  0  0  0  0  0]\n",
            " [ 0  0  0  0  0  0  1  0  2  0  1  0  0  0  0 35  0  0  1  0  1  0  0  0]\n",
            " [ 0  0  0  0  0  1  0  1  0  0  0  0  0  0  0  0 31  0  0  0  0  2  3  0]\n",
            " [ 0  0  0  0  0  0  1  0  0  0  0  0  0  0  0  0  0 56  0  0  0  0  0  0]\n",
            " [ 0  0  0  0  0  0  0  0  1  0  0  0  0  0  1  0  0  0 35  0  0  2  0  0]\n",
            " [ 0  0  0  0  0  0  0  0  0  0  0  0  0  0  0  0  0  0  0 30  4  0  0  0]\n",
            " [ 0  0  0  0  0  0  0  0  0  0  0  0  0  0  0  2  1  0  0  0 33  0  0  0]\n",
            " [ 0  0  0  0  0  0  0  0  0  0  0  0  0  0  0  0  1  0  1  0  0 32  0  0]\n",
            " [ 0  0  0  0  1  0  0  1  0  0  0  0  0  0  0  0  3  0  0  1  0  0 26  0]\n",
            " [ 0  0  0  0  0  0  0  0  0  0  0  0  0  0  0  1  0  0  0  1  0  0  1 33]]\n"
          ]
        }
      ],
      "source": [
        "# Make the Confusion Matrix\n",
        "from sklearn.metrics import confusion_matrix\n",
        "\n",
        "cm_1 = confusion_matrix(y_test, test_predictions)\n",
        "\n",
        "# Print the Confusion Matrix\n",
        "print(cm_1)"
      ]
    },
    {
      "cell_type": "code",
      "source": [
        "print(f\"The Accuracy = {accuracy_score(y_test, test_predictions)*100:.2f} %\")"
      ],
      "metadata": {
        "colab": {
          "base_uri": "https://localhost:8080/"
        },
        "id": "MShf3TCeqG53",
        "outputId": "c9ed017d-ea41-4f2a-a1fd-7d7bae2150f0"
      },
      "execution_count": null,
      "outputs": [
        {
          "output_type": "stream",
          "name": "stdout",
          "text": [
            "The Accuracy = 89.52 %\n"
          ]
        }
      ]
    },
    {
      "cell_type": "code",
      "source": [
        "print(classification_report(y_test, test_predictions))"
      ],
      "metadata": {
        "colab": {
          "base_uri": "https://localhost:8080/"
        },
        "id": "POU5lChDzEYn",
        "outputId": "0b33be65-fd7f-444f-ea72-b41625262492"
      },
      "execution_count": null,
      "outputs": [
        {
          "output_type": "stream",
          "name": "stdout",
          "text": [
            "                                 precision    recall  f1-score   support\n",
            "\n",
            "                           Acne       1.00      1.00      1.00        36\n",
            "                      Arthritis       1.00      1.00      1.00        39\n",
            "               Bronchial Asthma       0.97      0.97      0.97        31\n",
            "           Cervical spondylosis       1.00      0.89      0.94        36\n",
            "                    Chicken pox       0.62      0.63      0.63        41\n",
            "                    Common Cold       0.95      1.00      0.97        38\n",
            "                         Dengue       0.74      0.60      0.67        43\n",
            "          Dimorphic Hemorrhoids       0.94      0.89      0.92        38\n",
            "               Fungal infection       0.81      0.88      0.84        40\n",
            "                   Hypertension       0.97      0.94      0.95        32\n",
            "                       Impetigo       0.97      0.88      0.92        34\n",
            "                       Jaundice       1.00      1.00      1.00        34\n",
            "                        Malaria       0.97      1.00      0.98        32\n",
            "                       Migraine       0.91      0.94      0.92        31\n",
            "                      Pneumonia       0.96      0.92      0.94        26\n",
            "                      Psoriasis       0.76      0.85      0.80        41\n",
            "                        Typhoid       0.76      0.82      0.78        38\n",
            "                 Varicose Veins       1.00      0.98      0.99        57\n",
            "                        allergy       0.88      0.90      0.89        39\n",
            "                       diabetes       0.88      0.88      0.88        34\n",
            "                  drug reaction       0.85      0.92      0.88        36\n",
            "gastroesophageal reflux disease       0.89      0.94      0.91        34\n",
            "           peptic ulcer disease       0.81      0.81      0.81        32\n",
            "        urinary tract infection       0.97      0.92      0.94        36\n",
            "\n",
            "                       accuracy                           0.90       878\n",
            "                      macro avg       0.90      0.90      0.90       878\n",
            "                   weighted avg       0.90      0.90      0.90       878\n",
            "\n"
          ]
        }
      ]
    },
    {
      "cell_type": "markdown",
      "metadata": {
        "id": "c9HUxISYmQu-"
      },
      "source": [
        "## **Model Validation**"
      ]
    },
    {
      "cell_type": "code",
      "execution_count": null,
      "metadata": {
        "colab": {
          "base_uri": "https://localhost:8080/"
        },
        "id": "gaPf3TwOw-7D",
        "outputId": "c25e7789-6c71-4012-c039-24cc89ad2e1a"
      },
      "outputs": [
        {
          "output_type": "stream",
          "name": "stdout",
          "text": [
            "The abdominal pain has been coming and going, and it's been really unpleasant. It's been accompanied by constipation and vomiting. I feel really concerned about my health.\n",
            "abdominal pain coming going really unpleasant accompanied constipation vomiting feel really concerned health\n",
            "[[0.        ]\n",
            " [0.30370294]\n",
            " [0.        ]\n",
            " ...\n",
            " [0.        ]\n",
            " [0.        ]\n",
            " [0.        ]]\n",
            "['Typhoid']\n"
          ]
        }
      ],
      "source": [
        "# Validation Test #\n",
        "\n",
        "# text_before = \"The skin around my mouth, nose, and eyes is ruddy and kindled. It is regularly bothersome and awkward. There's a recognizable aggravation in my nails.\"\n",
        "\n",
        "text_before = \"The abdominal pain has been coming and going, and it's been really unpleasant. It's been accompanied by constipation and vomiting. I feel really concerned about my health.\"\n",
        "\n",
        "# Cleaning\n",
        "text_after = preprocess_text(text_before)\n",
        "\n",
        "print(text_before)\n",
        "print(text_after)\n",
        "\n",
        "# Vectorization\n",
        "tfidf_vectorizer\n",
        "\n",
        "text_after = tfidf_vectorizer.transform([text_after]).toarray()\n",
        "\n",
        "print(text_after.reshape(-1,1))\n",
        "\n",
        "# Prediction\n",
        "disease = best_dt_classifier.predict(text_after)\n",
        "\n",
        "print(disease)"
      ]
    },
    {
      "cell_type": "markdown",
      "metadata": {
        "id": "1YbBX7jwoS4K"
      },
      "source": [
        "# **Random Forest Classifier**\n",
        "\n",
        "Random Forest is an ensemble learning algorithm,\n",
        "It works by constructing multiple decision trees."
      ]
    },
    {
      "cell_type": "markdown",
      "metadata": {
        "id": "EaLWUeEoQ907"
      },
      "source": [
        "## **Applying Grid Search to find the best model version and the best hyperparameters**"
      ]
    },
    {
      "cell_type": "code",
      "execution_count": null,
      "metadata": {
        "id": "8EJgNQnFHtkm",
        "outputId": "dee22c28-0805-48ff-930f-8ba83aaf69d7",
        "scrolled": true
      },
      "outputs": [
        {
          "name": "stdout",
          "output_type": "stream",
          "text": [
            "Best Hyperparameters: {'criterion': 'entropy', 'max_depth': None, 'max_features': 'log2', 'min_samples_leaf': 1, 'min_samples_split': 2, 'n_estimators': 100}\n",
            "RandomForestClassifier(criterion='entropy', max_features='log2',\n",
            "                       random_state=42)\n",
            "Best Accuracy: 97.68 %\n"
          ]
        }
      ],
      "source": [
        "from sklearn.ensemble import RandomForestClassifier\n",
        "from sklearn.model_selection import GridSearchCV\n",
        "\n",
        "# Create a Random Forest Classifier object\n",
        "rf_classifier = RandomForestClassifier(random_state = 42)\n",
        "\n",
        "# Define the hyperparameters and their possible values to search\n",
        "parameters = {\n",
        "    'n_estimators': [10, 50, 100],\n",
        "    'criterion': ['gini', 'entropy'],\n",
        "    'max_depth': [None, 10, 20, 30],\n",
        "    'min_samples_split': [2, 5, 10],\n",
        "    'min_samples_leaf': [1, 2, 4],\n",
        "    'max_features' : ['sqrt', 'log2', None]\n",
        "}\n",
        "\n",
        "# Create the Grid Search object\n",
        "grid_search = GridSearchCV(estimator = rf_classifier,\n",
        "                           param_grid = parameters,\n",
        "                           cv = 5,\n",
        "                           scoring = 'accuracy',\n",
        "                           n_jobs = -1)\n",
        "\n",
        "# Fit the Grid Search to the train data\n",
        "grid_search.fit(X_train, y_train)\n",
        "\n",
        "# Get the best hyperparameters found\n",
        "best_hyperparameters = grid_search.best_params_\n",
        "print(\"Best Hyperparameters:\", best_hyperparameters)\n",
        "\n",
        "# Get the best model version\n",
        "best_rf_classifier = grid_search.best_estimator_\n",
        "print(best_rf_classifier)\n",
        "\n",
        "# Get the best accuracy found\n",
        "best_accuracy = grid_search.best_score_\n",
        "print(f'Best Accuracy: {best_accuracy*100:.2f} %')\n"
      ]
    },
    {
      "cell_type": "code",
      "source": [
        "best_rf_classifier = RandomForestClassifier(criterion='entropy', max_features='log2', random_state=42)\n",
        "best_rf_classifier.fit(X_train, y_train)"
      ],
      "metadata": {
        "colab": {
          "base_uri": "https://localhost:8080/",
          "height": 92
        },
        "id": "Ip5EFUHdzcYn",
        "outputId": "7fe118b1-6fc4-443d-e9d7-790d73dcb208"
      },
      "execution_count": null,
      "outputs": [
        {
          "output_type": "execute_result",
          "data": {
            "text/plain": [
              "RandomForestClassifier(criterion='entropy', max_features='log2',\n",
              "                       random_state=42)"
            ],
            "text/html": [
              "<style>#sk-container-id-12 {color: black;background-color: white;}#sk-container-id-12 pre{padding: 0;}#sk-container-id-12 div.sk-toggleable {background-color: white;}#sk-container-id-12 label.sk-toggleable__label {cursor: pointer;display: block;width: 100%;margin-bottom: 0;padding: 0.3em;box-sizing: border-box;text-align: center;}#sk-container-id-12 label.sk-toggleable__label-arrow:before {content: \"▸\";float: left;margin-right: 0.25em;color: #696969;}#sk-container-id-12 label.sk-toggleable__label-arrow:hover:before {color: black;}#sk-container-id-12 div.sk-estimator:hover label.sk-toggleable__label-arrow:before {color: black;}#sk-container-id-12 div.sk-toggleable__content {max-height: 0;max-width: 0;overflow: hidden;text-align: left;background-color: #f0f8ff;}#sk-container-id-12 div.sk-toggleable__content pre {margin: 0.2em;color: black;border-radius: 0.25em;background-color: #f0f8ff;}#sk-container-id-12 input.sk-toggleable__control:checked~div.sk-toggleable__content {max-height: 200px;max-width: 100%;overflow: auto;}#sk-container-id-12 input.sk-toggleable__control:checked~label.sk-toggleable__label-arrow:before {content: \"▾\";}#sk-container-id-12 div.sk-estimator input.sk-toggleable__control:checked~label.sk-toggleable__label {background-color: #d4ebff;}#sk-container-id-12 div.sk-label input.sk-toggleable__control:checked~label.sk-toggleable__label {background-color: #d4ebff;}#sk-container-id-12 input.sk-hidden--visually {border: 0;clip: rect(1px 1px 1px 1px);clip: rect(1px, 1px, 1px, 1px);height: 1px;margin: -1px;overflow: hidden;padding: 0;position: absolute;width: 1px;}#sk-container-id-12 div.sk-estimator {font-family: monospace;background-color: #f0f8ff;border: 1px dotted black;border-radius: 0.25em;box-sizing: border-box;margin-bottom: 0.5em;}#sk-container-id-12 div.sk-estimator:hover {background-color: #d4ebff;}#sk-container-id-12 div.sk-parallel-item::after {content: \"\";width: 100%;border-bottom: 1px solid gray;flex-grow: 1;}#sk-container-id-12 div.sk-label:hover label.sk-toggleable__label {background-color: #d4ebff;}#sk-container-id-12 div.sk-serial::before {content: \"\";position: absolute;border-left: 1px solid gray;box-sizing: border-box;top: 0;bottom: 0;left: 50%;z-index: 0;}#sk-container-id-12 div.sk-serial {display: flex;flex-direction: column;align-items: center;background-color: white;padding-right: 0.2em;padding-left: 0.2em;position: relative;}#sk-container-id-12 div.sk-item {position: relative;z-index: 1;}#sk-container-id-12 div.sk-parallel {display: flex;align-items: stretch;justify-content: center;background-color: white;position: relative;}#sk-container-id-12 div.sk-item::before, #sk-container-id-12 div.sk-parallel-item::before {content: \"\";position: absolute;border-left: 1px solid gray;box-sizing: border-box;top: 0;bottom: 0;left: 50%;z-index: -1;}#sk-container-id-12 div.sk-parallel-item {display: flex;flex-direction: column;z-index: 1;position: relative;background-color: white;}#sk-container-id-12 div.sk-parallel-item:first-child::after {align-self: flex-end;width: 50%;}#sk-container-id-12 div.sk-parallel-item:last-child::after {align-self: flex-start;width: 50%;}#sk-container-id-12 div.sk-parallel-item:only-child::after {width: 0;}#sk-container-id-12 div.sk-dashed-wrapped {border: 1px dashed gray;margin: 0 0.4em 0.5em 0.4em;box-sizing: border-box;padding-bottom: 0.4em;background-color: white;}#sk-container-id-12 div.sk-label label {font-family: monospace;font-weight: bold;display: inline-block;line-height: 1.2em;}#sk-container-id-12 div.sk-label-container {text-align: center;}#sk-container-id-12 div.sk-container {/* jupyter's `normalize.less` sets `[hidden] { display: none; }` but bootstrap.min.css set `[hidden] { display: none !important; }` so we also need the `!important` here to be able to override the default hidden behavior on the sphinx rendered scikit-learn.org. See: https://github.com/scikit-learn/scikit-learn/issues/21755 */display: inline-block !important;position: relative;}#sk-container-id-12 div.sk-text-repr-fallback {display: none;}</style><div id=\"sk-container-id-12\" class=\"sk-top-container\"><div class=\"sk-text-repr-fallback\"><pre>RandomForestClassifier(criterion=&#x27;entropy&#x27;, max_features=&#x27;log2&#x27;,\n",
              "                       random_state=42)</pre><b>In a Jupyter environment, please rerun this cell to show the HTML representation or trust the notebook. <br />On GitHub, the HTML representation is unable to render, please try loading this page with nbviewer.org.</b></div><div class=\"sk-container\" hidden><div class=\"sk-item\"><div class=\"sk-estimator sk-toggleable\"><input class=\"sk-toggleable__control sk-hidden--visually\" id=\"sk-estimator-id-12\" type=\"checkbox\" checked><label for=\"sk-estimator-id-12\" class=\"sk-toggleable__label sk-toggleable__label-arrow\">RandomForestClassifier</label><div class=\"sk-toggleable__content\"><pre>RandomForestClassifier(criterion=&#x27;entropy&#x27;, max_features=&#x27;log2&#x27;,\n",
              "                       random_state=42)</pre></div></div></div></div></div>"
            ]
          },
          "metadata": {},
          "execution_count": 109
        }
      ]
    },
    {
      "cell_type": "markdown",
      "metadata": {
        "id": "JS_uN5jYgFCC"
      },
      "source": [
        "## **Model Evaluation**"
      ]
    },
    {
      "cell_type": "code",
      "execution_count": null,
      "metadata": {
        "id": "PMW_bzlVHsFm",
        "outputId": "44dbdc90-115d-4d68-9b8c-8b498799bd34",
        "colab": {
          "base_uri": "https://localhost:8080/"
        }
      },
      "outputs": [
        {
          "output_type": "stream",
          "name": "stdout",
          "text": [
            "Training Score: 100.00 %\n",
            "Testing Score: 98.06 %\n"
          ]
        }
      ],
      "source": [
        "# Calculate and Compare the Score of train data and test data\n",
        "\n",
        "train_score = best_rf_classifier.score(X_train, y_train)\n",
        "test_score = best_rf_classifier.score(X_test, y_test)\n",
        "\n",
        "# Print the scores\n",
        "print(f'Training Score: {train_score*100:.2f} %')\n",
        "print(f'Testing Score: {test_score*100:.2f} %')\n"
      ]
    },
    {
      "cell_type": "code",
      "execution_count": null,
      "metadata": {
        "id": "jbAkvSazsXMO"
      },
      "outputs": [],
      "source": [
        "# Make Predictions on the train data and test data\n",
        "\n",
        "train_predictions = best_rf_classifier.predict(X_train)\n",
        "test_predictions = best_rf_classifier.predict(X_test)"
      ]
    },
    {
      "cell_type": "code",
      "execution_count": null,
      "metadata": {
        "colab": {
          "base_uri": "https://localhost:8080/"
        },
        "id": "GZZVDqdfDCBk",
        "outputId": "887d1ad3-85fd-4a0c-c02c-99725dccccbc"
      },
      "outputs": [
        {
          "output_type": "stream",
          "name": "stdout",
          "text": [
            "Training Accuracy: 100.00 %\n",
            "Testing Accuracy: 98.06 %\n"
          ]
        }
      ],
      "source": [
        "# Calculate and Compare the Accuracy for training and testing data\n",
        "from sklearn.metrics import accuracy_score\n",
        "\n",
        "train_accuracy = accuracy_score(y_train, train_predictions)\n",
        "test_accuracy = accuracy_score(y_test, test_predictions)\n",
        "\n",
        "# Print the accuracies\n",
        "print(f'Training Accuracy: {train_accuracy*100:.2f} %')\n",
        "print(f'Testing Accuracy: {test_accuracy*100:.2f} %')\n"
      ]
    },
    {
      "cell_type": "code",
      "execution_count": null,
      "metadata": {
        "colab": {
          "base_uri": "https://localhost:8080/"
        },
        "id": "GaDUVRJ4s0hw",
        "outputId": "cde43441-7ca5-442a-c6c1-c788941e209d"
      },
      "outputs": [
        {
          "output_type": "stream",
          "name": "stdout",
          "text": [
            "[[36  0  0  0  0  0  0  0  0  0  0  0  0  0  0  0  0  0  0  0  0  0  0  0]\n",
            " [ 0 39  0  0  0  0  0  0  0  0  0  0  0  0  0  0  0  0  0  0  0  0  0  0]\n",
            " [ 0  0 31  0  0  0  0  0  0  0  0  0  0  0  0  0  0  0  0  0  0  0  0  0]\n",
            " [ 0  0  0 36  0  0  0  0  0  0  0  0  0  0  0  0  0  0  0  0  0  0  0  0]\n",
            " [ 0  0  0  0 35  0  2  0  0  0  0  0  0  0  0  1  2  0  0  0  0  0  1  0]\n",
            " [ 0  0  0  0  0 38  0  0  0  0  0  0  0  0  0  0  0  0  0  0  0  0  0  0]\n",
            " [ 0  0  0  1  2  0 38  0  0  1  0  0  1  0  0  0  0  0  0  0  0  0  0  0]\n",
            " [ 0  0  0  0  0  0  0 38  0  0  0  0  0  0  0  0  0  0  0  0  0  0  0  0]\n",
            " [ 0  0  0  0  0  0  0  0 40  0  0  0  0  0  0  0  0  0  0  0  0  0  0  0]\n",
            " [ 0  0  0  0  0  0  0  0  0 32  0  0  0  0  0  0  0  0  0  0  0  0  0  0]\n",
            " [ 0  0  0  0  0  0  0  0  0  0 34  0  0  0  0  0  0  0  0  0  0  0  0  0]\n",
            " [ 0  0  0  0  0  0  0  0  0  0  0 34  0  0  0  0  0  0  0  0  0  0  0  0]\n",
            " [ 0  0  0  0  0  0  0  0  0  0  0  0 32  0  0  0  0  0  0  0  0  0  0  0]\n",
            " [ 0  0  0  0  0  0  0  0  0  0  0  0  0 31  0  0  0  0  0  0  0  0  0  0]\n",
            " [ 0  0  2  0  0  0  0  0  0  0  0  0  0  0 24  0  0  0  0  0  0  0  0  0]\n",
            " [ 0  0  0  0  0  0  0  0  0  0  0  0  0  0  0 40  0  0  0  0  0  0  1  0]\n",
            " [ 0  0  0  0  0  0  1  0  0  0  0  0  0  0  0  0 37  0  0  0  0  0  0  0]\n",
            " [ 0  0  0  0  0  0  0  0  0  0  0  0  0  0  0  0  0 57  0  0  0  0  0  0]\n",
            " [ 0  0  0  0  0  0  0  0  0  0  0  0  0  0  0  0  0  0 39  0  0  0  0  0]\n",
            " [ 0  0  0  0  0  0  0  0  0  0  0  0  0  1  0  0  0  0  0 33  0  0  0  0]\n",
            " [ 0  0  0  0  0  0  0  0  0  1  0  0  0  0  0  0  0  0  0  0 35  0  0  0]\n",
            " [ 0  0  0  0  0  0  0  0  0  0  0  0  0  0  0  0  0  0  0  0  0 34  0  0]\n",
            " [ 0  0  0  0  0  0  0  0  0  0  0  0  0  0  0  0  0  0  0  0  0  0 32  0]\n",
            " [ 0  0  0  0  0  0  0  0  0  0  0  0  0  0  0  0  0  0  0  0  0  0  0 36]]\n"
          ]
        }
      ],
      "source": [
        "# Make the Confusion Matrix\n",
        "from sklearn.metrics import confusion_matrix\n",
        "\n",
        "cm_2 = confusion_matrix(y_test, test_predictions)\n",
        "\n",
        "# Print the Confusion Matrix\n",
        "print(cm_2)"
      ]
    },
    {
      "cell_type": "code",
      "source": [
        "print(f\"The Accuracy = {accuracy_score(y_test, test_predictions)*100:.2f} %\")"
      ],
      "metadata": {
        "colab": {
          "base_uri": "https://localhost:8080/"
        },
        "id": "asXQE2gR8xoo",
        "outputId": "b919c067-3768-412b-fb50-9b9eb89c9002"
      },
      "execution_count": null,
      "outputs": [
        {
          "output_type": "stream",
          "name": "stdout",
          "text": [
            "The Accuracy = 98.06 %\n"
          ]
        }
      ]
    },
    {
      "cell_type": "code",
      "source": [
        "print(classification_report(y_test, test_predictions))"
      ],
      "metadata": {
        "colab": {
          "base_uri": "https://localhost:8080/"
        },
        "id": "k2Af82pd0Py_",
        "outputId": "3b07ec73-9480-4825-af65-c62619cc475c"
      },
      "execution_count": null,
      "outputs": [
        {
          "output_type": "stream",
          "name": "stdout",
          "text": [
            "                                 precision    recall  f1-score   support\n",
            "\n",
            "                           Acne       1.00      1.00      1.00        36\n",
            "                      Arthritis       1.00      1.00      1.00        39\n",
            "               Bronchial Asthma       0.94      1.00      0.97        31\n",
            "           Cervical spondylosis       0.97      1.00      0.99        36\n",
            "                    Chicken pox       0.95      0.85      0.90        41\n",
            "                    Common Cold       1.00      1.00      1.00        38\n",
            "                         Dengue       0.93      0.88      0.90        43\n",
            "          Dimorphic Hemorrhoids       1.00      1.00      1.00        38\n",
            "               Fungal infection       1.00      1.00      1.00        40\n",
            "                   Hypertension       0.94      1.00      0.97        32\n",
            "                       Impetigo       1.00      1.00      1.00        34\n",
            "                       Jaundice       1.00      1.00      1.00        34\n",
            "                        Malaria       0.97      1.00      0.98        32\n",
            "                       Migraine       0.97      1.00      0.98        31\n",
            "                      Pneumonia       1.00      0.92      0.96        26\n",
            "                      Psoriasis       0.98      0.98      0.98        41\n",
            "                        Typhoid       0.95      0.97      0.96        38\n",
            "                 Varicose Veins       1.00      1.00      1.00        57\n",
            "                        allergy       1.00      1.00      1.00        39\n",
            "                       diabetes       1.00      0.97      0.99        34\n",
            "                  drug reaction       1.00      0.97      0.99        36\n",
            "gastroesophageal reflux disease       1.00      1.00      1.00        34\n",
            "           peptic ulcer disease       0.94      1.00      0.97        32\n",
            "        urinary tract infection       1.00      1.00      1.00        36\n",
            "\n",
            "                       accuracy                           0.98       878\n",
            "                      macro avg       0.98      0.98      0.98       878\n",
            "                   weighted avg       0.98      0.98      0.98       878\n",
            "\n"
          ]
        }
      ]
    },
    {
      "cell_type": "markdown",
      "metadata": {
        "id": "pcUcQGcLebEI"
      },
      "source": [
        "## **Model Validation**"
      ]
    },
    {
      "cell_type": "code",
      "execution_count": null,
      "metadata": {
        "colab": {
          "base_uri": "https://localhost:8080/"
        },
        "id": "pEvzWa8sSNWK",
        "outputId": "4dd88a7d-1b19-479d-ce3c-be2e46712137"
      },
      "outputs": [
        {
          "output_type": "stream",
          "name": "stdout",
          "text": [
            "The abdominal pain has been coming and going, and it's been really unpleasant. It's been accompanied by constipation and vomiting. I feel really concerned about my health.\n",
            "abdominal pain coming going really unpleasant accompanied constipation vomiting feel really concerned health\n",
            "[[0.        ]\n",
            " [0.30370294]\n",
            " [0.        ]\n",
            " ...\n",
            " [0.        ]\n",
            " [0.        ]\n",
            " [0.        ]]\n",
            "['Typhoid']\n"
          ]
        }
      ],
      "source": [
        "# Validation Test #\n",
        "\n",
        "# text_before = \"The skin around my mouth, nose, and eyes is ruddy and kindled. It is regularly bothersome and awkward. There's a recognizable aggravation in my nails.\"\n",
        "\n",
        "text_before = \"The abdominal pain has been coming and going, and it's been really unpleasant. It's been accompanied by constipation and vomiting. I feel really concerned about my health.\"\n",
        "\n",
        "# Cleaning\n",
        "text_after = preprocess_text(text_before)\n",
        "\n",
        "print(text_before)\n",
        "print(text_after)\n",
        "\n",
        "# Vectorization\n",
        "tfidf_vectorizer\n",
        "\n",
        "text_after = tfidf_vectorizer.transform([text_after]).toarray()\n",
        "\n",
        "print(text_after.reshape(-1,1))\n",
        "\n",
        "# Prediction\n",
        "disease = best_rf_classifier.predict(text_after)\n",
        "\n",
        "print(disease)"
      ]
    },
    {
      "cell_type": "markdown",
      "metadata": {
        "id": "d0k7d7L0s1vq"
      },
      "source": [
        "# **Support Vector Machine (SVM)**\n",
        "\n",
        "Its primary purpose is to find a hyperplane that best separates data points into different classes."
      ]
    },
    {
      "cell_type": "markdown",
      "metadata": {
        "id": "Bom9hKvdjUJZ"
      },
      "source": [
        "## **Applying Grid Search to find the best model version and the best hyperparameters**"
      ]
    },
    {
      "cell_type": "code",
      "execution_count": null,
      "metadata": {
        "id": "fLnb_he6ULhV",
        "outputId": "c4a921d8-3f09-4c0e-cbb0-4a2d594a894c"
      },
      "outputs": [
        {
          "name": "stdout",
          "output_type": "stream",
          "text": [
            "Best Hyperparameters: {'C': 1, 'kernel': 'linear'}\n",
            "SVC(C=1, kernel='linear', random_state=42)\n",
            "Best Accuracy: 98.67 %\n"
          ]
        }
      ],
      "source": [
        "from sklearn.svm import SVC\n",
        "from sklearn.model_selection import GridSearchCV\n",
        "\n",
        "# Create a Support Vector Machine Classifier object\n",
        "svm_classifier = SVC(random_state = 42)\n",
        "\n",
        "# Define the hyperparameters and their possible values to search\n",
        "parameters = [{'C': [0.25, 0.5, 0.75, 1], 'kernel': ['linear']},\n",
        "              {'C': [0.25, 0.5, 0.75, 1],'kernel': ['rbf'], 'gamma': ['scale', 'auto', 0.1, 0.2, 0.3, 0.4, 0.5, 0.6, 0.7, 0.8, 0.9, 1]}]\n",
        "\n",
        "# Create the Grid Search object\n",
        "grid_search = GridSearchCV(estimator = svm_classifier,\n",
        "                           param_grid = parameters,\n",
        "                           cv = 5,\n",
        "                           scoring = 'accuracy',\n",
        "                           n_jobs = -1)\n",
        "\n",
        "# Fit the Grid Search to the train data\n",
        "grid_search.fit(X_train, y_train)\n",
        "\n",
        "# Get the best hyperparameters found\n",
        "best_hyperparameters = grid_search.best_params_\n",
        "print(\"Best Hyperparameters:\", best_hyperparameters)\n",
        "\n",
        "# Get the best model version\n",
        "best_svm_classifier = grid_search.best_estimator_\n",
        "print(best_svm_classifier)\n",
        "\n",
        "# Print the best accuracy found\n",
        "best_accuracy = grid_search.best_score_\n",
        "print(f'Best Accuracy: {best_accuracy*100:.2f} %')\n"
      ]
    },
    {
      "cell_type": "code",
      "execution_count": null,
      "metadata": {
        "scrolled": true,
        "colab": {
          "base_uri": "https://localhost:8080/",
          "height": 75
        },
        "id": "IHeDykrFvP5N",
        "outputId": "875fb327-c3c2-4f19-d1f7-09036911ad24"
      },
      "outputs": [
        {
          "output_type": "execute_result",
          "data": {
            "text/plain": [
              "SVC(C=1, kernel='linear', probability=True, random_state=42)"
            ],
            "text/html": [
              "<style>#sk-container-id-2 {color: black;background-color: white;}#sk-container-id-2 pre{padding: 0;}#sk-container-id-2 div.sk-toggleable {background-color: white;}#sk-container-id-2 label.sk-toggleable__label {cursor: pointer;display: block;width: 100%;margin-bottom: 0;padding: 0.3em;box-sizing: border-box;text-align: center;}#sk-container-id-2 label.sk-toggleable__label-arrow:before {content: \"▸\";float: left;margin-right: 0.25em;color: #696969;}#sk-container-id-2 label.sk-toggleable__label-arrow:hover:before {color: black;}#sk-container-id-2 div.sk-estimator:hover label.sk-toggleable__label-arrow:before {color: black;}#sk-container-id-2 div.sk-toggleable__content {max-height: 0;max-width: 0;overflow: hidden;text-align: left;background-color: #f0f8ff;}#sk-container-id-2 div.sk-toggleable__content pre {margin: 0.2em;color: black;border-radius: 0.25em;background-color: #f0f8ff;}#sk-container-id-2 input.sk-toggleable__control:checked~div.sk-toggleable__content {max-height: 200px;max-width: 100%;overflow: auto;}#sk-container-id-2 input.sk-toggleable__control:checked~label.sk-toggleable__label-arrow:before {content: \"▾\";}#sk-container-id-2 div.sk-estimator input.sk-toggleable__control:checked~label.sk-toggleable__label {background-color: #d4ebff;}#sk-container-id-2 div.sk-label input.sk-toggleable__control:checked~label.sk-toggleable__label {background-color: #d4ebff;}#sk-container-id-2 input.sk-hidden--visually {border: 0;clip: rect(1px 1px 1px 1px);clip: rect(1px, 1px, 1px, 1px);height: 1px;margin: -1px;overflow: hidden;padding: 0;position: absolute;width: 1px;}#sk-container-id-2 div.sk-estimator {font-family: monospace;background-color: #f0f8ff;border: 1px dotted black;border-radius: 0.25em;box-sizing: border-box;margin-bottom: 0.5em;}#sk-container-id-2 div.sk-estimator:hover {background-color: #d4ebff;}#sk-container-id-2 div.sk-parallel-item::after {content: \"\";width: 100%;border-bottom: 1px solid gray;flex-grow: 1;}#sk-container-id-2 div.sk-label:hover label.sk-toggleable__label {background-color: #d4ebff;}#sk-container-id-2 div.sk-serial::before {content: \"\";position: absolute;border-left: 1px solid gray;box-sizing: border-box;top: 0;bottom: 0;left: 50%;z-index: 0;}#sk-container-id-2 div.sk-serial {display: flex;flex-direction: column;align-items: center;background-color: white;padding-right: 0.2em;padding-left: 0.2em;position: relative;}#sk-container-id-2 div.sk-item {position: relative;z-index: 1;}#sk-container-id-2 div.sk-parallel {display: flex;align-items: stretch;justify-content: center;background-color: white;position: relative;}#sk-container-id-2 div.sk-item::before, #sk-container-id-2 div.sk-parallel-item::before {content: \"\";position: absolute;border-left: 1px solid gray;box-sizing: border-box;top: 0;bottom: 0;left: 50%;z-index: -1;}#sk-container-id-2 div.sk-parallel-item {display: flex;flex-direction: column;z-index: 1;position: relative;background-color: white;}#sk-container-id-2 div.sk-parallel-item:first-child::after {align-self: flex-end;width: 50%;}#sk-container-id-2 div.sk-parallel-item:last-child::after {align-self: flex-start;width: 50%;}#sk-container-id-2 div.sk-parallel-item:only-child::after {width: 0;}#sk-container-id-2 div.sk-dashed-wrapped {border: 1px dashed gray;margin: 0 0.4em 0.5em 0.4em;box-sizing: border-box;padding-bottom: 0.4em;background-color: white;}#sk-container-id-2 div.sk-label label {font-family: monospace;font-weight: bold;display: inline-block;line-height: 1.2em;}#sk-container-id-2 div.sk-label-container {text-align: center;}#sk-container-id-2 div.sk-container {/* jupyter's `normalize.less` sets `[hidden] { display: none; }` but bootstrap.min.css set `[hidden] { display: none !important; }` so we also need the `!important` here to be able to override the default hidden behavior on the sphinx rendered scikit-learn.org. See: https://github.com/scikit-learn/scikit-learn/issues/21755 */display: inline-block !important;position: relative;}#sk-container-id-2 div.sk-text-repr-fallback {display: none;}</style><div id=\"sk-container-id-2\" class=\"sk-top-container\"><div class=\"sk-text-repr-fallback\"><pre>SVC(C=1, kernel=&#x27;linear&#x27;, probability=True, random_state=42)</pre><b>In a Jupyter environment, please rerun this cell to show the HTML representation or trust the notebook. <br />On GitHub, the HTML representation is unable to render, please try loading this page with nbviewer.org.</b></div><div class=\"sk-container\" hidden><div class=\"sk-item\"><div class=\"sk-estimator sk-toggleable\"><input class=\"sk-toggleable__control sk-hidden--visually\" id=\"sk-estimator-id-2\" type=\"checkbox\" checked><label for=\"sk-estimator-id-2\" class=\"sk-toggleable__label sk-toggleable__label-arrow\">SVC</label><div class=\"sk-toggleable__content\"><pre>SVC(C=1, kernel=&#x27;linear&#x27;, probability=True, random_state=42)</pre></div></div></div></div></div>"
            ]
          },
          "metadata": {},
          "execution_count": 27
        }
      ],
      "source": [
        "best_svm_classifier = SVC(C=1, kernel='linear', random_state=42, probability=True)\n",
        "best_svm_classifier.fit(X_train, y_train)"
      ]
    },
    {
      "cell_type": "code",
      "execution_count": null,
      "metadata": {
        "colab": {
          "base_uri": "https://localhost:8080/"
        },
        "id": "efHtkDrgvP5N",
        "outputId": "043e3874-eae6-49c2-c561-fc94ad42499a"
      },
      "outputs": [
        {
          "output_type": "execute_result",
          "data": {
            "text/plain": [
              "['best_svm_classifier.joblib']"
            ]
          },
          "metadata": {},
          "execution_count": 91
        }
      ],
      "source": [
        "# Save pretrained Model\n",
        "joblib.dump(best_svm_classifier, \"best_svm_classifier.joblib\")"
      ]
    },
    {
      "cell_type": "code",
      "execution_count": null,
      "metadata": {
        "colab": {
          "base_uri": "https://localhost:8080/",
          "height": 75
        },
        "id": "J5vC5XKDvP5O",
        "outputId": "fb4b4879-0810-4742-f93c-ab8871a9d463"
      },
      "outputs": [
        {
          "output_type": "execute_result",
          "data": {
            "text/plain": [
              "SVC(C=1, kernel='linear', probability=True, random_state=42)"
            ],
            "text/html": [
              "<style>#sk-container-id-10 {color: black;background-color: white;}#sk-container-id-10 pre{padding: 0;}#sk-container-id-10 div.sk-toggleable {background-color: white;}#sk-container-id-10 label.sk-toggleable__label {cursor: pointer;display: block;width: 100%;margin-bottom: 0;padding: 0.3em;box-sizing: border-box;text-align: center;}#sk-container-id-10 label.sk-toggleable__label-arrow:before {content: \"▸\";float: left;margin-right: 0.25em;color: #696969;}#sk-container-id-10 label.sk-toggleable__label-arrow:hover:before {color: black;}#sk-container-id-10 div.sk-estimator:hover label.sk-toggleable__label-arrow:before {color: black;}#sk-container-id-10 div.sk-toggleable__content {max-height: 0;max-width: 0;overflow: hidden;text-align: left;background-color: #f0f8ff;}#sk-container-id-10 div.sk-toggleable__content pre {margin: 0.2em;color: black;border-radius: 0.25em;background-color: #f0f8ff;}#sk-container-id-10 input.sk-toggleable__control:checked~div.sk-toggleable__content {max-height: 200px;max-width: 100%;overflow: auto;}#sk-container-id-10 input.sk-toggleable__control:checked~label.sk-toggleable__label-arrow:before {content: \"▾\";}#sk-container-id-10 div.sk-estimator input.sk-toggleable__control:checked~label.sk-toggleable__label {background-color: #d4ebff;}#sk-container-id-10 div.sk-label input.sk-toggleable__control:checked~label.sk-toggleable__label {background-color: #d4ebff;}#sk-container-id-10 input.sk-hidden--visually {border: 0;clip: rect(1px 1px 1px 1px);clip: rect(1px, 1px, 1px, 1px);height: 1px;margin: -1px;overflow: hidden;padding: 0;position: absolute;width: 1px;}#sk-container-id-10 div.sk-estimator {font-family: monospace;background-color: #f0f8ff;border: 1px dotted black;border-radius: 0.25em;box-sizing: border-box;margin-bottom: 0.5em;}#sk-container-id-10 div.sk-estimator:hover {background-color: #d4ebff;}#sk-container-id-10 div.sk-parallel-item::after {content: \"\";width: 100%;border-bottom: 1px solid gray;flex-grow: 1;}#sk-container-id-10 div.sk-label:hover label.sk-toggleable__label {background-color: #d4ebff;}#sk-container-id-10 div.sk-serial::before {content: \"\";position: absolute;border-left: 1px solid gray;box-sizing: border-box;top: 0;bottom: 0;left: 50%;z-index: 0;}#sk-container-id-10 div.sk-serial {display: flex;flex-direction: column;align-items: center;background-color: white;padding-right: 0.2em;padding-left: 0.2em;position: relative;}#sk-container-id-10 div.sk-item {position: relative;z-index: 1;}#sk-container-id-10 div.sk-parallel {display: flex;align-items: stretch;justify-content: center;background-color: white;position: relative;}#sk-container-id-10 div.sk-item::before, #sk-container-id-10 div.sk-parallel-item::before {content: \"\";position: absolute;border-left: 1px solid gray;box-sizing: border-box;top: 0;bottom: 0;left: 50%;z-index: -1;}#sk-container-id-10 div.sk-parallel-item {display: flex;flex-direction: column;z-index: 1;position: relative;background-color: white;}#sk-container-id-10 div.sk-parallel-item:first-child::after {align-self: flex-end;width: 50%;}#sk-container-id-10 div.sk-parallel-item:last-child::after {align-self: flex-start;width: 50%;}#sk-container-id-10 div.sk-parallel-item:only-child::after {width: 0;}#sk-container-id-10 div.sk-dashed-wrapped {border: 1px dashed gray;margin: 0 0.4em 0.5em 0.4em;box-sizing: border-box;padding-bottom: 0.4em;background-color: white;}#sk-container-id-10 div.sk-label label {font-family: monospace;font-weight: bold;display: inline-block;line-height: 1.2em;}#sk-container-id-10 div.sk-label-container {text-align: center;}#sk-container-id-10 div.sk-container {/* jupyter's `normalize.less` sets `[hidden] { display: none; }` but bootstrap.min.css set `[hidden] { display: none !important; }` so we also need the `!important` here to be able to override the default hidden behavior on the sphinx rendered scikit-learn.org. See: https://github.com/scikit-learn/scikit-learn/issues/21755 */display: inline-block !important;position: relative;}#sk-container-id-10 div.sk-text-repr-fallback {display: none;}</style><div id=\"sk-container-id-10\" class=\"sk-top-container\"><div class=\"sk-text-repr-fallback\"><pre>SVC(C=1, kernel=&#x27;linear&#x27;, probability=True, random_state=42)</pre><b>In a Jupyter environment, please rerun this cell to show the HTML representation or trust the notebook. <br />On GitHub, the HTML representation is unable to render, please try loading this page with nbviewer.org.</b></div><div class=\"sk-container\" hidden><div class=\"sk-item\"><div class=\"sk-estimator sk-toggleable\"><input class=\"sk-toggleable__control sk-hidden--visually\" id=\"sk-estimator-id-10\" type=\"checkbox\" checked><label for=\"sk-estimator-id-10\" class=\"sk-toggleable__label sk-toggleable__label-arrow\">SVC</label><div class=\"sk-toggleable__content\"><pre>SVC(C=1, kernel=&#x27;linear&#x27;, probability=True, random_state=42)</pre></div></div></div></div></div>"
            ]
          },
          "metadata": {},
          "execution_count": 92
        }
      ],
      "source": [
        "# Load pretrained Model\n",
        "joblib.load(\"best_svm_classifier.joblib\")"
      ]
    },
    {
      "cell_type": "markdown",
      "metadata": {
        "id": "0dATDK4LjSZJ"
      },
      "source": [
        "## **Model Evaluation**"
      ]
    },
    {
      "cell_type": "code",
      "execution_count": null,
      "metadata": {
        "colab": {
          "base_uri": "https://localhost:8080/"
        },
        "id": "3DKozBXcmzr2",
        "outputId": "45897055-e5cf-479f-c075-004f9eca7704"
      },
      "outputs": [
        {
          "output_type": "stream",
          "name": "stdout",
          "text": [
            "Training Score: 100.00 %\n",
            "Testing Score: 99.43 %\n"
          ]
        }
      ],
      "source": [
        "# Calculate and Compare the Score of train data and test data\n",
        "\n",
        "train_score = best_svm_classifier.score(X_train, y_train)\n",
        "test_score = best_svm_classifier.score(X_test, y_test)\n",
        "\n",
        "# Print the scores\n",
        "print(f'Training Score: {train_score*100:.2f} %')\n",
        "print(f'Testing Score: {test_score*100:.2f} %')\n"
      ]
    },
    {
      "cell_type": "code",
      "execution_count": null,
      "metadata": {
        "id": "3vcy7L-I0xVf"
      },
      "outputs": [],
      "source": [
        "# Make Predictions on the train data and test data\n",
        "\n",
        "train_predictions = best_svm_classifier.predict(X_train)\n",
        "test_predictions = best_svm_classifier.predict(X_test)"
      ]
    },
    {
      "cell_type": "code",
      "execution_count": null,
      "metadata": {
        "colab": {
          "base_uri": "https://localhost:8080/"
        },
        "id": "KffsYxTLDFMy",
        "outputId": "59e60135-3f5d-463c-fe20-cf434c6746d3"
      },
      "outputs": [
        {
          "output_type": "stream",
          "name": "stdout",
          "text": [
            "Training Accuracy: 100.00 %\n",
            "Testing Accuracy: 99.43 %\n"
          ]
        }
      ],
      "source": [
        "# Calculate and Compare the Accuracy for training and testing data\n",
        "from sklearn.metrics import accuracy_score\n",
        "\n",
        "train_accuracy = accuracy_score(y_train, train_predictions)\n",
        "test_accuracy = accuracy_score(y_test, test_predictions)\n",
        "\n",
        "# Print the accuracies\n",
        "print(f'Training Accuracy: {train_accuracy*100:.2f} %')\n",
        "print(f'Testing Accuracy: {test_accuracy*100:.2f} %')\n"
      ]
    },
    {
      "cell_type": "code",
      "execution_count": null,
      "metadata": {
        "colab": {
          "base_uri": "https://localhost:8080/"
        },
        "id": "djPXfWkj01kW",
        "outputId": "86597acc-0961-4091-e3fe-be646340f8f0"
      },
      "outputs": [
        {
          "output_type": "stream",
          "name": "stdout",
          "text": [
            "[[36  0  0  0  0  0  0  0  0  0  0  0  0  0  0  0  0  0  0  0  0  0  0  0]\n",
            " [ 0 39  0  0  0  0  0  0  0  0  0  0  0  0  0  0  0  0  0  0  0  0  0  0]\n",
            " [ 0  0 31  0  0  0  0  0  0  0  0  0  0  0  0  0  0  0  0  0  0  0  0  0]\n",
            " [ 0  0  0 36  0  0  0  0  0  0  0  0  0  0  0  0  0  0  0  0  0  0  0  0]\n",
            " [ 0  0  0  0 38  0  1  0  0  0  0  0  0  0  0  1  1  0  0  0  0  0  0  0]\n",
            " [ 0  0  0  0  0 38  0  0  0  0  0  0  0  0  0  0  0  0  0  0  0  0  0  0]\n",
            " [ 0  0  0  0  1  0 42  0  0  0  0  0  0  0  0  0  0  0  0  0  0  0  0  0]\n",
            " [ 0  0  0  0  0  0  0 38  0  0  0  0  0  0  0  0  0  0  0  0  0  0  0  0]\n",
            " [ 0  0  0  0  0  0  0  0 40  0  0  0  0  0  0  0  0  0  0  0  0  0  0  0]\n",
            " [ 0  0  0  0  0  0  0  0  0 32  0  0  0  0  0  0  0  0  0  0  0  0  0  0]\n",
            " [ 0  0  0  0  0  0  0  0  0  0 34  0  0  0  0  0  0  0  0  0  0  0  0  0]\n",
            " [ 0  0  0  0  0  0  0  0  0  0  0 34  0  0  0  0  0  0  0  0  0  0  0  0]\n",
            " [ 0  0  0  0  0  0  0  0  0  0  0  0 32  0  0  0  0  0  0  0  0  0  0  0]\n",
            " [ 0  0  0  0  0  0  0  0  0  0  0  0  0 31  0  0  0  0  0  0  0  0  0  0]\n",
            " [ 0  0  0  0  0  0  0  0  0  0  0  0  0  0 26  0  0  0  0  0  0  0  0  0]\n",
            " [ 0  0  0  0  0  0  1  0  0  0  0  0  0  0  0 40  0  0  0  0  0  0  0  0]\n",
            " [ 0  0  0  0  0  0  0  0  0  0  0  0  0  0  0  0 38  0  0  0  0  0  0  0]\n",
            " [ 0  0  0  0  0  0  0  0  0  0  0  0  0  0  0  0  0 57  0  0  0  0  0  0]\n",
            " [ 0  0  0  0  0  0  0  0  0  0  0  0  0  0  0  0  0  0 39  0  0  0  0  0]\n",
            " [ 0  0  0  0  0  0  0  0  0  0  0  0  0  0  0  0  0  0  0 34  0  0  0  0]\n",
            " [ 0  0  0  0  0  0  0  0  0  0  0  0  0  0  0  0  0  0  0  0 36  0  0  0]\n",
            " [ 0  0  0  0  0  0  0  0  0  0  0  0  0  0  0  0  0  0  0  0  0 34  0  0]\n",
            " [ 0  0  0  0  0  0  0  0  0  0  0  0  0  0  0  0  0  0  0  0  0  0 32  0]\n",
            " [ 0  0  0  0  0  0  0  0  0  0  0  0  0  0  0  0  0  0  0  0  0  0  0 36]]\n"
          ]
        }
      ],
      "source": [
        "# Make the Confusion Matrix\n",
        "from sklearn.metrics import confusion_matrix\n",
        "\n",
        "cm_3 = confusion_matrix(y_test, test_predictions)\n",
        "\n",
        "# Print the Confusion Matrix\n",
        "print(cm_3)"
      ]
    },
    {
      "cell_type": "code",
      "source": [
        "# Confusion Matrix Visualization (Heatmap)\n",
        "plt.figure(figsize=(10, 8))\n",
        "sns.heatmap(cm_3, annot=True, fmt='d', cmap='Blues', xticklabels=y.unique(), yticklabels=y.unique())\n",
        "plt.xlabel('Predicted')\n",
        "plt.ylabel('Actual')\n",
        "plt.title('Confusion Matrix')\n",
        "plt.show()"
      ],
      "metadata": {
        "colab": {
          "base_uri": "https://localhost:8080/",
          "height": 930
        },
        "id": "psgRuoOCjVGa",
        "outputId": "b05fbeba-fb37-40da-8a15-c32ce7365da5"
      },
      "execution_count": null,
      "outputs": [
        {
          "output_type": "display_data",
          "data": {
            "text/plain": [
              "<Figure size 1000x800 with 2 Axes>"
            ],
            "image/png": "[encoded data removed]"
          },
          "metadata": {}
        }
      ]
    },
    {
      "cell_type": "code",
      "source": [
        "print(f\"The Accuracy = {accuracy_score(y_test, test_predictions)*100:.2f} %\")"
      ],
      "metadata": {
        "colab": {
          "base_uri": "https://localhost:8080/"
        },
        "id": "2R5se6vVqkKU",
        "outputId": "64854674-cf65-4c2f-b112-93f807488713"
      },
      "execution_count": null,
      "outputs": [
        {
          "output_type": "stream",
          "name": "stdout",
          "text": [
            "The Accuracy = 99.43 %\n"
          ]
        }
      ]
    },
    {
      "cell_type": "code",
      "source": [
        "print(classification_report(y_test, test_predictions))"
      ],
      "metadata": {
        "colab": {
          "base_uri": "https://localhost:8080/"
        },
        "id": "NEj4wjFnjViK",
        "outputId": "8b9dfe99-a619-45de-c251-405006d6376d"
      },
      "execution_count": null,
      "outputs": [
        {
          "output_type": "stream",
          "name": "stdout",
          "text": [
            "                                 precision    recall  f1-score   support\n",
            "\n",
            "                           Acne       1.00      1.00      1.00        36\n",
            "                      Arthritis       1.00      1.00      1.00        39\n",
            "               Bronchial Asthma       1.00      1.00      1.00        31\n",
            "           Cervical spondylosis       1.00      1.00      1.00        36\n",
            "                    Chicken pox       0.97      0.93      0.95        41\n",
            "                    Common Cold       1.00      1.00      1.00        38\n",
            "                         Dengue       0.95      0.98      0.97        43\n",
            "          Dimorphic Hemorrhoids       1.00      1.00      1.00        38\n",
            "               Fungal infection       1.00      1.00      1.00        40\n",
            "                   Hypertension       1.00      1.00      1.00        32\n",
            "                       Impetigo       1.00      1.00      1.00        34\n",
            "                       Jaundice       1.00      1.00      1.00        34\n",
            "                        Malaria       1.00      1.00      1.00        32\n",
            "                       Migraine       1.00      1.00      1.00        31\n",
            "                      Pneumonia       1.00      1.00      1.00        26\n",
            "                      Psoriasis       0.98      0.98      0.98        41\n",
            "                        Typhoid       0.97      1.00      0.99        38\n",
            "                 Varicose Veins       1.00      1.00      1.00        57\n",
            "                        allergy       1.00      1.00      1.00        39\n",
            "                       diabetes       1.00      1.00      1.00        34\n",
            "                  drug reaction       1.00      1.00      1.00        36\n",
            "gastroesophageal reflux disease       1.00      1.00      1.00        34\n",
            "           peptic ulcer disease       1.00      1.00      1.00        32\n",
            "        urinary tract infection       1.00      1.00      1.00        36\n",
            "\n",
            "                       accuracy                           0.99       878\n",
            "                      macro avg       0.99      0.99      0.99       878\n",
            "                   weighted avg       0.99      0.99      0.99       878\n",
            "\n"
          ]
        }
      ]
    },
    {
      "cell_type": "code",
      "source": [
        "# Create an empty list to store the comparison results\n",
        "comparison_results = []\n",
        "\n",
        "# Comparison between predicted and true labels\n",
        "for pred, true in zip(test_predictions, y_test):\n",
        "    comparison_results.append({'Predicted': pred, 'True': true})\n",
        "\n",
        "# Print the comparison results in dictionary form\n",
        "for result in comparison_results:\n",
        "    print(result)"
      ],
      "metadata": {
        "colab": {
          "base_uri": "https://localhost:8080/"
        },
        "id": "o4vvyhYENUrM",
        "outputId": "3acf2019-742b-48ca-aff9-50f5a060a1f2"
      },
      "execution_count": null,
      "outputs": [
        {
          "output_type": "stream",
          "name": "stdout",
          "text": [
            "{'Predicted': 'drug reaction', 'True': 'drug reaction'}\n",
            "{'Predicted': 'Typhoid', 'True': 'Typhoid'}\n",
            "{'Predicted': 'urinary tract infection', 'True': 'urinary tract infection'}\n",
            "{'Predicted': 'Impetigo', 'True': 'Impetigo'}\n",
            "{'Predicted': 'Dengue', 'True': 'Dengue'}\n",
            "{'Predicted': 'Common Cold', 'True': 'Common Cold'}\n",
            "{'Predicted': 'peptic ulcer disease', 'True': 'peptic ulcer disease'}\n",
            "{'Predicted': 'Hypertension', 'True': 'Hypertension'}\n",
            "{'Predicted': 'Pneumonia', 'True': 'Pneumonia'}\n",
            "{'Predicted': 'Pneumonia', 'True': 'Pneumonia'}\n",
            "{'Predicted': 'Dengue', 'True': 'Dengue'}\n",
            "{'Predicted': 'Pneumonia', 'True': 'Pneumonia'}\n",
            "{'Predicted': 'Migraine', 'True': 'Migraine'}\n",
            "{'Predicted': 'diabetes', 'True': 'diabetes'}\n",
            "{'Predicted': 'Varicose Veins', 'True': 'Varicose Veins'}\n",
            "{'Predicted': 'peptic ulcer disease', 'True': 'peptic ulcer disease'}\n",
            "{'Predicted': 'Dengue', 'True': 'Dengue'}\n",
            "{'Predicted': 'Dimorphic Hemorrhoids', 'True': 'Dimorphic Hemorrhoids'}\n",
            "{'Predicted': 'Common Cold', 'True': 'Common Cold'}\n",
            "{'Predicted': 'Arthritis', 'True': 'Arthritis'}\n",
            "{'Predicted': 'Chicken pox', 'True': 'Chicken pox'}\n",
            "{'Predicted': 'Bronchial Asthma', 'True': 'Bronchial Asthma'}\n",
            "{'Predicted': 'Dimorphic Hemorrhoids', 'True': 'Dimorphic Hemorrhoids'}\n",
            "{'Predicted': 'urinary tract infection', 'True': 'urinary tract infection'}\n",
            "{'Predicted': 'allergy', 'True': 'allergy'}\n",
            "{'Predicted': 'Dengue', 'True': 'Psoriasis'}\n",
            "{'Predicted': 'Hypertension', 'True': 'Hypertension'}\n",
            "{'Predicted': 'Acne', 'True': 'Acne'}\n",
            "{'Predicted': 'Impetigo', 'True': 'Impetigo'}\n",
            "{'Predicted': 'Impetigo', 'True': 'Impetigo'}\n",
            "{'Predicted': 'Hypertension', 'True': 'Hypertension'}\n",
            "{'Predicted': 'Pneumonia', 'True': 'Pneumonia'}\n",
            "{'Predicted': 'Hypertension', 'True': 'Hypertension'}\n",
            "{'Predicted': 'allergy', 'True': 'allergy'}\n",
            "{'Predicted': 'diabetes', 'True': 'diabetes'}\n",
            "{'Predicted': 'Common Cold', 'True': 'Common Cold'}\n",
            "{'Predicted': 'Bronchial Asthma', 'True': 'Bronchial Asthma'}\n",
            "{'Predicted': 'Dengue', 'True': 'Dengue'}\n",
            "{'Predicted': 'Common Cold', 'True': 'Common Cold'}\n",
            "{'Predicted': 'Arthritis', 'True': 'Arthritis'}\n",
            "{'Predicted': 'Migraine', 'True': 'Migraine'}\n",
            "{'Predicted': 'Psoriasis', 'True': 'Psoriasis'}\n",
            "{'Predicted': 'Impetigo', 'True': 'Impetigo'}\n",
            "{'Predicted': 'diabetes', 'True': 'diabetes'}\n",
            "{'Predicted': 'Common Cold', 'True': 'Common Cold'}\n",
            "{'Predicted': 'Malaria', 'True': 'Malaria'}\n",
            "{'Predicted': 'Psoriasis', 'True': 'Psoriasis'}\n",
            "{'Predicted': 'Migraine', 'True': 'Migraine'}\n",
            "{'Predicted': 'Acne', 'True': 'Acne'}\n",
            "{'Predicted': 'Dengue', 'True': 'Dengue'}\n",
            "{'Predicted': 'Psoriasis', 'True': 'Psoriasis'}\n",
            "{'Predicted': 'Fungal infection', 'True': 'Fungal infection'}\n",
            "{'Predicted': 'urinary tract infection', 'True': 'urinary tract infection'}\n",
            "{'Predicted': 'diabetes', 'True': 'diabetes'}\n",
            "{'Predicted': 'Bronchial Asthma', 'True': 'Bronchial Asthma'}\n",
            "{'Predicted': 'diabetes', 'True': 'diabetes'}\n",
            "{'Predicted': 'Fungal infection', 'True': 'Fungal infection'}\n",
            "{'Predicted': 'Psoriasis', 'True': 'Psoriasis'}\n",
            "{'Predicted': 'Malaria', 'True': 'Malaria'}\n",
            "{'Predicted': 'Cervical spondylosis', 'True': 'Cervical spondylosis'}\n",
            "{'Predicted': 'Hypertension', 'True': 'Hypertension'}\n",
            "{'Predicted': 'Acne', 'True': 'Acne'}\n",
            "{'Predicted': 'allergy', 'True': 'allergy'}\n",
            "{'Predicted': 'drug reaction', 'True': 'drug reaction'}\n",
            "{'Predicted': 'peptic ulcer disease', 'True': 'peptic ulcer disease'}\n",
            "{'Predicted': 'urinary tract infection', 'True': 'urinary tract infection'}\n",
            "{'Predicted': 'Malaria', 'True': 'Malaria'}\n",
            "{'Predicted': 'drug reaction', 'True': 'drug reaction'}\n",
            "{'Predicted': 'Dengue', 'True': 'Dengue'}\n",
            "{'Predicted': 'Chicken pox', 'True': 'Chicken pox'}\n",
            "{'Predicted': 'Malaria', 'True': 'Malaria'}\n",
            "{'Predicted': 'Common Cold', 'True': 'Common Cold'}\n",
            "{'Predicted': 'Fungal infection', 'True': 'Fungal infection'}\n",
            "{'Predicted': 'diabetes', 'True': 'diabetes'}\n",
            "{'Predicted': 'allergy', 'True': 'allergy'}\n",
            "{'Predicted': 'Impetigo', 'True': 'Impetigo'}\n",
            "{'Predicted': 'Migraine', 'True': 'Migraine'}\n",
            "{'Predicted': 'urinary tract infection', 'True': 'urinary tract infection'}\n",
            "{'Predicted': 'peptic ulcer disease', 'True': 'peptic ulcer disease'}\n",
            "{'Predicted': 'Common Cold', 'True': 'Common Cold'}\n",
            "{'Predicted': 'Pneumonia', 'True': 'Pneumonia'}\n",
            "{'Predicted': 'Dimorphic Hemorrhoids', 'True': 'Dimorphic Hemorrhoids'}\n",
            "{'Predicted': 'gastroesophageal reflux disease', 'True': 'gastroesophageal reflux disease'}\n",
            "{'Predicted': 'Common Cold', 'True': 'Common Cold'}\n",
            "{'Predicted': 'Acne', 'True': 'Acne'}\n",
            "{'Predicted': 'Varicose Veins', 'True': 'Varicose Veins'}\n",
            "{'Predicted': 'Varicose Veins', 'True': 'Varicose Veins'}\n",
            "{'Predicted': 'urinary tract infection', 'True': 'urinary tract infection'}\n",
            "{'Predicted': 'Impetigo', 'True': 'Impetigo'}\n",
            "{'Predicted': 'Pneumonia', 'True': 'Pneumonia'}\n",
            "{'Predicted': 'Migraine', 'True': 'Migraine'}\n",
            "{'Predicted': 'Arthritis', 'True': 'Arthritis'}\n",
            "{'Predicted': 'Dengue', 'True': 'Dengue'}\n",
            "{'Predicted': 'Acne', 'True': 'Acne'}\n",
            "{'Predicted': 'urinary tract infection', 'True': 'urinary tract infection'}\n",
            "{'Predicted': 'Acne', 'True': 'Acne'}\n",
            "{'Predicted': 'peptic ulcer disease', 'True': 'peptic ulcer disease'}\n",
            "{'Predicted': 'Common Cold', 'True': 'Common Cold'}\n",
            "{'Predicted': 'Jaundice', 'True': 'Jaundice'}\n",
            "{'Predicted': 'Migraine', 'True': 'Migraine'}\n",
            "{'Predicted': 'Bronchial Asthma', 'True': 'Bronchial Asthma'}\n",
            "{'Predicted': 'Cervical spondylosis', 'True': 'Cervical spondylosis'}\n",
            "{'Predicted': 'Typhoid', 'True': 'Typhoid'}\n",
            "{'Predicted': 'Bronchial Asthma', 'True': 'Bronchial Asthma'}\n",
            "{'Predicted': 'allergy', 'True': 'allergy'}\n",
            "{'Predicted': 'Jaundice', 'True': 'Jaundice'}\n",
            "{'Predicted': 'Bronchial Asthma', 'True': 'Bronchial Asthma'}\n",
            "{'Predicted': 'Pneumonia', 'True': 'Pneumonia'}\n",
            "{'Predicted': 'Hypertension', 'True': 'Hypertension'}\n",
            "{'Predicted': 'Fungal infection', 'True': 'Fungal infection'}\n",
            "{'Predicted': 'Typhoid', 'True': 'Typhoid'}\n",
            "{'Predicted': 'Dengue', 'True': 'Dengue'}\n",
            "{'Predicted': 'Psoriasis', 'True': 'Psoriasis'}\n",
            "{'Predicted': 'Typhoid', 'True': 'Typhoid'}\n",
            "{'Predicted': 'peptic ulcer disease', 'True': 'peptic ulcer disease'}\n",
            "{'Predicted': 'drug reaction', 'True': 'drug reaction'}\n",
            "{'Predicted': 'Dimorphic Hemorrhoids', 'True': 'Dimorphic Hemorrhoids'}\n",
            "{'Predicted': 'Migraine', 'True': 'Migraine'}\n",
            "{'Predicted': 'Jaundice', 'True': 'Jaundice'}\n",
            "{'Predicted': 'Psoriasis', 'True': 'Psoriasis'}\n",
            "{'Predicted': 'Arthritis', 'True': 'Arthritis'}\n",
            "{'Predicted': 'Cervical spondylosis', 'True': 'Cervical spondylosis'}\n",
            "{'Predicted': 'drug reaction', 'True': 'drug reaction'}\n",
            "{'Predicted': 'Jaundice', 'True': 'Jaundice'}\n",
            "{'Predicted': 'peptic ulcer disease', 'True': 'peptic ulcer disease'}\n",
            "{'Predicted': 'drug reaction', 'True': 'drug reaction'}\n",
            "{'Predicted': 'Acne', 'True': 'Acne'}\n",
            "{'Predicted': 'Hypertension', 'True': 'Hypertension'}\n",
            "{'Predicted': 'Typhoid', 'True': 'Typhoid'}\n",
            "{'Predicted': 'Dimorphic Hemorrhoids', 'True': 'Dimorphic Hemorrhoids'}\n",
            "{'Predicted': 'Psoriasis', 'True': 'Psoriasis'}\n",
            "{'Predicted': 'Common Cold', 'True': 'Common Cold'}\n",
            "{'Predicted': 'Dengue', 'True': 'Dengue'}\n",
            "{'Predicted': 'Psoriasis', 'True': 'Psoriasis'}\n",
            "{'Predicted': 'Acne', 'True': 'Acne'}\n",
            "{'Predicted': 'Common Cold', 'True': 'Common Cold'}\n",
            "{'Predicted': 'diabetes', 'True': 'diabetes'}\n",
            "{'Predicted': 'Typhoid', 'True': 'Typhoid'}\n",
            "{'Predicted': 'peptic ulcer disease', 'True': 'peptic ulcer disease'}\n",
            "{'Predicted': 'Cervical spondylosis', 'True': 'Cervical spondylosis'}\n",
            "{'Predicted': 'Psoriasis', 'True': 'Psoriasis'}\n",
            "{'Predicted': 'Varicose Veins', 'True': 'Varicose Veins'}\n",
            "{'Predicted': 'Impetigo', 'True': 'Impetigo'}\n",
            "{'Predicted': 'Varicose Veins', 'True': 'Varicose Veins'}\n",
            "{'Predicted': 'Dengue', 'True': 'Dengue'}\n",
            "{'Predicted': 'Typhoid', 'True': 'Typhoid'}\n",
            "{'Predicted': 'Malaria', 'True': 'Malaria'}\n",
            "{'Predicted': 'allergy', 'True': 'allergy'}\n",
            "{'Predicted': 'Bronchial Asthma', 'True': 'Bronchial Asthma'}\n",
            "{'Predicted': 'urinary tract infection', 'True': 'urinary tract infection'}\n",
            "{'Predicted': 'Jaundice', 'True': 'Jaundice'}\n",
            "{'Predicted': 'Fungal infection', 'True': 'Fungal infection'}\n",
            "{'Predicted': 'Varicose Veins', 'True': 'Varicose Veins'}\n",
            "{'Predicted': 'Pneumonia', 'True': 'Pneumonia'}\n",
            "{'Predicted': 'Bronchial Asthma', 'True': 'Bronchial Asthma'}\n",
            "{'Predicted': 'Cervical spondylosis', 'True': 'Cervical spondylosis'}\n",
            "{'Predicted': 'peptic ulcer disease', 'True': 'peptic ulcer disease'}\n",
            "{'Predicted': 'Varicose Veins', 'True': 'Varicose Veins'}\n",
            "{'Predicted': 'peptic ulcer disease', 'True': 'peptic ulcer disease'}\n",
            "{'Predicted': 'urinary tract infection', 'True': 'urinary tract infection'}\n",
            "{'Predicted': 'Psoriasis', 'True': 'Psoriasis'}\n",
            "{'Predicted': 'Varicose Veins', 'True': 'Varicose Veins'}\n",
            "{'Predicted': 'Jaundice', 'True': 'Jaundice'}\n",
            "{'Predicted': 'Dimorphic Hemorrhoids', 'True': 'Dimorphic Hemorrhoids'}\n",
            "{'Predicted': 'Malaria', 'True': 'Malaria'}\n",
            "{'Predicted': 'urinary tract infection', 'True': 'urinary tract infection'}\n",
            "{'Predicted': 'Dimorphic Hemorrhoids', 'True': 'Dimorphic Hemorrhoids'}\n",
            "{'Predicted': 'Dengue', 'True': 'Dengue'}\n",
            "{'Predicted': 'Jaundice', 'True': 'Jaundice'}\n",
            "{'Predicted': 'Varicose Veins', 'True': 'Varicose Veins'}\n",
            "{'Predicted': 'Malaria', 'True': 'Malaria'}\n",
            "{'Predicted': 'diabetes', 'True': 'diabetes'}\n",
            "{'Predicted': 'Varicose Veins', 'True': 'Varicose Veins'}\n",
            "{'Predicted': 'peptic ulcer disease', 'True': 'peptic ulcer disease'}\n",
            "{'Predicted': 'gastroesophageal reflux disease', 'True': 'gastroesophageal reflux disease'}\n",
            "{'Predicted': 'Typhoid', 'True': 'Typhoid'}\n",
            "{'Predicted': 'Varicose Veins', 'True': 'Varicose Veins'}\n",
            "{'Predicted': 'Chicken pox', 'True': 'Chicken pox'}\n",
            "{'Predicted': 'allergy', 'True': 'allergy'}\n",
            "{'Predicted': 'Dimorphic Hemorrhoids', 'True': 'Dimorphic Hemorrhoids'}\n",
            "{'Predicted': 'Malaria', 'True': 'Malaria'}\n",
            "{'Predicted': 'Dengue', 'True': 'Dengue'}\n",
            "{'Predicted': 'diabetes', 'True': 'diabetes'}\n",
            "{'Predicted': 'Arthritis', 'True': 'Arthritis'}\n",
            "{'Predicted': 'Varicose Veins', 'True': 'Varicose Veins'}\n",
            "{'Predicted': 'Varicose Veins', 'True': 'Varicose Veins'}\n",
            "{'Predicted': 'Psoriasis', 'True': 'Psoriasis'}\n",
            "{'Predicted': 'Varicose Veins', 'True': 'Varicose Veins'}\n",
            "{'Predicted': 'gastroesophageal reflux disease', 'True': 'gastroesophageal reflux disease'}\n",
            "{'Predicted': 'Bronchial Asthma', 'True': 'Bronchial Asthma'}\n",
            "{'Predicted': 'Malaria', 'True': 'Malaria'}\n",
            "{'Predicted': 'urinary tract infection', 'True': 'urinary tract infection'}\n",
            "{'Predicted': 'Arthritis', 'True': 'Arthritis'}\n",
            "{'Predicted': 'Malaria', 'True': 'Malaria'}\n",
            "{'Predicted': 'Fungal infection', 'True': 'Fungal infection'}\n",
            "{'Predicted': 'gastroesophageal reflux disease', 'True': 'gastroesophageal reflux disease'}\n",
            "{'Predicted': 'drug reaction', 'True': 'drug reaction'}\n",
            "{'Predicted': 'Dengue', 'True': 'Dengue'}\n",
            "{'Predicted': 'Chicken pox', 'True': 'Chicken pox'}\n",
            "{'Predicted': 'Impetigo', 'True': 'Impetigo'}\n",
            "{'Predicted': 'Acne', 'True': 'Acne'}\n",
            "{'Predicted': 'Jaundice', 'True': 'Jaundice'}\n",
            "{'Predicted': 'Arthritis', 'True': 'Arthritis'}\n",
            "{'Predicted': 'Bronchial Asthma', 'True': 'Bronchial Asthma'}\n",
            "{'Predicted': 'urinary tract infection', 'True': 'urinary tract infection'}\n",
            "{'Predicted': 'Varicose Veins', 'True': 'Varicose Veins'}\n",
            "{'Predicted': 'Dengue', 'True': 'Dengue'}\n",
            "{'Predicted': 'gastroesophageal reflux disease', 'True': 'gastroesophageal reflux disease'}\n",
            "{'Predicted': 'Migraine', 'True': 'Migraine'}\n",
            "{'Predicted': 'gastroesophageal reflux disease', 'True': 'gastroesophageal reflux disease'}\n",
            "{'Predicted': 'Cervical spondylosis', 'True': 'Cervical spondylosis'}\n",
            "{'Predicted': 'Fungal infection', 'True': 'Fungal infection'}\n",
            "{'Predicted': 'drug reaction', 'True': 'drug reaction'}\n",
            "{'Predicted': 'Impetigo', 'True': 'Impetigo'}\n",
            "{'Predicted': 'Dimorphic Hemorrhoids', 'True': 'Dimorphic Hemorrhoids'}\n",
            "{'Predicted': 'Typhoid', 'True': 'Typhoid'}\n",
            "{'Predicted': 'drug reaction', 'True': 'drug reaction'}\n",
            "{'Predicted': 'Typhoid', 'True': 'Typhoid'}\n",
            "{'Predicted': 'Bronchial Asthma', 'True': 'Bronchial Asthma'}\n",
            "{'Predicted': 'urinary tract infection', 'True': 'urinary tract infection'}\n",
            "{'Predicted': 'diabetes', 'True': 'diabetes'}\n",
            "{'Predicted': 'Hypertension', 'True': 'Hypertension'}\n",
            "{'Predicted': 'allergy', 'True': 'allergy'}\n",
            "{'Predicted': 'Jaundice', 'True': 'Jaundice'}\n",
            "{'Predicted': 'urinary tract infection', 'True': 'urinary tract infection'}\n",
            "{'Predicted': 'Dengue', 'True': 'Dengue'}\n",
            "{'Predicted': 'Acne', 'True': 'Acne'}\n",
            "{'Predicted': 'Fungal infection', 'True': 'Fungal infection'}\n",
            "{'Predicted': 'Typhoid', 'True': 'Typhoid'}\n",
            "{'Predicted': 'Typhoid', 'True': 'Typhoid'}\n",
            "{'Predicted': 'gastroesophageal reflux disease', 'True': 'gastroesophageal reflux disease'}\n",
            "{'Predicted': 'diabetes', 'True': 'diabetes'}\n",
            "{'Predicted': 'Arthritis', 'True': 'Arthritis'}\n",
            "{'Predicted': 'Dengue', 'True': 'Dengue'}\n",
            "{'Predicted': 'Common Cold', 'True': 'Common Cold'}\n",
            "{'Predicted': 'Varicose Veins', 'True': 'Varicose Veins'}\n",
            "{'Predicted': 'Dengue', 'True': 'Dengue'}\n",
            "{'Predicted': 'peptic ulcer disease', 'True': 'peptic ulcer disease'}\n",
            "{'Predicted': 'Acne', 'True': 'Acne'}\n",
            "{'Predicted': 'Common Cold', 'True': 'Common Cold'}\n",
            "{'Predicted': 'drug reaction', 'True': 'drug reaction'}\n",
            "{'Predicted': 'diabetes', 'True': 'diabetes'}\n",
            "{'Predicted': 'Psoriasis', 'True': 'Psoriasis'}\n",
            "{'Predicted': 'Migraine', 'True': 'Migraine'}\n",
            "{'Predicted': 'Chicken pox', 'True': 'Chicken pox'}\n",
            "{'Predicted': 'Psoriasis', 'True': 'Psoriasis'}\n",
            "{'Predicted': 'Malaria', 'True': 'Malaria'}\n",
            "{'Predicted': 'Dengue', 'True': 'Dengue'}\n",
            "{'Predicted': 'Bronchial Asthma', 'True': 'Bronchial Asthma'}\n",
            "{'Predicted': 'Malaria', 'True': 'Malaria'}\n",
            "{'Predicted': 'Bronchial Asthma', 'True': 'Bronchial Asthma'}\n",
            "{'Predicted': 'Dimorphic Hemorrhoids', 'True': 'Dimorphic Hemorrhoids'}\n",
            "{'Predicted': 'Acne', 'True': 'Acne'}\n",
            "{'Predicted': 'Impetigo', 'True': 'Impetigo'}\n",
            "{'Predicted': 'Varicose Veins', 'True': 'Varicose Veins'}\n",
            "{'Predicted': 'Cervical spondylosis', 'True': 'Cervical spondylosis'}\n",
            "{'Predicted': 'allergy', 'True': 'allergy'}\n",
            "{'Predicted': 'Typhoid', 'True': 'Typhoid'}\n",
            "{'Predicted': 'gastroesophageal reflux disease', 'True': 'gastroesophageal reflux disease'}\n",
            "{'Predicted': 'Fungal infection', 'True': 'Fungal infection'}\n",
            "{'Predicted': 'Hypertension', 'True': 'Hypertension'}\n",
            "{'Predicted': 'Migraine', 'True': 'Migraine'}\n",
            "{'Predicted': 'Cervical spondylosis', 'True': 'Cervical spondylosis'}\n",
            "{'Predicted': 'Common Cold', 'True': 'Common Cold'}\n",
            "{'Predicted': 'Varicose Veins', 'True': 'Varicose Veins'}\n",
            "{'Predicted': 'gastroesophageal reflux disease', 'True': 'gastroesophageal reflux disease'}\n",
            "{'Predicted': 'Dimorphic Hemorrhoids', 'True': 'Dimorphic Hemorrhoids'}\n",
            "{'Predicted': 'Cervical spondylosis', 'True': 'Cervical spondylosis'}\n",
            "{'Predicted': 'Malaria', 'True': 'Malaria'}\n",
            "{'Predicted': 'drug reaction', 'True': 'drug reaction'}\n",
            "{'Predicted': 'Pneumonia', 'True': 'Pneumonia'}\n",
            "{'Predicted': 'Varicose Veins', 'True': 'Varicose Veins'}\n",
            "{'Predicted': 'Varicose Veins', 'True': 'Varicose Veins'}\n",
            "{'Predicted': 'Pneumonia', 'True': 'Pneumonia'}\n",
            "{'Predicted': 'Dimorphic Hemorrhoids', 'True': 'Dimorphic Hemorrhoids'}\n",
            "{'Predicted': 'Common Cold', 'True': 'Common Cold'}\n",
            "{'Predicted': 'Dengue', 'True': 'Dengue'}\n",
            "{'Predicted': 'Varicose Veins', 'True': 'Varicose Veins'}\n",
            "{'Predicted': 'Typhoid', 'True': 'Typhoid'}\n",
            "{'Predicted': 'Chicken pox', 'True': 'Chicken pox'}\n",
            "{'Predicted': 'Bronchial Asthma', 'True': 'Bronchial Asthma'}\n",
            "{'Predicted': 'diabetes', 'True': 'diabetes'}\n",
            "{'Predicted': 'Arthritis', 'True': 'Arthritis'}\n",
            "{'Predicted': 'Jaundice', 'True': 'Jaundice'}\n",
            "{'Predicted': 'allergy', 'True': 'allergy'}\n",
            "{'Predicted': 'Psoriasis', 'True': 'Psoriasis'}\n",
            "{'Predicted': 'Arthritis', 'True': 'Arthritis'}\n",
            "{'Predicted': 'Varicose Veins', 'True': 'Varicose Veins'}\n",
            "{'Predicted': 'Bronchial Asthma', 'True': 'Bronchial Asthma'}\n",
            "{'Predicted': 'Pneumonia', 'True': 'Pneumonia'}\n",
            "{'Predicted': 'Jaundice', 'True': 'Jaundice'}\n",
            "{'Predicted': 'Dengue', 'True': 'Dengue'}\n",
            "{'Predicted': 'Dengue', 'True': 'Dengue'}\n",
            "{'Predicted': 'Jaundice', 'True': 'Jaundice'}\n",
            "{'Predicted': 'Common Cold', 'True': 'Common Cold'}\n",
            "{'Predicted': 'Psoriasis', 'True': 'Psoriasis'}\n",
            "{'Predicted': 'Hypertension', 'True': 'Hypertension'}\n",
            "{'Predicted': 'Chicken pox', 'True': 'Chicken pox'}\n",
            "{'Predicted': 'diabetes', 'True': 'diabetes'}\n",
            "{'Predicted': 'diabetes', 'True': 'diabetes'}\n",
            "{'Predicted': 'Typhoid', 'True': 'Typhoid'}\n",
            "{'Predicted': 'Chicken pox', 'True': 'Chicken pox'}\n",
            "{'Predicted': 'Chicken pox', 'True': 'Chicken pox'}\n",
            "{'Predicted': 'Dimorphic Hemorrhoids', 'True': 'Dimorphic Hemorrhoids'}\n",
            "{'Predicted': 'Psoriasis', 'True': 'Psoriasis'}\n",
            "{'Predicted': 'Fungal infection', 'True': 'Fungal infection'}\n",
            "{'Predicted': 'gastroesophageal reflux disease', 'True': 'gastroesophageal reflux disease'}\n",
            "{'Predicted': 'Typhoid', 'True': 'Typhoid'}\n",
            "{'Predicted': 'Arthritis', 'True': 'Arthritis'}\n",
            "{'Predicted': 'Hypertension', 'True': 'Hypertension'}\n",
            "{'Predicted': 'Impetigo', 'True': 'Impetigo'}\n",
            "{'Predicted': 'Arthritis', 'True': 'Arthritis'}\n",
            "{'Predicted': 'Typhoid', 'True': 'Typhoid'}\n",
            "{'Predicted': 'Cervical spondylosis', 'True': 'Cervical spondylosis'}\n",
            "{'Predicted': 'Common Cold', 'True': 'Common Cold'}\n",
            "{'Predicted': 'Cervical spondylosis', 'True': 'Cervical spondylosis'}\n",
            "{'Predicted': 'Dengue', 'True': 'Dengue'}\n",
            "{'Predicted': 'Dimorphic Hemorrhoids', 'True': 'Dimorphic Hemorrhoids'}\n",
            "{'Predicted': 'Fungal infection', 'True': 'Fungal infection'}\n",
            "{'Predicted': 'Cervical spondylosis', 'True': 'Cervical spondylosis'}\n",
            "{'Predicted': 'Chicken pox', 'True': 'Chicken pox'}\n",
            "{'Predicted': 'Bronchial Asthma', 'True': 'Bronchial Asthma'}\n",
            "{'Predicted': 'Impetigo', 'True': 'Impetigo'}\n",
            "{'Predicted': 'Varicose Veins', 'True': 'Varicose Veins'}\n",
            "{'Predicted': 'Dimorphic Hemorrhoids', 'True': 'Dimorphic Hemorrhoids'}\n",
            "{'Predicted': 'peptic ulcer disease', 'True': 'peptic ulcer disease'}\n",
            "{'Predicted': 'gastroesophageal reflux disease', 'True': 'gastroesophageal reflux disease'}\n",
            "{'Predicted': 'Pneumonia', 'True': 'Pneumonia'}\n",
            "{'Predicted': 'gastroesophageal reflux disease', 'True': 'gastroesophageal reflux disease'}\n",
            "{'Predicted': 'Fungal infection', 'True': 'Fungal infection'}\n",
            "{'Predicted': 'Varicose Veins', 'True': 'Varicose Veins'}\n",
            "{'Predicted': 'Impetigo', 'True': 'Impetigo'}\n",
            "{'Predicted': 'gastroesophageal reflux disease', 'True': 'gastroesophageal reflux disease'}\n",
            "{'Predicted': 'Jaundice', 'True': 'Jaundice'}\n",
            "{'Predicted': 'Jaundice', 'True': 'Jaundice'}\n",
            "{'Predicted': 'Impetigo', 'True': 'Impetigo'}\n",
            "{'Predicted': 'Typhoid', 'True': 'Typhoid'}\n",
            "{'Predicted': 'Typhoid', 'True': 'Typhoid'}\n",
            "{'Predicted': 'Migraine', 'True': 'Migraine'}\n",
            "{'Predicted': 'Typhoid', 'True': 'Chicken pox'}\n",
            "{'Predicted': 'Varicose Veins', 'True': 'Varicose Veins'}\n",
            "{'Predicted': 'Dimorphic Hemorrhoids', 'True': 'Dimorphic Hemorrhoids'}\n",
            "{'Predicted': 'Pneumonia', 'True': 'Pneumonia'}\n",
            "{'Predicted': 'peptic ulcer disease', 'True': 'peptic ulcer disease'}\n",
            "{'Predicted': 'Jaundice', 'True': 'Jaundice'}\n",
            "{'Predicted': 'Varicose Veins', 'True': 'Varicose Veins'}\n",
            "{'Predicted': 'Typhoid', 'True': 'Typhoid'}\n",
            "{'Predicted': 'gastroesophageal reflux disease', 'True': 'gastroesophageal reflux disease'}\n",
            "{'Predicted': 'Acne', 'True': 'Acne'}\n",
            "{'Predicted': 'Jaundice', 'True': 'Jaundice'}\n",
            "{'Predicted': 'Impetigo', 'True': 'Impetigo'}\n",
            "{'Predicted': 'Dimorphic Hemorrhoids', 'True': 'Dimorphic Hemorrhoids'}\n",
            "{'Predicted': 'Chicken pox', 'True': 'Chicken pox'}\n",
            "{'Predicted': 'allergy', 'True': 'allergy'}\n",
            "{'Predicted': 'gastroesophageal reflux disease', 'True': 'gastroesophageal reflux disease'}\n",
            "{'Predicted': 'Arthritis', 'True': 'Arthritis'}\n",
            "{'Predicted': 'Common Cold', 'True': 'Common Cold'}\n",
            "{'Predicted': 'Varicose Veins', 'True': 'Varicose Veins'}\n",
            "{'Predicted': 'Bronchial Asthma', 'True': 'Bronchial Asthma'}\n",
            "{'Predicted': 'urinary tract infection', 'True': 'urinary tract infection'}\n",
            "{'Predicted': 'Pneumonia', 'True': 'Pneumonia'}\n",
            "{'Predicted': 'Chicken pox', 'True': 'Chicken pox'}\n",
            "{'Predicted': 'Chicken pox', 'True': 'Chicken pox'}\n",
            "{'Predicted': 'Fungal infection', 'True': 'Fungal infection'}\n",
            "{'Predicted': 'Acne', 'True': 'Acne'}\n",
            "{'Predicted': 'Cervical spondylosis', 'True': 'Cervical spondylosis'}\n",
            "{'Predicted': 'Common Cold', 'True': 'Common Cold'}\n",
            "{'Predicted': 'Chicken pox', 'True': 'Chicken pox'}\n",
            "{'Predicted': 'urinary tract infection', 'True': 'urinary tract infection'}\n",
            "{'Predicted': 'Psoriasis', 'True': 'Psoriasis'}\n",
            "{'Predicted': 'Dengue', 'True': 'Dengue'}\n",
            "{'Predicted': 'Varicose Veins', 'True': 'Varicose Veins'}\n",
            "{'Predicted': 'Dengue', 'True': 'Dengue'}\n",
            "{'Predicted': 'Typhoid', 'True': 'Typhoid'}\n",
            "{'Predicted': 'Chicken pox', 'True': 'Chicken pox'}\n",
            "{'Predicted': 'urinary tract infection', 'True': 'urinary tract infection'}\n",
            "{'Predicted': 'Hypertension', 'True': 'Hypertension'}\n",
            "{'Predicted': 'Acne', 'True': 'Acne'}\n",
            "{'Predicted': 'Hypertension', 'True': 'Hypertension'}\n",
            "{'Predicted': 'Arthritis', 'True': 'Arthritis'}\n",
            "{'Predicted': 'urinary tract infection', 'True': 'urinary tract infection'}\n",
            "{'Predicted': 'Chicken pox', 'True': 'Chicken pox'}\n",
            "{'Predicted': 'diabetes', 'True': 'diabetes'}\n",
            "{'Predicted': 'gastroesophageal reflux disease', 'True': 'gastroesophageal reflux disease'}\n",
            "{'Predicted': 'Arthritis', 'True': 'Arthritis'}\n",
            "{'Predicted': 'Dimorphic Hemorrhoids', 'True': 'Dimorphic Hemorrhoids'}\n",
            "{'Predicted': 'Typhoid', 'True': 'Typhoid'}\n",
            "{'Predicted': 'Common Cold', 'True': 'Common Cold'}\n",
            "{'Predicted': 'Impetigo', 'True': 'Impetigo'}\n",
            "{'Predicted': 'allergy', 'True': 'allergy'}\n",
            "{'Predicted': 'Psoriasis', 'True': 'Psoriasis'}\n",
            "{'Predicted': 'Varicose Veins', 'True': 'Varicose Veins'}\n",
            "{'Predicted': 'Dimorphic Hemorrhoids', 'True': 'Dimorphic Hemorrhoids'}\n",
            "{'Predicted': 'Chicken pox', 'True': 'Chicken pox'}\n",
            "{'Predicted': 'Varicose Veins', 'True': 'Varicose Veins'}\n",
            "{'Predicted': 'Chicken pox', 'True': 'Chicken pox'}\n",
            "{'Predicted': 'Psoriasis', 'True': 'Psoriasis'}\n",
            "{'Predicted': 'Chicken pox', 'True': 'Chicken pox'}\n",
            "{'Predicted': 'Bronchial Asthma', 'True': 'Bronchial Asthma'}\n",
            "{'Predicted': 'Varicose Veins', 'True': 'Varicose Veins'}\n",
            "{'Predicted': 'allergy', 'True': 'allergy'}\n",
            "{'Predicted': 'Cervical spondylosis', 'True': 'Cervical spondylosis'}\n",
            "{'Predicted': 'Bronchial Asthma', 'True': 'Bronchial Asthma'}\n",
            "{'Predicted': 'peptic ulcer disease', 'True': 'peptic ulcer disease'}\n",
            "{'Predicted': 'Psoriasis', 'True': 'Psoriasis'}\n",
            "{'Predicted': 'Bronchial Asthma', 'True': 'Bronchial Asthma'}\n",
            "{'Predicted': 'allergy', 'True': 'allergy'}\n",
            "{'Predicted': 'Varicose Veins', 'True': 'Varicose Veins'}\n",
            "{'Predicted': 'Dimorphic Hemorrhoids', 'True': 'Dimorphic Hemorrhoids'}\n",
            "{'Predicted': 'Chicken pox', 'True': 'Chicken pox'}\n",
            "{'Predicted': 'drug reaction', 'True': 'drug reaction'}\n",
            "{'Predicted': 'Migraine', 'True': 'Migraine'}\n",
            "{'Predicted': 'Common Cold', 'True': 'Common Cold'}\n",
            "{'Predicted': 'Migraine', 'True': 'Migraine'}\n",
            "{'Predicted': 'Acne', 'True': 'Acne'}\n",
            "{'Predicted': 'Malaria', 'True': 'Malaria'}\n",
            "{'Predicted': 'Jaundice', 'True': 'Jaundice'}\n",
            "{'Predicted': 'Psoriasis', 'True': 'Psoriasis'}\n",
            "{'Predicted': 'allergy', 'True': 'allergy'}\n",
            "{'Predicted': 'Dimorphic Hemorrhoids', 'True': 'Dimorphic Hemorrhoids'}\n",
            "{'Predicted': 'urinary tract infection', 'True': 'urinary tract infection'}\n",
            "{'Predicted': 'urinary tract infection', 'True': 'urinary tract infection'}\n",
            "{'Predicted': 'diabetes', 'True': 'diabetes'}\n",
            "{'Predicted': 'urinary tract infection', 'True': 'urinary tract infection'}\n",
            "{'Predicted': 'gastroesophageal reflux disease', 'True': 'gastroesophageal reflux disease'}\n",
            "{'Predicted': 'Fungal infection', 'True': 'Fungal infection'}\n",
            "{'Predicted': 'gastroesophageal reflux disease', 'True': 'gastroesophageal reflux disease'}\n",
            "{'Predicted': 'Common Cold', 'True': 'Common Cold'}\n",
            "{'Predicted': 'gastroesophageal reflux disease', 'True': 'gastroesophageal reflux disease'}\n",
            "{'Predicted': 'drug reaction', 'True': 'drug reaction'}\n",
            "{'Predicted': 'Dengue', 'True': 'Dengue'}\n",
            "{'Predicted': 'Psoriasis', 'True': 'Psoriasis'}\n",
            "{'Predicted': 'drug reaction', 'True': 'drug reaction'}\n",
            "{'Predicted': 'Arthritis', 'True': 'Arthritis'}\n",
            "{'Predicted': 'Hypertension', 'True': 'Hypertension'}\n",
            "{'Predicted': 'drug reaction', 'True': 'drug reaction'}\n",
            "{'Predicted': 'Jaundice', 'True': 'Jaundice'}\n",
            "{'Predicted': 'Cervical spondylosis', 'True': 'Cervical spondylosis'}\n",
            "{'Predicted': 'Dengue', 'True': 'Dengue'}\n",
            "{'Predicted': 'diabetes', 'True': 'diabetes'}\n",
            "{'Predicted': 'Varicose Veins', 'True': 'Varicose Veins'}\n",
            "{'Predicted': 'Arthritis', 'True': 'Arthritis'}\n",
            "{'Predicted': 'Varicose Veins', 'True': 'Varicose Veins'}\n",
            "{'Predicted': 'Impetigo', 'True': 'Impetigo'}\n",
            "{'Predicted': 'Impetigo', 'True': 'Impetigo'}\n",
            "{'Predicted': 'allergy', 'True': 'allergy'}\n",
            "{'Predicted': 'Psoriasis', 'True': 'Psoriasis'}\n",
            "{'Predicted': 'Arthritis', 'True': 'Arthritis'}\n",
            "{'Predicted': 'gastroesophageal reflux disease', 'True': 'gastroesophageal reflux disease'}\n",
            "{'Predicted': 'Psoriasis', 'True': 'Psoriasis'}\n",
            "{'Predicted': 'Varicose Veins', 'True': 'Varicose Veins'}\n",
            "{'Predicted': 'Chicken pox', 'True': 'Chicken pox'}\n",
            "{'Predicted': 'Bronchial Asthma', 'True': 'Bronchial Asthma'}\n",
            "{'Predicted': 'Pneumonia', 'True': 'Pneumonia'}\n",
            "{'Predicted': 'Fungal infection', 'True': 'Fungal infection'}\n",
            "{'Predicted': 'Typhoid', 'True': 'Typhoid'}\n",
            "{'Predicted': 'Jaundice', 'True': 'Jaundice'}\n",
            "{'Predicted': 'Typhoid', 'True': 'Typhoid'}\n",
            "{'Predicted': 'urinary tract infection', 'True': 'urinary tract infection'}\n",
            "{'Predicted': 'allergy', 'True': 'allergy'}\n",
            "{'Predicted': 'Dimorphic Hemorrhoids', 'True': 'Dimorphic Hemorrhoids'}\n",
            "{'Predicted': 'Jaundice', 'True': 'Jaundice'}\n",
            "{'Predicted': 'Acne', 'True': 'Acne'}\n",
            "{'Predicted': 'Dimorphic Hemorrhoids', 'True': 'Dimorphic Hemorrhoids'}\n",
            "{'Predicted': 'Cervical spondylosis', 'True': 'Cervical spondylosis'}\n",
            "{'Predicted': 'Malaria', 'True': 'Malaria'}\n",
            "{'Predicted': 'Fungal infection', 'True': 'Fungal infection'}\n",
            "{'Predicted': 'Migraine', 'True': 'Migraine'}\n",
            "{'Predicted': 'Psoriasis', 'True': 'Psoriasis'}\n",
            "{'Predicted': 'gastroesophageal reflux disease', 'True': 'gastroesophageal reflux disease'}\n",
            "{'Predicted': 'Malaria', 'True': 'Malaria'}\n",
            "{'Predicted': 'allergy', 'True': 'allergy'}\n",
            "{'Predicted': 'Typhoid', 'True': 'Typhoid'}\n",
            "{'Predicted': 'Fungal infection', 'True': 'Fungal infection'}\n",
            "{'Predicted': 'Varicose Veins', 'True': 'Varicose Veins'}\n",
            "{'Predicted': 'Cervical spondylosis', 'True': 'Cervical spondylosis'}\n",
            "{'Predicted': 'Common Cold', 'True': 'Common Cold'}\n",
            "{'Predicted': 'Acne', 'True': 'Acne'}\n",
            "{'Predicted': 'Hypertension', 'True': 'Hypertension'}\n",
            "{'Predicted': 'Jaundice', 'True': 'Jaundice'}\n",
            "{'Predicted': 'peptic ulcer disease', 'True': 'peptic ulcer disease'}\n",
            "{'Predicted': 'Typhoid', 'True': 'Typhoid'}\n",
            "{'Predicted': 'Varicose Veins', 'True': 'Varicose Veins'}\n",
            "{'Predicted': 'Typhoid', 'True': 'Typhoid'}\n",
            "{'Predicted': 'Bronchial Asthma', 'True': 'Bronchial Asthma'}\n",
            "{'Predicted': 'Bronchial Asthma', 'True': 'Bronchial Asthma'}\n",
            "{'Predicted': 'Dimorphic Hemorrhoids', 'True': 'Dimorphic Hemorrhoids'}\n",
            "{'Predicted': 'allergy', 'True': 'allergy'}\n",
            "{'Predicted': 'Hypertension', 'True': 'Hypertension'}\n",
            "{'Predicted': 'Hypertension', 'True': 'Hypertension'}\n",
            "{'Predicted': 'Fungal infection', 'True': 'Fungal infection'}\n",
            "{'Predicted': 'Malaria', 'True': 'Malaria'}\n",
            "{'Predicted': 'Dengue', 'True': 'Dengue'}\n",
            "{'Predicted': 'Impetigo', 'True': 'Impetigo'}\n",
            "{'Predicted': 'Fungal infection', 'True': 'Fungal infection'}\n",
            "{'Predicted': 'drug reaction', 'True': 'drug reaction'}\n",
            "{'Predicted': 'Dengue', 'True': 'Dengue'}\n",
            "{'Predicted': 'Acne', 'True': 'Acne'}\n",
            "{'Predicted': 'Impetigo', 'True': 'Impetigo'}\n",
            "{'Predicted': 'urinary tract infection', 'True': 'urinary tract infection'}\n",
            "{'Predicted': 'Typhoid', 'True': 'Typhoid'}\n",
            "{'Predicted': 'Fungal infection', 'True': 'Fungal infection'}\n",
            "{'Predicted': 'Malaria', 'True': 'Malaria'}\n",
            "{'Predicted': 'Acne', 'True': 'Acne'}\n",
            "{'Predicted': 'Hypertension', 'True': 'Hypertension'}\n",
            "{'Predicted': 'Hypertension', 'True': 'Hypertension'}\n",
            "{'Predicted': 'Dimorphic Hemorrhoids', 'True': 'Dimorphic Hemorrhoids'}\n",
            "{'Predicted': 'Common Cold', 'True': 'Common Cold'}\n",
            "{'Predicted': 'Hypertension', 'True': 'Hypertension'}\n",
            "{'Predicted': 'Psoriasis', 'True': 'Psoriasis'}\n",
            "{'Predicted': 'drug reaction', 'True': 'drug reaction'}\n",
            "{'Predicted': 'Malaria', 'True': 'Malaria'}\n",
            "{'Predicted': 'diabetes', 'True': 'diabetes'}\n",
            "{'Predicted': 'drug reaction', 'True': 'drug reaction'}\n",
            "{'Predicted': 'gastroesophageal reflux disease', 'True': 'gastroesophageal reflux disease'}\n",
            "{'Predicted': 'Arthritis', 'True': 'Arthritis'}\n",
            "{'Predicted': 'Varicose Veins', 'True': 'Varicose Veins'}\n",
            "{'Predicted': 'Acne', 'True': 'Acne'}\n",
            "{'Predicted': 'Malaria', 'True': 'Malaria'}\n",
            "{'Predicted': 'Migraine', 'True': 'Migraine'}\n",
            "{'Predicted': 'Impetigo', 'True': 'Impetigo'}\n",
            "{'Predicted': 'Dengue', 'True': 'Dengue'}\n",
            "{'Predicted': 'Varicose Veins', 'True': 'Varicose Veins'}\n",
            "{'Predicted': 'Varicose Veins', 'True': 'Varicose Veins'}\n",
            "{'Predicted': 'Dengue', 'True': 'Dengue'}\n",
            "{'Predicted': 'peptic ulcer disease', 'True': 'peptic ulcer disease'}\n",
            "{'Predicted': 'Common Cold', 'True': 'Common Cold'}\n",
            "{'Predicted': 'peptic ulcer disease', 'True': 'peptic ulcer disease'}\n",
            "{'Predicted': 'Cervical spondylosis', 'True': 'Cervical spondylosis'}\n",
            "{'Predicted': 'Typhoid', 'True': 'Typhoid'}\n",
            "{'Predicted': 'gastroesophageal reflux disease', 'True': 'gastroesophageal reflux disease'}\n",
            "{'Predicted': 'Varicose Veins', 'True': 'Varicose Veins'}\n",
            "{'Predicted': 'Arthritis', 'True': 'Arthritis'}\n",
            "{'Predicted': 'Jaundice', 'True': 'Jaundice'}\n",
            "{'Predicted': 'Acne', 'True': 'Acne'}\n",
            "{'Predicted': 'Cervical spondylosis', 'True': 'Cervical spondylosis'}\n",
            "{'Predicted': 'Cervical spondylosis', 'True': 'Cervical spondylosis'}\n",
            "{'Predicted': 'Common Cold', 'True': 'Common Cold'}\n",
            "{'Predicted': 'Impetigo', 'True': 'Impetigo'}\n",
            "{'Predicted': 'Psoriasis', 'True': 'Chicken pox'}\n",
            "{'Predicted': 'Bronchial Asthma', 'True': 'Bronchial Asthma'}\n",
            "{'Predicted': 'Cervical spondylosis', 'True': 'Cervical spondylosis'}\n",
            "{'Predicted': 'Dengue', 'True': 'Dengue'}\n",
            "{'Predicted': 'Typhoid', 'True': 'Typhoid'}\n",
            "{'Predicted': 'Acne', 'True': 'Acne'}\n",
            "{'Predicted': 'Typhoid', 'True': 'Typhoid'}\n",
            "{'Predicted': 'allergy', 'True': 'allergy'}\n",
            "{'Predicted': 'Migraine', 'True': 'Migraine'}\n",
            "{'Predicted': 'Arthritis', 'True': 'Arthritis'}\n",
            "{'Predicted': 'Pneumonia', 'True': 'Pneumonia'}\n",
            "{'Predicted': 'Fungal infection', 'True': 'Fungal infection'}\n",
            "{'Predicted': 'Pneumonia', 'True': 'Pneumonia'}\n",
            "{'Predicted': 'Acne', 'True': 'Acne'}\n",
            "{'Predicted': 'Impetigo', 'True': 'Impetigo'}\n",
            "{'Predicted': 'Dimorphic Hemorrhoids', 'True': 'Dimorphic Hemorrhoids'}\n",
            "{'Predicted': 'Varicose Veins', 'True': 'Varicose Veins'}\n",
            "{'Predicted': 'Chicken pox', 'True': 'Chicken pox'}\n",
            "{'Predicted': 'Dimorphic Hemorrhoids', 'True': 'Dimorphic Hemorrhoids'}\n",
            "{'Predicted': 'Pneumonia', 'True': 'Pneumonia'}\n",
            "{'Predicted': 'Hypertension', 'True': 'Hypertension'}\n",
            "{'Predicted': 'gastroesophageal reflux disease', 'True': 'gastroesophageal reflux disease'}\n",
            "{'Predicted': 'Impetigo', 'True': 'Impetigo'}\n",
            "{'Predicted': 'urinary tract infection', 'True': 'urinary tract infection'}\n",
            "{'Predicted': 'urinary tract infection', 'True': 'urinary tract infection'}\n",
            "{'Predicted': 'Malaria', 'True': 'Malaria'}\n",
            "{'Predicted': 'allergy', 'True': 'allergy'}\n",
            "{'Predicted': 'drug reaction', 'True': 'drug reaction'}\n",
            "{'Predicted': 'Hypertension', 'True': 'Hypertension'}\n",
            "{'Predicted': 'Impetigo', 'True': 'Impetigo'}\n",
            "{'Predicted': 'peptic ulcer disease', 'True': 'peptic ulcer disease'}\n",
            "{'Predicted': 'Bronchial Asthma', 'True': 'Bronchial Asthma'}\n",
            "{'Predicted': 'urinary tract infection', 'True': 'urinary tract infection'}\n",
            "{'Predicted': 'Chicken pox', 'True': 'Chicken pox'}\n",
            "{'Predicted': 'Hypertension', 'True': 'Hypertension'}\n",
            "{'Predicted': 'Fungal infection', 'True': 'Fungal infection'}\n",
            "{'Predicted': 'Varicose Veins', 'True': 'Varicose Veins'}\n",
            "{'Predicted': 'Cervical spondylosis', 'True': 'Cervical spondylosis'}\n",
            "{'Predicted': 'Pneumonia', 'True': 'Pneumonia'}\n",
            "{'Predicted': 'Migraine', 'True': 'Migraine'}\n",
            "{'Predicted': 'Hypertension', 'True': 'Hypertension'}\n",
            "{'Predicted': 'allergy', 'True': 'allergy'}\n",
            "{'Predicted': 'Dimorphic Hemorrhoids', 'True': 'Dimorphic Hemorrhoids'}\n",
            "{'Predicted': 'drug reaction', 'True': 'drug reaction'}\n",
            "{'Predicted': 'diabetes', 'True': 'diabetes'}\n",
            "{'Predicted': 'Fungal infection', 'True': 'Fungal infection'}\n",
            "{'Predicted': 'Dengue', 'True': 'Dengue'}\n",
            "{'Predicted': 'Jaundice', 'True': 'Jaundice'}\n",
            "{'Predicted': 'Hypertension', 'True': 'Hypertension'}\n",
            "{'Predicted': 'drug reaction', 'True': 'drug reaction'}\n",
            "{'Predicted': 'drug reaction', 'True': 'drug reaction'}\n",
            "{'Predicted': 'Varicose Veins', 'True': 'Varicose Veins'}\n",
            "{'Predicted': 'gastroesophageal reflux disease', 'True': 'gastroesophageal reflux disease'}\n",
            "{'Predicted': 'Chicken pox', 'True': 'Chicken pox'}\n",
            "{'Predicted': 'Psoriasis', 'True': 'Psoriasis'}\n",
            "{'Predicted': 'Hypertension', 'True': 'Hypertension'}\n",
            "{'Predicted': 'urinary tract infection', 'True': 'urinary tract infection'}\n",
            "{'Predicted': 'Arthritis', 'True': 'Arthritis'}\n",
            "{'Predicted': 'peptic ulcer disease', 'True': 'peptic ulcer disease'}\n",
            "{'Predicted': 'Acne', 'True': 'Acne'}\n",
            "{'Predicted': 'Common Cold', 'True': 'Common Cold'}\n",
            "{'Predicted': 'diabetes', 'True': 'diabetes'}\n",
            "{'Predicted': 'Jaundice', 'True': 'Jaundice'}\n",
            "{'Predicted': 'Fungal infection', 'True': 'Fungal infection'}\n",
            "{'Predicted': 'Chicken pox', 'True': 'Dengue'}\n",
            "{'Predicted': 'Common Cold', 'True': 'Common Cold'}\n",
            "{'Predicted': 'Psoriasis', 'True': 'Psoriasis'}\n",
            "{'Predicted': 'Fungal infection', 'True': 'Fungal infection'}\n",
            "{'Predicted': 'Arthritis', 'True': 'Arthritis'}\n",
            "{'Predicted': 'Acne', 'True': 'Acne'}\n",
            "{'Predicted': 'gastroesophageal reflux disease', 'True': 'gastroesophageal reflux disease'}\n",
            "{'Predicted': 'Psoriasis', 'True': 'Psoriasis'}\n",
            "{'Predicted': 'peptic ulcer disease', 'True': 'peptic ulcer disease'}\n",
            "{'Predicted': 'drug reaction', 'True': 'drug reaction'}\n",
            "{'Predicted': 'peptic ulcer disease', 'True': 'peptic ulcer disease'}\n",
            "{'Predicted': 'Dimorphic Hemorrhoids', 'True': 'Dimorphic Hemorrhoids'}\n",
            "{'Predicted': 'Arthritis', 'True': 'Arthritis'}\n",
            "{'Predicted': 'Jaundice', 'True': 'Jaundice'}\n",
            "{'Predicted': 'Malaria', 'True': 'Malaria'}\n",
            "{'Predicted': 'Psoriasis', 'True': 'Psoriasis'}\n",
            "{'Predicted': 'Jaundice', 'True': 'Jaundice'}\n",
            "{'Predicted': 'drug reaction', 'True': 'drug reaction'}\n",
            "{'Predicted': 'diabetes', 'True': 'diabetes'}\n",
            "{'Predicted': 'drug reaction', 'True': 'drug reaction'}\n",
            "{'Predicted': 'Migraine', 'True': 'Migraine'}\n",
            "{'Predicted': 'Psoriasis', 'True': 'Psoriasis'}\n",
            "{'Predicted': 'Fungal infection', 'True': 'Fungal infection'}\n",
            "{'Predicted': 'Malaria', 'True': 'Malaria'}\n",
            "{'Predicted': 'Impetigo', 'True': 'Impetigo'}\n",
            "{'Predicted': 'gastroesophageal reflux disease', 'True': 'gastroesophageal reflux disease'}\n",
            "{'Predicted': 'peptic ulcer disease', 'True': 'peptic ulcer disease'}\n",
            "{'Predicted': 'Typhoid', 'True': 'Typhoid'}\n",
            "{'Predicted': 'Arthritis', 'True': 'Arthritis'}\n",
            "{'Predicted': 'Arthritis', 'True': 'Arthritis'}\n",
            "{'Predicted': 'allergy', 'True': 'allergy'}\n",
            "{'Predicted': 'allergy', 'True': 'allergy'}\n",
            "{'Predicted': 'Cervical spondylosis', 'True': 'Cervical spondylosis'}\n",
            "{'Predicted': 'Arthritis', 'True': 'Arthritis'}\n",
            "{'Predicted': 'Dengue', 'True': 'Dengue'}\n",
            "{'Predicted': 'diabetes', 'True': 'diabetes'}\n",
            "{'Predicted': 'Acne', 'True': 'Acne'}\n",
            "{'Predicted': 'Cervical spondylosis', 'True': 'Cervical spondylosis'}\n",
            "{'Predicted': 'Acne', 'True': 'Acne'}\n",
            "{'Predicted': 'Chicken pox', 'True': 'Chicken pox'}\n",
            "{'Predicted': 'Acne', 'True': 'Acne'}\n",
            "{'Predicted': 'Fungal infection', 'True': 'Fungal infection'}\n",
            "{'Predicted': 'Migraine', 'True': 'Migraine'}\n",
            "{'Predicted': 'Cervical spondylosis', 'True': 'Cervical spondylosis'}\n",
            "{'Predicted': 'Chicken pox', 'True': 'Chicken pox'}\n",
            "{'Predicted': 'Varicose Veins', 'True': 'Varicose Veins'}\n",
            "{'Predicted': 'drug reaction', 'True': 'drug reaction'}\n",
            "{'Predicted': 'Typhoid', 'True': 'Typhoid'}\n",
            "{'Predicted': 'Fungal infection', 'True': 'Fungal infection'}\n",
            "{'Predicted': 'Migraine', 'True': 'Migraine'}\n",
            "{'Predicted': 'Dimorphic Hemorrhoids', 'True': 'Dimorphic Hemorrhoids'}\n",
            "{'Predicted': 'urinary tract infection', 'True': 'urinary tract infection'}\n",
            "{'Predicted': 'allergy', 'True': 'allergy'}\n",
            "{'Predicted': 'gastroesophageal reflux disease', 'True': 'gastroesophageal reflux disease'}\n",
            "{'Predicted': 'Varicose Veins', 'True': 'Varicose Veins'}\n",
            "{'Predicted': 'Cervical spondylosis', 'True': 'Cervical spondylosis'}\n",
            "{'Predicted': 'Cervical spondylosis', 'True': 'Cervical spondylosis'}\n",
            "{'Predicted': 'Migraine', 'True': 'Migraine'}\n",
            "{'Predicted': 'urinary tract infection', 'True': 'urinary tract infection'}\n",
            "{'Predicted': 'Varicose Veins', 'True': 'Varicose Veins'}\n",
            "{'Predicted': 'Cervical spondylosis', 'True': 'Cervical spondylosis'}\n",
            "{'Predicted': 'Common Cold', 'True': 'Common Cold'}\n",
            "{'Predicted': 'Dimorphic Hemorrhoids', 'True': 'Dimorphic Hemorrhoids'}\n",
            "{'Predicted': 'Arthritis', 'True': 'Arthritis'}\n",
            "{'Predicted': 'Typhoid', 'True': 'Typhoid'}\n",
            "{'Predicted': 'urinary tract infection', 'True': 'urinary tract infection'}\n",
            "{'Predicted': 'Impetigo', 'True': 'Impetigo'}\n",
            "{'Predicted': 'Migraine', 'True': 'Migraine'}\n",
            "{'Predicted': 'urinary tract infection', 'True': 'urinary tract infection'}\n",
            "{'Predicted': 'Hypertension', 'True': 'Hypertension'}\n",
            "{'Predicted': 'Arthritis', 'True': 'Arthritis'}\n",
            "{'Predicted': 'Common Cold', 'True': 'Common Cold'}\n",
            "{'Predicted': 'Malaria', 'True': 'Malaria'}\n",
            "{'Predicted': 'Common Cold', 'True': 'Common Cold'}\n",
            "{'Predicted': 'Psoriasis', 'True': 'Psoriasis'}\n",
            "{'Predicted': 'Bronchial Asthma', 'True': 'Bronchial Asthma'}\n",
            "{'Predicted': 'Impetigo', 'True': 'Impetigo'}\n",
            "{'Predicted': 'Jaundice', 'True': 'Jaundice'}\n",
            "{'Predicted': 'Bronchial Asthma', 'True': 'Bronchial Asthma'}\n",
            "{'Predicted': 'Impetigo', 'True': 'Impetigo'}\n",
            "{'Predicted': 'Chicken pox', 'True': 'Chicken pox'}\n",
            "{'Predicted': 'Fungal infection', 'True': 'Fungal infection'}\n",
            "{'Predicted': 'Fungal infection', 'True': 'Fungal infection'}\n",
            "{'Predicted': 'Common Cold', 'True': 'Common Cold'}\n",
            "{'Predicted': 'Dengue', 'True': 'Dengue'}\n",
            "{'Predicted': 'Malaria', 'True': 'Malaria'}\n",
            "{'Predicted': 'Dengue', 'True': 'Dengue'}\n",
            "{'Predicted': 'Common Cold', 'True': 'Common Cold'}\n",
            "{'Predicted': 'Common Cold', 'True': 'Common Cold'}\n",
            "{'Predicted': 'Varicose Veins', 'True': 'Varicose Veins'}\n",
            "{'Predicted': 'Chicken pox', 'True': 'Chicken pox'}\n",
            "{'Predicted': 'Cervical spondylosis', 'True': 'Cervical spondylosis'}\n",
            "{'Predicted': 'Migraine', 'True': 'Migraine'}\n",
            "{'Predicted': 'allergy', 'True': 'allergy'}\n",
            "{'Predicted': 'Cervical spondylosis', 'True': 'Cervical spondylosis'}\n",
            "{'Predicted': 'Migraine', 'True': 'Migraine'}\n",
            "{'Predicted': 'Varicose Veins', 'True': 'Varicose Veins'}\n",
            "{'Predicted': 'Chicken pox', 'True': 'Chicken pox'}\n",
            "{'Predicted': 'diabetes', 'True': 'diabetes'}\n",
            "{'Predicted': 'urinary tract infection', 'True': 'urinary tract infection'}\n",
            "{'Predicted': 'Acne', 'True': 'Acne'}\n",
            "{'Predicted': 'drug reaction', 'True': 'drug reaction'}\n",
            "{'Predicted': 'allergy', 'True': 'allergy'}\n",
            "{'Predicted': 'Impetigo', 'True': 'Impetigo'}\n",
            "{'Predicted': 'Arthritis', 'True': 'Arthritis'}\n",
            "{'Predicted': 'diabetes', 'True': 'diabetes'}\n",
            "{'Predicted': 'Varicose Veins', 'True': 'Varicose Veins'}\n",
            "{'Predicted': 'Fungal infection', 'True': 'Fungal infection'}\n",
            "{'Predicted': 'allergy', 'True': 'allergy'}\n",
            "{'Predicted': 'Migraine', 'True': 'Migraine'}\n",
            "{'Predicted': 'diabetes', 'True': 'diabetes'}\n",
            "{'Predicted': 'diabetes', 'True': 'diabetes'}\n",
            "{'Predicted': 'Chicken pox', 'True': 'Chicken pox'}\n",
            "{'Predicted': 'peptic ulcer disease', 'True': 'peptic ulcer disease'}\n",
            "{'Predicted': 'allergy', 'True': 'allergy'}\n",
            "{'Predicted': 'Common Cold', 'True': 'Common Cold'}\n",
            "{'Predicted': 'Chicken pox', 'True': 'Chicken pox'}\n",
            "{'Predicted': 'diabetes', 'True': 'diabetes'}\n",
            "{'Predicted': 'Pneumonia', 'True': 'Pneumonia'}\n",
            "{'Predicted': 'Fungal infection', 'True': 'Fungal infection'}\n",
            "{'Predicted': 'Cervical spondylosis', 'True': 'Cervical spondylosis'}\n",
            "{'Predicted': 'Impetigo', 'True': 'Impetigo'}\n",
            "{'Predicted': 'Arthritis', 'True': 'Arthritis'}\n",
            "{'Predicted': 'peptic ulcer disease', 'True': 'peptic ulcer disease'}\n",
            "{'Predicted': 'Acne', 'True': 'Acne'}\n",
            "{'Predicted': 'Migraine', 'True': 'Migraine'}\n",
            "{'Predicted': 'Dimorphic Hemorrhoids', 'True': 'Dimorphic Hemorrhoids'}\n",
            "{'Predicted': 'Dengue', 'True': 'Dengue'}\n",
            "{'Predicted': 'Dengue', 'True': 'Chicken pox'}\n",
            "{'Predicted': 'Hypertension', 'True': 'Hypertension'}\n",
            "{'Predicted': 'drug reaction', 'True': 'drug reaction'}\n",
            "{'Predicted': 'Dimorphic Hemorrhoids', 'True': 'Dimorphic Hemorrhoids'}\n",
            "{'Predicted': 'Psoriasis', 'True': 'Psoriasis'}\n",
            "{'Predicted': 'Psoriasis', 'True': 'Psoriasis'}\n",
            "{'Predicted': 'Bronchial Asthma', 'True': 'Bronchial Asthma'}\n",
            "{'Predicted': 'Jaundice', 'True': 'Jaundice'}\n",
            "{'Predicted': 'Dengue', 'True': 'Dengue'}\n",
            "{'Predicted': 'drug reaction', 'True': 'drug reaction'}\n",
            "{'Predicted': 'peptic ulcer disease', 'True': 'peptic ulcer disease'}\n",
            "{'Predicted': 'allergy', 'True': 'allergy'}\n",
            "{'Predicted': 'Jaundice', 'True': 'Jaundice'}\n",
            "{'Predicted': 'gastroesophageal reflux disease', 'True': 'gastroesophageal reflux disease'}\n",
            "{'Predicted': 'Arthritis', 'True': 'Arthritis'}\n",
            "{'Predicted': 'Acne', 'True': 'Acne'}\n",
            "{'Predicted': 'diabetes', 'True': 'diabetes'}\n",
            "{'Predicted': 'Migraine', 'True': 'Migraine'}\n",
            "{'Predicted': 'Fungal infection', 'True': 'Fungal infection'}\n",
            "{'Predicted': 'Chicken pox', 'True': 'Chicken pox'}\n",
            "{'Predicted': 'Pneumonia', 'True': 'Pneumonia'}\n",
            "{'Predicted': 'gastroesophageal reflux disease', 'True': 'gastroesophageal reflux disease'}\n",
            "{'Predicted': 'Common Cold', 'True': 'Common Cold'}\n",
            "{'Predicted': 'peptic ulcer disease', 'True': 'peptic ulcer disease'}\n",
            "{'Predicted': 'gastroesophageal reflux disease', 'True': 'gastroesophageal reflux disease'}\n",
            "{'Predicted': 'Cervical spondylosis', 'True': 'Cervical spondylosis'}\n",
            "{'Predicted': 'peptic ulcer disease', 'True': 'peptic ulcer disease'}\n",
            "{'Predicted': 'Jaundice', 'True': 'Jaundice'}\n",
            "{'Predicted': 'allergy', 'True': 'allergy'}\n",
            "{'Predicted': 'Cervical spondylosis', 'True': 'Cervical spondylosis'}\n",
            "{'Predicted': 'Fungal infection', 'True': 'Fungal infection'}\n",
            "{'Predicted': 'Migraine', 'True': 'Migraine'}\n",
            "{'Predicted': 'Malaria', 'True': 'Malaria'}\n",
            "{'Predicted': 'peptic ulcer disease', 'True': 'peptic ulcer disease'}\n",
            "{'Predicted': 'Varicose Veins', 'True': 'Varicose Veins'}\n",
            "{'Predicted': 'Bronchial Asthma', 'True': 'Bronchial Asthma'}\n",
            "{'Predicted': 'diabetes', 'True': 'diabetes'}\n",
            "{'Predicted': 'drug reaction', 'True': 'drug reaction'}\n",
            "{'Predicted': 'Malaria', 'True': 'Malaria'}\n",
            "{'Predicted': 'Arthritis', 'True': 'Arthritis'}\n",
            "{'Predicted': 'Acne', 'True': 'Acne'}\n",
            "{'Predicted': 'urinary tract infection', 'True': 'urinary tract infection'}\n",
            "{'Predicted': 'Hypertension', 'True': 'Hypertension'}\n",
            "{'Predicted': 'Fungal infection', 'True': 'Fungal infection'}\n",
            "{'Predicted': 'drug reaction', 'True': 'drug reaction'}\n",
            "{'Predicted': 'drug reaction', 'True': 'drug reaction'}\n",
            "{'Predicted': 'Pneumonia', 'True': 'Pneumonia'}\n",
            "{'Predicted': 'Bronchial Asthma', 'True': 'Bronchial Asthma'}\n",
            "{'Predicted': 'Dimorphic Hemorrhoids', 'True': 'Dimorphic Hemorrhoids'}\n",
            "{'Predicted': 'Fungal infection', 'True': 'Fungal infection'}\n",
            "{'Predicted': 'Fungal infection', 'True': 'Fungal infection'}\n",
            "{'Predicted': 'allergy', 'True': 'allergy'}\n",
            "{'Predicted': 'allergy', 'True': 'allergy'}\n",
            "{'Predicted': 'Migraine', 'True': 'Migraine'}\n",
            "{'Predicted': 'Acne', 'True': 'Acne'}\n",
            "{'Predicted': 'Dimorphic Hemorrhoids', 'True': 'Dimorphic Hemorrhoids'}\n",
            "{'Predicted': 'Bronchial Asthma', 'True': 'Bronchial Asthma'}\n",
            "{'Predicted': 'gastroesophageal reflux disease', 'True': 'gastroesophageal reflux disease'}\n",
            "{'Predicted': 'urinary tract infection', 'True': 'urinary tract infection'}\n",
            "{'Predicted': 'allergy', 'True': 'allergy'}\n",
            "{'Predicted': 'Psoriasis', 'True': 'Psoriasis'}\n",
            "{'Predicted': 'drug reaction', 'True': 'drug reaction'}\n",
            "{'Predicted': 'urinary tract infection', 'True': 'urinary tract infection'}\n",
            "{'Predicted': 'Dengue', 'True': 'Dengue'}\n",
            "{'Predicted': 'Typhoid', 'True': 'Typhoid'}\n",
            "{'Predicted': 'Psoriasis', 'True': 'Psoriasis'}\n",
            "{'Predicted': 'Common Cold', 'True': 'Common Cold'}\n",
            "{'Predicted': 'Dimorphic Hemorrhoids', 'True': 'Dimorphic Hemorrhoids'}\n",
            "{'Predicted': 'Common Cold', 'True': 'Common Cold'}\n",
            "{'Predicted': 'Arthritis', 'True': 'Arthritis'}\n",
            "{'Predicted': 'diabetes', 'True': 'diabetes'}\n",
            "{'Predicted': 'Cervical spondylosis', 'True': 'Cervical spondylosis'}\n",
            "{'Predicted': 'Dengue', 'True': 'Dengue'}\n",
            "{'Predicted': 'Dengue', 'True': 'Dengue'}\n",
            "{'Predicted': 'Pneumonia', 'True': 'Pneumonia'}\n",
            "{'Predicted': 'drug reaction', 'True': 'drug reaction'}\n",
            "{'Predicted': 'Malaria', 'True': 'Malaria'}\n",
            "{'Predicted': 'gastroesophageal reflux disease', 'True': 'gastroesophageal reflux disease'}\n",
            "{'Predicted': 'Impetigo', 'True': 'Impetigo'}\n",
            "{'Predicted': 'diabetes', 'True': 'diabetes'}\n",
            "{'Predicted': 'Arthritis', 'True': 'Arthritis'}\n",
            "{'Predicted': 'Varicose Veins', 'True': 'Varicose Veins'}\n",
            "{'Predicted': 'diabetes', 'True': 'diabetes'}\n",
            "{'Predicted': 'Chicken pox', 'True': 'Chicken pox'}\n",
            "{'Predicted': 'Cervical spondylosis', 'True': 'Cervical spondylosis'}\n",
            "{'Predicted': 'Pneumonia', 'True': 'Pneumonia'}\n",
            "{'Predicted': 'Acne', 'True': 'Acne'}\n",
            "{'Predicted': 'Psoriasis', 'True': 'Psoriasis'}\n",
            "{'Predicted': 'Varicose Veins', 'True': 'Varicose Veins'}\n",
            "{'Predicted': 'Cervical spondylosis', 'True': 'Cervical spondylosis'}\n",
            "{'Predicted': 'Malaria', 'True': 'Malaria'}\n",
            "{'Predicted': 'Malaria', 'True': 'Malaria'}\n",
            "{'Predicted': 'Dengue', 'True': 'Dengue'}\n",
            "{'Predicted': 'Hypertension', 'True': 'Hypertension'}\n",
            "{'Predicted': 'Chicken pox', 'True': 'Chicken pox'}\n",
            "{'Predicted': 'Pneumonia', 'True': 'Pneumonia'}\n",
            "{'Predicted': 'Malaria', 'True': 'Malaria'}\n",
            "{'Predicted': 'peptic ulcer disease', 'True': 'peptic ulcer disease'}\n",
            "{'Predicted': 'Varicose Veins', 'True': 'Varicose Veins'}\n",
            "{'Predicted': 'Chicken pox', 'True': 'Chicken pox'}\n",
            "{'Predicted': 'Migraine', 'True': 'Migraine'}\n",
            "{'Predicted': 'Pneumonia', 'True': 'Pneumonia'}\n",
            "{'Predicted': 'allergy', 'True': 'allergy'}\n",
            "{'Predicted': 'Dimorphic Hemorrhoids', 'True': 'Dimorphic Hemorrhoids'}\n",
            "{'Predicted': 'Jaundice', 'True': 'Jaundice'}\n",
            "{'Predicted': 'Migraine', 'True': 'Migraine'}\n",
            "{'Predicted': 'Fungal infection', 'True': 'Fungal infection'}\n",
            "{'Predicted': 'Varicose Veins', 'True': 'Varicose Veins'}\n",
            "{'Predicted': 'allergy', 'True': 'allergy'}\n",
            "{'Predicted': 'Psoriasis', 'True': 'Psoriasis'}\n",
            "{'Predicted': 'Impetigo', 'True': 'Impetigo'}\n",
            "{'Predicted': 'allergy', 'True': 'allergy'}\n",
            "{'Predicted': 'peptic ulcer disease', 'True': 'peptic ulcer disease'}\n",
            "{'Predicted': 'drug reaction', 'True': 'drug reaction'}\n",
            "{'Predicted': 'Typhoid', 'True': 'Typhoid'}\n",
            "{'Predicted': 'Typhoid', 'True': 'Typhoid'}\n",
            "{'Predicted': 'Jaundice', 'True': 'Jaundice'}\n",
            "{'Predicted': 'allergy', 'True': 'allergy'}\n",
            "{'Predicted': 'peptic ulcer disease', 'True': 'peptic ulcer disease'}\n",
            "{'Predicted': 'Varicose Veins', 'True': 'Varicose Veins'}\n",
            "{'Predicted': 'Hypertension', 'True': 'Hypertension'}\n",
            "{'Predicted': 'Chicken pox', 'True': 'Chicken pox'}\n",
            "{'Predicted': 'Typhoid', 'True': 'Typhoid'}\n",
            "{'Predicted': 'Impetigo', 'True': 'Impetigo'}\n",
            "{'Predicted': 'Varicose Veins', 'True': 'Varicose Veins'}\n",
            "{'Predicted': 'Fungal infection', 'True': 'Fungal infection'}\n",
            "{'Predicted': 'gastroesophageal reflux disease', 'True': 'gastroesophageal reflux disease'}\n",
            "{'Predicted': 'Jaundice', 'True': 'Jaundice'}\n",
            "{'Predicted': 'Psoriasis', 'True': 'Psoriasis'}\n",
            "{'Predicted': 'Psoriasis', 'True': 'Psoriasis'}\n",
            "{'Predicted': 'Arthritis', 'True': 'Arthritis'}\n",
            "{'Predicted': 'Malaria', 'True': 'Malaria'}\n",
            "{'Predicted': 'Arthritis', 'True': 'Arthritis'}\n",
            "{'Predicted': 'diabetes', 'True': 'diabetes'}\n",
            "{'Predicted': 'allergy', 'True': 'allergy'}\n",
            "{'Predicted': 'Dimorphic Hemorrhoids', 'True': 'Dimorphic Hemorrhoids'}\n",
            "{'Predicted': 'Chicken pox', 'True': 'Chicken pox'}\n",
            "{'Predicted': 'Chicken pox', 'True': 'Chicken pox'}\n",
            "{'Predicted': 'Acne', 'True': 'Acne'}\n",
            "{'Predicted': 'Dengue', 'True': 'Dengue'}\n",
            "{'Predicted': 'Hypertension', 'True': 'Hypertension'}\n",
            "{'Predicted': 'urinary tract infection', 'True': 'urinary tract infection'}\n",
            "{'Predicted': 'drug reaction', 'True': 'drug reaction'}\n",
            "{'Predicted': 'Arthritis', 'True': 'Arthritis'}\n",
            "{'Predicted': 'Fungal infection', 'True': 'Fungal infection'}\n",
            "{'Predicted': 'Arthritis', 'True': 'Arthritis'}\n",
            "{'Predicted': 'Jaundice', 'True': 'Jaundice'}\n"
          ]
        }
      ]
    },
    {
      "cell_type": "markdown",
      "metadata": {
        "id": "kiMNY1O9jnO9"
      },
      "source": [
        "## **Model Validation**"
      ]
    },
    {
      "cell_type": "code",
      "execution_count": null,
      "metadata": {
        "colab": {
          "base_uri": "https://localhost:8080/"
        },
        "id": "eK33JXq5xBJx",
        "outputId": "9bfa0d95-3fda-4362-d658-ab40f0ca133f"
      },
      "outputs": [
        {
          "output_type": "stream",
          "name": "stdout",
          "text": [
            "The curious cat chased the elusive shadow through the moonlit garden.\n",
            "curious cat chased elusive shadow moonlit garden\n",
            "[[0.]\n",
            " [0.]\n",
            " [0.]\n",
            " ...\n",
            " [0.]\n",
            " [0.]\n",
            " [0.]]\n",
            "['diabetes']\n",
            "[[0.00303707 0.00359442 0.01082831 0.00410722 0.06362164 0.01224696\n",
            "  0.04066682 0.00384638 0.00927622 0.01844921 0.02907725 0.0025507\n",
            "  0.00408447 0.01685776 0.00584279 0.13185572 0.08373248 0.03601206\n",
            "  0.02662667 0.17480667 0.14574545 0.01394324 0.11360237 0.0455881 ]]\n",
            "0.17480667125798208\n",
            "Please enter valid symptoms\n"
          ]
        }
      ],
      "source": [
        "# Validation Test #\n",
        "\n",
        "text_before = \"The curious cat chased the elusive shadow through the moonlit garden.\"\n",
        "\n",
        "# Cleaning\n",
        "text_after = preprocess_text(text_before)\n",
        "\n",
        "print(text_before)\n",
        "print(text_after)\n",
        "\n",
        "# Vectorization\n",
        "tfidf_vectorizer\n",
        "\n",
        "text_after = tfidf_vectorizer.transform([text_after]).toarray()\n",
        "\n",
        "print(text_after.reshape(-1,1))\n",
        "\n",
        "# Prediction\n",
        "disease = best_svm_classifier.predict(text_after)\n",
        "print(disease)\n",
        "\n",
        "disease_proba = best_svm_classifier.predict_proba(text_after)\n",
        "print(disease_proba)\n",
        "\n",
        "score = disease_proba[0][np.argmax(np.array(disease_proba[0]),axis=0)]\n",
        "print(score)\n",
        "\n",
        "if score > 0.30:\n",
        "    print(disease) # disease\n",
        "else:\n",
        "    print(\"Please enter valid symptoms\") # error message"
      ]
    },
    {
      "cell_type": "markdown",
      "metadata": {
        "id": "VJczI22hy2Xe"
      },
      "source": [
        "# **KNeighborsClassifier**\n",
        "In the k-NN algorithm, the \"k\" represents the number of nearest neighbors considered for making predictions.\n"
      ]
    },
    {
      "cell_type": "markdown",
      "metadata": {
        "id": "TTsFTFxjgq2r"
      },
      "source": [
        "## **Applying Grid Search to find the best model version and the best hyperparameters**"
      ]
    },
    {
      "cell_type": "code",
      "execution_count": null,
      "metadata": {
        "id": "lesVxLlugrKZ",
        "outputId": "ca693819-5706-40c1-a177-799235c480e4",
        "colab": {
          "base_uri": "https://localhost:8080/"
        }
      },
      "outputs": [
        {
          "output_type": "stream",
          "name": "stdout",
          "text": [
            "Best Hyperparameters: {'algorithm': 'auto', 'n_neighbors': 3, 'p': 2, 'weights': 'distance'}\n",
            "KNeighborsClassifier(n_neighbors=3, weights='distance')\n",
            "Best Accuracy: 96.92 %\n"
          ]
        }
      ],
      "source": [
        "from sklearn.neighbors import KNeighborsClassifier\n",
        "from sklearn.model_selection import GridSearchCV\n",
        "\n",
        "# Create a K-Neighbors Classifier object\n",
        "knn_classifier = KNeighborsClassifier()\n",
        "\n",
        "# Define the hyperparameters and their possible values to search\n",
        "parameters = {\n",
        "    'n_neighbors': [3, 5, 7, 9],\n",
        "    'weights': ['uniform', 'distance'],\n",
        "    'algorithm': ['auto', 'ball_tree', 'kd_tree', 'brute'],\n",
        "    'p': [1, 2]\n",
        "}\n",
        "\n",
        "# Create the Grid Search object\n",
        "grid_search = GridSearchCV(estimator = knn_classifier,\n",
        "                           param_grid = parameters,\n",
        "                           cv = 5,\n",
        "                           scoring = 'accuracy',\n",
        "                           n_jobs = -1)\n",
        "\n",
        "# Fit the Grid Search to the train data\n",
        "grid_search.fit(X_train, y_train)\n",
        "\n",
        "# Get the best hyperparameters found\n",
        "best_hyperparameters = grid_search.best_params_\n",
        "print(\"Best Hyperparameters:\", best_hyperparameters)\n",
        "\n",
        "# Get the best model version\n",
        "best_knn_classifier = grid_search.best_estimator_\n",
        "print(best_knn_classifier)\n",
        "\n",
        "# Print the best accuracy found\n",
        "best_accuracy = grid_search.best_score_\n",
        "print(f'Best Accuracy: {best_accuracy*100:.2f} %')\n"
      ]
    },
    {
      "cell_type": "code",
      "source": [
        "best_knn_classifier = KNeighborsClassifier(n_neighbors=3, weights='distance')\n",
        "best_knn_classifier.fit(X_train, y_train)"
      ],
      "metadata": {
        "colab": {
          "base_uri": "https://localhost:8080/",
          "height": 75
        },
        "id": "QUgE5Gcy3eVr",
        "outputId": "468da24e-32fc-4f9c-dc63-6da30f07fd9c"
      },
      "execution_count": null,
      "outputs": [
        {
          "output_type": "execute_result",
          "data": {
            "text/plain": [
              "KNeighborsClassifier(n_neighbors=3, weights='distance')"
            ],
            "text/html": [
              "<style>#sk-container-id-4 {color: black;background-color: white;}#sk-container-id-4 pre{padding: 0;}#sk-container-id-4 div.sk-toggleable {background-color: white;}#sk-container-id-4 label.sk-toggleable__label {cursor: pointer;display: block;width: 100%;margin-bottom: 0;padding: 0.3em;box-sizing: border-box;text-align: center;}#sk-container-id-4 label.sk-toggleable__label-arrow:before {content: \"▸\";float: left;margin-right: 0.25em;color: #696969;}#sk-container-id-4 label.sk-toggleable__label-arrow:hover:before {color: black;}#sk-container-id-4 div.sk-estimator:hover label.sk-toggleable__label-arrow:before {color: black;}#sk-container-id-4 div.sk-toggleable__content {max-height: 0;max-width: 0;overflow: hidden;text-align: left;background-color: #f0f8ff;}#sk-container-id-4 div.sk-toggleable__content pre {margin: 0.2em;color: black;border-radius: 0.25em;background-color: #f0f8ff;}#sk-container-id-4 input.sk-toggleable__control:checked~div.sk-toggleable__content {max-height: 200px;max-width: 100%;overflow: auto;}#sk-container-id-4 input.sk-toggleable__control:checked~label.sk-toggleable__label-arrow:before {content: \"▾\";}#sk-container-id-4 div.sk-estimator input.sk-toggleable__control:checked~label.sk-toggleable__label {background-color: #d4ebff;}#sk-container-id-4 div.sk-label input.sk-toggleable__control:checked~label.sk-toggleable__label {background-color: #d4ebff;}#sk-container-id-4 input.sk-hidden--visually {border: 0;clip: rect(1px 1px 1px 1px);clip: rect(1px, 1px, 1px, 1px);height: 1px;margin: -1px;overflow: hidden;padding: 0;position: absolute;width: 1px;}#sk-container-id-4 div.sk-estimator {font-family: monospace;background-color: #f0f8ff;border: 1px dotted black;border-radius: 0.25em;box-sizing: border-box;margin-bottom: 0.5em;}#sk-container-id-4 div.sk-estimator:hover {background-color: #d4ebff;}#sk-container-id-4 div.sk-parallel-item::after {content: \"\";width: 100%;border-bottom: 1px solid gray;flex-grow: 1;}#sk-container-id-4 div.sk-label:hover label.sk-toggleable__label {background-color: #d4ebff;}#sk-container-id-4 div.sk-serial::before {content: \"\";position: absolute;border-left: 1px solid gray;box-sizing: border-box;top: 0;bottom: 0;left: 50%;z-index: 0;}#sk-container-id-4 div.sk-serial {display: flex;flex-direction: column;align-items: center;background-color: white;padding-right: 0.2em;padding-left: 0.2em;position: relative;}#sk-container-id-4 div.sk-item {position: relative;z-index: 1;}#sk-container-id-4 div.sk-parallel {display: flex;align-items: stretch;justify-content: center;background-color: white;position: relative;}#sk-container-id-4 div.sk-item::before, #sk-container-id-4 div.sk-parallel-item::before {content: \"\";position: absolute;border-left: 1px solid gray;box-sizing: border-box;top: 0;bottom: 0;left: 50%;z-index: -1;}#sk-container-id-4 div.sk-parallel-item {display: flex;flex-direction: column;z-index: 1;position: relative;background-color: white;}#sk-container-id-4 div.sk-parallel-item:first-child::after {align-self: flex-end;width: 50%;}#sk-container-id-4 div.sk-parallel-item:last-child::after {align-self: flex-start;width: 50%;}#sk-container-id-4 div.sk-parallel-item:only-child::after {width: 0;}#sk-container-id-4 div.sk-dashed-wrapped {border: 1px dashed gray;margin: 0 0.4em 0.5em 0.4em;box-sizing: border-box;padding-bottom: 0.4em;background-color: white;}#sk-container-id-4 div.sk-label label {font-family: monospace;font-weight: bold;display: inline-block;line-height: 1.2em;}#sk-container-id-4 div.sk-label-container {text-align: center;}#sk-container-id-4 div.sk-container {/* jupyter's `normalize.less` sets `[hidden] { display: none; }` but bootstrap.min.css set `[hidden] { display: none !important; }` so we also need the `!important` here to be able to override the default hidden behavior on the sphinx rendered scikit-learn.org. See: https://github.com/scikit-learn/scikit-learn/issues/21755 */display: inline-block !important;position: relative;}#sk-container-id-4 div.sk-text-repr-fallback {display: none;}</style><div id=\"sk-container-id-4\" class=\"sk-top-container\"><div class=\"sk-text-repr-fallback\"><pre>KNeighborsClassifier(n_neighbors=3, weights=&#x27;distance&#x27;)</pre><b>In a Jupyter environment, please rerun this cell to show the HTML representation or trust the notebook. <br />On GitHub, the HTML representation is unable to render, please try loading this page with nbviewer.org.</b></div><div class=\"sk-container\" hidden><div class=\"sk-item\"><div class=\"sk-estimator sk-toggleable\"><input class=\"sk-toggleable__control sk-hidden--visually\" id=\"sk-estimator-id-4\" type=\"checkbox\" checked><label for=\"sk-estimator-id-4\" class=\"sk-toggleable__label sk-toggleable__label-arrow\">KNeighborsClassifier</label><div class=\"sk-toggleable__content\"><pre>KNeighborsClassifier(n_neighbors=3, weights=&#x27;distance&#x27;)</pre></div></div></div></div></div>"
            ]
          },
          "metadata": {},
          "execution_count": 100
        }
      ]
    },
    {
      "cell_type": "markdown",
      "metadata": {
        "id": "UESDKq1pg3ZP"
      },
      "source": [
        "## **Model Evaluation**"
      ]
    },
    {
      "cell_type": "code",
      "execution_count": null,
      "metadata": {
        "colab": {
          "base_uri": "https://localhost:8080/"
        },
        "id": "fY9IUHjymw24",
        "outputId": "529b1f10-968c-4d56-93b2-cf6ebb289388"
      },
      "outputs": [
        {
          "output_type": "stream",
          "name": "stdout",
          "text": [
            "Training Score: 100.00 %\n",
            "Testing Score: 97.84 %\n"
          ]
        }
      ],
      "source": [
        "# Calculate and Compare the Score of train data and test data\n",
        "\n",
        "train_score = best_knn_classifier.score(X_train, y_train)\n",
        "test_score = best_knn_classifier.score(X_test, y_test)\n",
        "\n",
        "# Print the scores\n",
        "print(f'Training Score: {train_score*100:.2f} %')\n",
        "print(f'Testing Score: {test_score*100:.2f} %')\n"
      ]
    },
    {
      "cell_type": "code",
      "execution_count": null,
      "metadata": {
        "id": "vr5vwhESzMig"
      },
      "outputs": [],
      "source": [
        "# Make Predictions on the train data and test data\n",
        "\n",
        "train_predictions = best_knn_classifier.predict(X_train)\n",
        "test_predictions = best_knn_classifier.predict(X_test)"
      ]
    },
    {
      "cell_type": "code",
      "execution_count": null,
      "metadata": {
        "colab": {
          "base_uri": "https://localhost:8080/"
        },
        "id": "Eno8JgLGDAys",
        "outputId": "9a7e7002-84b9-41c8-9ea0-47988d906c07"
      },
      "outputs": [
        {
          "output_type": "stream",
          "name": "stdout",
          "text": [
            "Training Accuracy: 100.00 %\n",
            "Testing Accuracy: 97.84 %\n"
          ]
        }
      ],
      "source": [
        "# Calculate and Compare the Accuracy for training and testing data\n",
        "from sklearn.metrics import accuracy_score\n",
        "\n",
        "train_accuracy = accuracy_score(y_train, train_predictions)\n",
        "test_accuracy = accuracy_score(y_test, test_predictions)\n",
        "\n",
        "# Print the accuracies\n",
        "print(f'Training Accuracy: {train_accuracy*100:.2f} %')\n",
        "print(f'Testing Accuracy: {test_accuracy*100:.2f} %')\n"
      ]
    },
    {
      "cell_type": "code",
      "execution_count": null,
      "metadata": {
        "colab": {
          "base_uri": "https://localhost:8080/"
        },
        "id": "spGeHAiIzT-e",
        "outputId": "7dd99940-6d5b-456c-b3c6-3b02e8302ca7"
      },
      "outputs": [
        {
          "output_type": "stream",
          "name": "stdout",
          "text": [
            "[[36  0  0  0  0  0  0  0  0  0  0  0  0  0  0  0  0  0  0  0  0  0  0  0]\n",
            " [ 0 39  0  0  0  0  0  0  0  0  0  0  0  0  0  0  0  0  0  0  0  0  0  0]\n",
            " [ 0  0 31  0  0  0  0  0  0  0  0  0  0  0  0  0  0  0  0  0  0  0  0  0]\n",
            " [ 0  0  0 36  0  0  0  0  0  0  0  0  0  0  0  0  0  0  0  0  0  0  0  0]\n",
            " [ 0  0  0  0 35  0  2  0  0  0  0  0  0  0  0  2  2  0  0  0  0  0  0  0]\n",
            " [ 0  0  0  0  0 38  0  0  0  0  0  0  0  0  0  0  0  0  0  0  0  0  0  0]\n",
            " [ 0  0  0  0  1  0 38  0  1  0  0  0  0  0  0  0  0  3  0  0  0  0  0  0]\n",
            " [ 0  0  0  0  0  0  0 38  0  0  0  0  0  0  0  0  0  0  0  0  0  0  0  0]\n",
            " [ 0  0  0  0  0  0  0  0 40  0  0  0  0  0  0  0  0  0  0  0  0  0  0  0]\n",
            " [ 0  0  0  1  0  0  0  0  0 31  0  0  0  0  0  0  0  0  0  0  0  0  0  0]\n",
            " [ 0  0  0  0  0  0  0  0  0  0 34  0  0  0  0  0  0  0  0  0  0  0  0  0]\n",
            " [ 0  0  0  0  0  0  0  0  0  0  0 34  0  0  0  0  0  0  0  0  0  0  0  0]\n",
            " [ 0  0  0  0  0  0  0  0  0  0  0  0 32  0  0  0  0  0  0  0  0  0  0  0]\n",
            " [ 0  0  0  0  0  0  0  0  0  0  0  0  0 31  0  0  0  0  0  0  0  0  0  0]\n",
            " [ 0  0  0  0  0  0  0  0  0  0  0  0  1  0 25  0  0  0  0  0  0  0  0  0]\n",
            " [ 0  0  0  0  0  0  0  0  0  0  0  0  0  0  0 40  0  0  0  0  0  0  1  0]\n",
            " [ 0  0  0  0  1  0  2  0  0  0  0  0  0  0  0  1 34  0  0  0  0  0  0  0]\n",
            " [ 0  0  0  0  1  0  0  0  0  0  0  0  0  0  0  0  0 56  0  0  0  0  0  0]\n",
            " [ 0  0  0  0  0  0  0  0  0  0  0  0  0  0  0  0  0  0 39  0  0  0  0  0]\n",
            " [ 0  0  0  0  0  0  0  0  0  0  0  0  0  0  0  0  0  0  0 34  0  0  0  0]\n",
            " [ 0  0  0  0  0  0  0  0  0  0  0  0  0  0  0  0  0  0  0  0 36  0  0  0]\n",
            " [ 0  0  0  0  0  0  0  0  0  0  0  0  0  0  0  0  0  0  0  0  0 34  0  0]\n",
            " [ 0  0  0  0  0  0  0  0  0  0  0  0  0  0  0  0  0  0  0  0  0  0 32  0]\n",
            " [ 0  0  0  0  0  0  0  0  0  0  0  0  0  0  0  0  0  0  0  0  0  0  0 36]]\n"
          ]
        }
      ],
      "source": [
        "# Make the Confusion Matrix\n",
        "from sklearn.metrics import confusion_matrix\n",
        "\n",
        "cm_4 = confusion_matrix(y_test, test_predictions)\n",
        "\n",
        "# Print the Confusion Matrix\n",
        "print(cm_4)"
      ]
    },
    {
      "cell_type": "code",
      "source": [
        "print(f\"The Accuracy = {accuracy_score(y_test, test_predictions)*100:.2f} %\")"
      ],
      "metadata": {
        "colab": {
          "base_uri": "https://localhost:8080/"
        },
        "id": "YVlvVKdHq158",
        "outputId": "cf43f629-b59c-47c2-fff0-99799985add7"
      },
      "execution_count": null,
      "outputs": [
        {
          "output_type": "stream",
          "name": "stdout",
          "text": [
            "The Accuracy = 97.84 %\n"
          ]
        }
      ]
    },
    {
      "cell_type": "code",
      "source": [
        "print(classification_report(y_test, test_predictions))"
      ],
      "metadata": {
        "colab": {
          "base_uri": "https://localhost:8080/"
        },
        "id": "BHdkFQou3cP8",
        "outputId": "ad01a333-f34d-4a7d-b9dc-8dbd2dbdb8f5"
      },
      "execution_count": null,
      "outputs": [
        {
          "output_type": "stream",
          "name": "stdout",
          "text": [
            "                                 precision    recall  f1-score   support\n",
            "\n",
            "                           Acne       1.00      1.00      1.00        36\n",
            "                      Arthritis       1.00      1.00      1.00        39\n",
            "               Bronchial Asthma       1.00      1.00      1.00        31\n",
            "           Cervical spondylosis       0.97      1.00      0.99        36\n",
            "                    Chicken pox       0.92      0.85      0.89        41\n",
            "                    Common Cold       1.00      1.00      1.00        38\n",
            "                         Dengue       0.90      0.88      0.89        43\n",
            "          Dimorphic Hemorrhoids       1.00      1.00      1.00        38\n",
            "               Fungal infection       0.98      1.00      0.99        40\n",
            "                   Hypertension       1.00      0.97      0.98        32\n",
            "                       Impetigo       1.00      1.00      1.00        34\n",
            "                       Jaundice       1.00      1.00      1.00        34\n",
            "                        Malaria       0.97      1.00      0.98        32\n",
            "                       Migraine       1.00      1.00      1.00        31\n",
            "                      Pneumonia       1.00      0.96      0.98        26\n",
            "                      Psoriasis       0.93      0.98      0.95        41\n",
            "                        Typhoid       0.94      0.89      0.92        38\n",
            "                 Varicose Veins       0.95      0.98      0.97        57\n",
            "                        allergy       1.00      1.00      1.00        39\n",
            "                       diabetes       1.00      1.00      1.00        34\n",
            "                  drug reaction       1.00      1.00      1.00        36\n",
            "gastroesophageal reflux disease       1.00      1.00      1.00        34\n",
            "           peptic ulcer disease       0.97      1.00      0.98        32\n",
            "        urinary tract infection       1.00      1.00      1.00        36\n",
            "\n",
            "                       accuracy                           0.98       878\n",
            "                      macro avg       0.98      0.98      0.98       878\n",
            "                   weighted avg       0.98      0.98      0.98       878\n",
            "\n"
          ]
        }
      ]
    },
    {
      "cell_type": "markdown",
      "metadata": {
        "id": "ihk2teuNi-_V"
      },
      "source": [
        "## **Model Validation**"
      ]
    },
    {
      "cell_type": "code",
      "execution_count": null,
      "metadata": {
        "colab": {
          "base_uri": "https://localhost:8080/"
        },
        "id": "DeqIpKBrxJKi",
        "outputId": "48962517-d9f4-4506-a08d-97b43a97a5aa"
      },
      "outputs": [
        {
          "output_type": "stream",
          "name": "stdout",
          "text": [
            "The abdominal pain has been coming and going, and it's been really unpleasant. It's been accompanied by constipation and vomiting. I feel really concerned about my health.\n",
            "abdominal pain coming going really unpleasant accompanied constipation vomiting feel really concerned health\n",
            "[[0.        ]\n",
            " [0.30370294]\n",
            " [0.        ]\n",
            " ...\n",
            " [0.        ]\n",
            " [0.        ]\n",
            " [0.        ]]\n",
            "['Typhoid']\n"
          ]
        }
      ],
      "source": [
        "# Validation Test #\n",
        "\n",
        "# text_before = \"The skin around my mouth, nose, and eyes is ruddy and kindled. It is regularly bothersome and awkward. There's a recognizable aggravation in my nails.\"\n",
        "\n",
        "text_before = \"The abdominal pain has been coming and going, and it's been really unpleasant. It's been accompanied by constipation and vomiting. I feel really concerned about my health.\"\n",
        "\n",
        "# Cleaning\n",
        "text_after = preprocess_text(text_before)\n",
        "\n",
        "print(text_before)\n",
        "print(text_after)\n",
        "\n",
        "# Vectorization\n",
        "tfidf_vectorizer\n",
        "\n",
        "text_after = tfidf_vectorizer.transform([text_after]).toarray()\n",
        "\n",
        "print(text_after.reshape(-1,1))\n",
        "\n",
        "# Prediction\n",
        "disease = best_knn_classifier.predict(text_after)\n",
        "\n",
        "print(disease)"
      ]
    },
    {
      "cell_type": "code",
      "source": [],
      "metadata": {
        "id": "YfF8241t9zd2"
      },
      "execution_count": null,
      "outputs": []
    }
  ],
  "metadata": {
    "colab": {
      "gpuType": "T4",
      "provenance": [],
      "toc_visible": true
    },
    "kernelspec": {
      "display_name": "Python 3 (ipykernel)",
      "language": "python",
      "name": "python3"
    },
    "language_info": {
      "codemirror_mode": {
        "name": "ipython",
        "version": 3
      },
      "file_extension": ".py",
      "mimetype": "text/x-python",
      "name": "python",
      "nbconvert_exporter": "python",
      "pygments_lexer": "ipython3",
      "version": "3.11.5"
    }
  },
  "nbformat": 4,
  "nbformat_minor": 0
}